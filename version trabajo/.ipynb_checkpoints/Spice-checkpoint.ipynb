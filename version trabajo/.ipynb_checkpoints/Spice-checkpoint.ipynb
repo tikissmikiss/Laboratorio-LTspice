{
 "cells": [
  {
   "cell_type": "code",
   "execution_count": 1,
   "metadata": {},
   "outputs": [
    {
     "name": "stderr",
     "output_type": "stream",
     "text": [
      "W: Locale appears not set! please export LANG=\"en_US.UTF-8\" or equivalent, \n",
      "W: or ahkab's unicode support is broken.\n"
     ]
    }
   ],
   "source": [
    "from sympy import solve, symbols, Eq\n",
    "from sympy.physics.units import kilo\n",
    "from sympy.physics.units import convert_to\n",
    "from sympy.physics.units import ohms, amperes, volts\n",
    "import ltspice\n",
    "import platform\n",
    "import ahkab\n",
    "import pylab as plt\n",
    "from IPython import get_ipython\n"
   ]
  },
  {
   "cell_type": "markdown",
   "metadata": {},
   "source": [
    "\n",
    "  # Objetivo del laboratorio\n",
    "  El objetivo de la presenta práctica es conocer el estándar de simulación de circuitos [SPICE](http://bwrcs.eecs.berkeley.edu/Classes/IcBook/SPICE) y realizar pequeñas simulaciones en corriente continua con el mismo. SPICE es una forma elegante y sencilla de codificar circuitos eléctricos de manera que puedan ser procesados por un ordenador. Mediante un sencillo lenguaje podemos definir resistencias, fuentes de alimentación, etc., las conexiones entre ellos y los resultados que deseamos obtener.\n",
    "\n",
    "  # El estándar SPICE\n",
    "  **SPICE** es una abreviabiación de *Simulation Program with Integrated Circtuit Emphasis*.\n",
    "  Se trata básicamente de un método estándar para describir circuitos usando texto plano en\n",
    "  lugar de una representación gráfica (o *esquemática*). A esta descripción en texto se\n",
    "  la llama también **netlist** y básicamente se corresponde con la *lista* de los componentes del circuito y cómo estos están conectados entre sí, es decir, de los nodos de unión.\n",
    "  Los ficheros netlist pueden tener extensiones `.cir`, `.net`, `.ckt`, ó `.sp` y es muy común encontrárselos con cualquiera de estas.\n",
    "\n",
    "  Existen en el mercado muchas variantes (intérpretes) de Spice, aunque el original fue descrito\n",
    "  en la Universidad de Berkeley. En la lista de intérpretes de Spice tenemos desde esfuerzos y proyectos comerciales hasta *open source* y regidos por distintas comunidades de usuarios y programadores.\n",
    "\n",
    " > **Pregunta:** Enumera todos los intérprete de Spice que puedas encontrar. Crea una tabla en Markdown con varias columnas (para el nombre, fabricante, versión actual, licencia y alguna característica sobresaliente). Aquí tienes un ejemplo del que puedes partir y seguir completando:\n",
    "\n",
    " | Intérprete | Licencia | Fabricante         | Características  |\n",
    " | ---------- | -------- | ------------------ | ---------------- |\n",
    " | Ahkab      | GPL      | Giuseppe Venturini | Basado en Python |\n",
    " |            |          |                    |                  |\n",
    " |            |          |                    |                  |\n",
    "\n",
    "\n",
    "  > **Pregunta:** ¿Qué comparación puedes efectuar entre C y Spice como estándares (lenguajes) y sus respectivas implementaciones en software? ¿Qué implementaciones reales (compiladores) del lenguaje C conoces?\n",
    "\n",
    "  ## Elementos de un netlist\n",
    "  Como acabamos de comentar, un netlist se corresponde con la codificación de los elementos electrónicos de un circuito y las uniones entre los mismos. Veamos con más concreción qué partes y secciones lo componen.\n",
    "\n",
    "  ## Comentarios\n",
    "\n",
    "  La primera línea de un netlist se corresponderá siempre con un comentario. A partir de esta línea se pueden introducir más comentarios pero tienen que ir siempre precedidos de un `*`. Ejemplo:\n",
    "\n",
    "  ```spice\n",
    "  Mi primer circuito\n",
    "  * Otro comentario\n",
    "  * más comentarios\n",
    "  *\n",
    "  ```\n",
    "\n",
    "  ## Dispositivos básicos de un circuito\n",
    "  Los elementos de un netlist son los mismos que encontramos en cualquier circuito eléctrico sencillo,\n",
    "  tales como resistencias, **condensadores**, **bobinas**, **interruptores**, **hilos** y **fuentes** de alimentación.\n",
    "  Para distinguir uno de otro, se reserva una letra característica: `V` para fuentes de alimentación, `R` para resistencias, `C` para condensadores y `L` para bobinas. También es posible usar estas letras en su versión en minúscula (`r`, `v`, `c`, `l`, etc.).\n",
    "  Después de esta letra característica se puede sufijar cualquier texto para diferenciar un elemento de otro (números, letras, palabras, etc.). Ejemplo:\n",
    "\n",
    "  ```\n",
    "  * Una resistencia\n",
    "  R1\n",
    "  *  Otra resistencia\n",
    "  R2\n",
    "  * Fuente de alimentación\n",
    "  V\n",
    "  * Un condensador\n",
    "  Cprincipal\n",
    "  ```\n",
    "\n",
    "  ## Conexiones\n",
    "  A continuación de indicar el elemento eléctrico, tenemos que informar a Spice cuáles\n",
    "  son los puntos de unión tanto a un lado como al otro del elemento.\n",
    "  Así es como Spice sabe qué está conectado a qué: porque comparten un **punto**\n",
    "  (o **nodo**, aunque este término se reserva sobretodo a uniones de más de dos elementos)\n",
    "  que hemos señalizado correctamente. Para nombrar nodos, lo mejor es emplear una\n",
    "  numeración secuencial: 0...n. **La enumeración de los puntos de unión es completamente\n",
    "  a nuestro criterio**.\n",
    "\n",
    "  ```\n",
    "  * Una resistencia\n",
    "  * entre cables 0 y 1\n",
    "  R1 0 1\n",
    "  ```\n",
    "\n",
    "  **Sólo es necesario seguir un criterio**: en el caso de una\n",
    "  fuente de alimentación, el nodo que pondremos primero será\n",
    "  aquel que está más cerca del *borne* positivo. Ejemplo:\n",
    "\n",
    "  ```spice\n",
    "  * Para una fuente indicamos primeramente conexión a nodo positivo.\n",
    "  v 2 3 type=vdc vdc=1\n",
    "  ```\n",
    "\n",
    " En el *caso de LTspice* no es necesario indicar los parámetros `type=vdc` y `vdc=X`, sino que si no se especifica nada, se supone que el último valor es el del voltaje a corriente continua:\n",
    "\n",
    " ```spice\n",
    " * Especificación de una fuente de alimentación de 10 V en corrient continua en el caso de LTspice\n",
    " v 0 1 10\n",
    " ```\n",
    "\n",
    " Aquí tienes un ejemplo gráfico de los componentes comentados justo arriba (resistencia y voltaje):\n",
    "\n",
    " ![](https://raw.githubusercontent.com/pammacdotnet/spicelab/master/resistencia%20y%20pila%20con%20nodos.svg?sanitize=true)\n",
    "\n",
    "  ## Unidades en SPICE\n",
    "\n",
    "  Las unidades de las magnitudes características del circuito son siempre [unidades\n",
    "  del Sistema Internacional](https://en.wikipedia.org/wiki/SI_electromagnetism_units) y no es necesario indicarlo explícitamente en el netlist.\n",
    "\n",
    "  La forma de especificar múltiplos de estas cantidades es añadiendo una letra.\n",
    "  Básicamente las que nos interesan y las que suelen aparecer mayoritariamente son `k` para \"kilo-,\" `m` para \"mili?\" y `u` para \"micro?\".\n",
    "\n",
    "  > **Pregunta:** Crea una tabla en Markdown con todos los prefijos de múltiplos que puedas, su abreviatura y su equivalencia numérica.\n",
    "\n",
    "  En el caso de las fuentes de alimentación hemos de especificar si se trata de corriente contínua (`vdc`) o alterna (`ac`).\n",
    "\n",
    "  ```\n",
    "  * Una resistencia de 5 Ohmios\n",
    "  R2 1 0 5\n",
    "  * Una pila de 10 Voltios (continua)\n",
    "  V1 1 0 type=vdc vdc=10\n",
    "  * Una resistencia de 5 kΩ\n",
    "  RX 2 4 5k\n",
    "  ```\n",
    "\n",
    "  > **Pregunta**: ¿qué unidades del Sistema Internacional relacionadas con la asignatura –y los circuitos en general– conoces? Responde aquí mismo en una celda de Markdown con una tabla.\n",
    "\n",
    "  ## Valores iniciales\n",
    "\n",
    "  Aparecen justo al final de la definición del componente (`ic`). Suelen aplicarse principalmente con condensadores.\n",
    "\n",
    "  ```\n",
    "  * Una condensador inicialmente no cargado\n",
    "  c 1 0 1u ic=0\n",
    "  ```\n",
    "\n",
    "  ## Fin del circuito\n",
    "\n",
    "  El fin de la descripción de un netlist se especifica mediante el\n",
    "  comando `.end`.\n",
    "\n",
    "  ```spice\n",
    "  * Mi primer circuito\n",
    "  V 1 0 vdc=10 type=vdc\n",
    "  R 1 0 5\n",
    "  * Fin del circuito\n",
    "  .end\n",
    "  ```\n",
    "\n",
    "\n",
    "  ## Comandos SPICE para circuitos en corriente continua\n",
    "\n",
    "  Además de la descripción del circuito, hemos de indicar al intérprete de Spice qué\n",
    "  tipo de análisis queremos realizar en sobre el mismo y cómo queremos presentar\n",
    "  la salida de la simulación. Los comandos en Spice empiezan por un `.` y suelen\n",
    "  escribirse justo al final del circuito, pero antes del comando `.end`.\n",
    "\n",
    "  ```\n",
    "   Mi primer circuito\n",
    "  * Aquí van los componentes\n",
    "  R 1 0 6k\n",
    "  ...\n",
    "  * Comandos\n",
    "  .op\n",
    "  ...\n",
    "  * Fin del circuito\n",
    "  .end\n",
    "  ```\n",
    "\n",
    "  > **Pregunta**: Hasta lo que has visto del lenguaje Spice, ¿dentro de qué tipo o conjunto de lenguajes encajaría? ¿Funcionales? ¿Específicos de dominio? ¿Procedurales? ¿Estructurados? ¿Orientado a Objetos ¿Funcionales? Justifica tu respuesta.\n",
    "\n",
    "  Veamos los principales comandos de simulación:\n",
    "\n",
    "  - `.op` es el comando más sencillo que podemos emplear en. Devuelve el voltaje e intensidad en cada ramal y componente del circuito. Este comando no necesita parámetros.\n",
    "  - `.dc` es uy parecido al comando `.op` pero nos permite cambiar el valor del voltaje de una fuente de alimentación en pasos consecutivos entre el valor A y el valor B.\n",
    "  En el caso de que la fuente tuviera asignada ya un valor para su voltaje, este sería ignorado. Ejemplo:\n",
    "\n",
    "\n",
    "  ```spice\n",
    "  * Variamos el valor del voltaje\n",
    "  * de la fuente \"v\" de 1 a 1000\n",
    "  * en pasos de 5 voltios\n",
    "  v 1 0 type=vdc vdc=10\n",
    "  .dc v 1 start=1 stop=1000 step=20\n",
    "  v2a 2 4 type=vdc vdc=9\n",
    "  * Igual para v2a. Se ignora su voltaje de 9V\n",
    "  .dc v2a start=0 stop=10 step=2\n",
    "  ```\n",
    "\n",
    "  - El comando `.tran` realiza un análisis en el tiempo de los parámetros del\n",
    "  circuito. Si no se emplea la directiva `uic` (*use initial conditions*) o esta es igual a cero, este análisis se realiza desde el punto estable de funcionamiento del circuito hasta un tiempo `tfinal`.\n",
    "  y en intervalos `tstep`. Si empleamos un varlor distinto para parámetro `uic`,\n",
    "  entonces se hará uso de las condiciones iniciales definidas para cada componente\n",
    "   (típicamente `ic=X` en el caso de los condensadores, que da cuenta de la carga incial que estos pudieran tener).\n",
    "\n",
    "\n",
    "  ```\n",
    "  * Hacemos avanzar el tiempo entre\n",
    "  * tinicial y tfinal en pasos tstep\n",
    "  .tran tstart=X tstop=Y tstep=Z uic=0/1/2/3\n",
    "  ```\n",
    "\n",
    "  `X`, `Y` y `Z` tienen, evidentemente unidades de tiempo en el S.I. (segundos).\n",
    "\n",
    "  > **Pregunta**: El parámetro `uic` puede tener varios valores y cada uno significa una cosa. Detállalo usando un celda Markdown y consultando la [documentación de Ahkab](https://buildmedia.readthedocs.org/media/pdf/ahkab/latest/ahkab.pdf).\n",
    "\n",
    "  ## Intérprete SPICE que vamos a usar: Ahkab\n",
    "  Tras un estándar siempre hay una o varias implementaciones. Ahkab no deja de ser una implmentación más en Python del estándar Spice.\n",
    "  > **Pregunta:** Comenta las distintas implementaciones de lenguajes y estándares que conozcas. Hazlo usando una tabla en Markdown. [Aquí](https://www.markdownguide.org/extended-syntax/#tables) tienes un poco de ayuda (aunque antes ya se ha puesto el ejemplo de una tabla).\n",
    "\n",
    "  > **Pregunta:** Describe brevemente este software (creador, objetivos, versiones, licencia, características principales, dependencias, etc.).\n",
    "\n",
    "  # Trabajo práctico\n",
    "  Muy bien, ahora toca definir circuitos y ejecutar simulaciones sobre los mismos gracias a Ahkab.\n",
    "  ## Instalación de bibliotecas necesarias\n",
    "  Si estás utilizando Anaconda, asegúrate de tener su entorno activado:\n",
    "\n",
    "  ```cmd\n",
    "  C:\\> conda activate base (en el caso de Windows)\n",
    "  ```\n",
    "  ó\n",
    "\n",
    "  ```bash\n",
    "  $ source /usr/local/Caskroom/miniconda/base/bin/activate (en el caso de macOS)\n",
    "  ```\n",
    "\n",
    " En el caso de Windows tienes que tener en el PATH el directorio donde se encuentre el comando `conda` (visita la sección de [Environment Variables](https://superuser.com/questions/949560/how-do-i-set-system-environment-variables-in-windows-10) del [Panel de Control](https://www.digitalcitizen.life/8-ways-start-control-panel-windows-10)). Si has instalado Anaconda con [esta opción](https://docs.anaconda.com/_images/win-install-options.png) marcada, ya no tienes que preocuparte por ello.\n",
    "\n",
    " En el caso de usar Visual Studio Code, este puede encontrar automáticamente la distintas distribuciones de Python que tengamos instaladas y si abrimos un terminal, este se adaptará automáticamente al entorno Python que hayamos seleccionado. La configuración de Python en VS Code está bien explicada su [documentación](https://code.visualstudio.com/docs/python/python-tutorial).\n",
    "\n",
    " ![](https://raw.githubusercontent.com/microsoft/vscode-python/main/images/InterpreterSelectionZoom.gif)\n",
    "\n",
    " Ahora ya puedes instalar Ahkab:\n",
    "\n",
    "  ```\n",
    "  (base) $ pip install ahkab\n",
    "  ```"
   ]
  },
  {
   "cell_type": "markdown",
   "metadata": {},
   "source": [
    " También puedes instalar Ahkab directamente desde este mismo notebook:"
   ]
  },
  {
   "cell_type": "code",
   "execution_count": 2,
   "metadata": {},
   "outputs": [
    {
     "name": "stdout",
     "output_type": "stream",
     "text": [
      "Requirement already satisfied: ahkab in c:\\users\\joseh\\scoop\\apps\\miniconda3\\current\\lib\\site-packages (0.18)\n",
      "Requirement already satisfied: tabulate>=0.7.3 in c:\\users\\joseh\\scoop\\apps\\miniconda3\\current\\lib\\site-packages (from ahkab) (0.8.7)\n",
      "Requirement already satisfied: numpy>1.7.0 in c:\\users\\joseh\\scoop\\apps\\miniconda3\\current\\lib\\site-packages (from ahkab) (1.19.1)\n",
      "Requirement already satisfied: scipy>=0.14.0 in c:\\users\\joseh\\scoop\\apps\\miniconda3\\current\\lib\\site-packages (from ahkab) (1.5.4)\n",
      "Requirement already satisfied: sympy>=0.7.6 in c:\\users\\joseh\\scoop\\apps\\miniconda3\\current\\lib\\site-packages (from ahkab) (1.6.2)\n",
      "Requirement already satisfied: mpmath>=0.19 in c:\\users\\joseh\\scoop\\apps\\miniconda3\\current\\lib\\site-packages (from sympy>=0.7.6->ahkab) (1.1.0)\n"
     ]
    }
   ],
   "source": [
    "get_ipython().system('pip install ahkab')\n"
   ]
  },
  {
   "cell_type": "markdown",
   "metadata": {},
   "source": [
    "\n",
    "  Como siempre, una vez instalado cualquier framework para Python, ya lo podemos utilizar, tanto desde el [REPL](https://en.wikipedia.org/wiki/Read–eval–print_loop) como desde un entorno Jupyter (Jupyter, [Jupyterlab](http://jupyterlab.readthedocs.io/en/stable/), VS Code o nteract). Recuerda que para usar el kernel Python (que viene con Anaconda) desde nteract debes seguir las instrucciones que se indican en su [documentación oficial](https://nteract.io/kernels)."
   ]
  },
  {
   "cell_type": "markdown",
   "metadata": {},
   "source": [
    " Como vamos a pintar algunas gráficas, necesitamos instlar [matplotlib](https://matplotlib.org). Al igual que con Ahkab, esto lo podemos hacer directamente desde este mismo notebook. Si hemos usado Anaconda:"
   ]
  },
  {
   "cell_type": "code",
   "execution_count": 3,
   "metadata": {},
   "outputs": [
    {
     "name": "stdout",
     "output_type": "stream",
     "text": [
      "Collecting package metadata (current_repodata.json): ...working... done\n",
      "Solving environment: ...working... done\n",
      "\n",
      "# All requested packages already installed.\n",
      "\n"
     ]
    }
   ],
   "source": [
    "get_ipython().system('conda install -y -c conda-forge matplotlib')\n",
    "\n"
   ]
  },
  {
   "cell_type": "markdown",
   "metadata": {},
   "source": [
    "  > **Pregunta:** ¿Qué es y para qué sirve PyLab?\n",
    "\n",
    "  ## Circuitos sencillos para trabjar con la ley de Ohm:\n",
    "\n",
    "  La *mal llamada* ley de Ohm reza que el voltaje (la *energía por unidad de carga*) que se disipa en un tramo de un circuito eléctrico es equivalente a la intensidad ($I$) de la corriente (es decir, cuántos electrones circulan por unidad de tiempo) por la resistencia del material ($R$) en el que está desplazándose dicha corriente. Matemáticamente:\n",
    "\n",
    "  $$\n",
    "  V = I\\cdot R\n",
    "  $$\n",
    "\n",
    "  > **Pregunta:** comprueba que la ecuación anterior está ajustada a nivel dimensional, es decir, que la naturaleza de lo que está a ambos lados del signo igual es la misma. Realiza este ejercicio con LaTeX en una celda Markdown.\n",
    "\n",
    "  Comencemos con el circuito más sencillo posible de todos:\n",
    "\n",
    "  ![](https://raw.githubusercontent.com/pammacdotnet/spicelab/master/primer%20circuito.svg?sanitize=true)\n",
    "\n",
    "  Vamos a escribir su contenido (componentes o *netlist*) en disco con el nombre `circuito sencillo.sp`. Esto lo podemos lograr directamente y en tiempo real desde una celda de Jupyter gracias a los *comandos mágicos* de este entorno de programación literaria. En concreto vamos a utilizar `%%writefile` que guarda los contenidos de una celda como un fichero."
   ]
  },
  {
   "cell_type": "code",
   "execution_count": 4,
   "metadata": {},
   "outputs": [
    {
     "name": "stdout",
     "output_type": "stream",
     "text": [
      "Overwriting circuito sencillo.sp\n"
     ]
    }
   ],
   "source": [
    "get_ipython().run_cell_magic('writefile', '\"circuito sencillo.sp\"',\n",
    "                             '* Este es un circuito sencillo\\nr1 1 0 10\\nv1 0 1 type=vdc vdc=9\\n.op\\n.dc v1 start=0 stop=9 step=1\\n.end')\n"
   ]
  },
  {
   "cell_type": "markdown",
   "metadata": {},
   "source": [
    " Ahora vamos a leer su descripción con Ahkab, interpretar y ejecutar las simulaciones que en él estén descritas."
   ]
  },
  {
   "cell_type": "code",
   "execution_count": 5,
   "metadata": {},
   "outputs": [],
   "source": [
    "circuito_y_análisis = ahkab.netlist_parser.parse_circuit(\n",
    "    'circuito sencillo.sp')\n"
   ]
  },
  {
   "cell_type": "markdown",
   "metadata": {},
   "source": [
    "  Separamos la información del netlist (componentes) de los análisis (uno de tipo `op` y otro de tipo `dc`):"
   ]
  },
  {
   "cell_type": "code",
   "execution_count": 6,
   "metadata": {},
   "outputs": [
    {
     "name": "stdout",
     "output_type": "stream",
     "text": [
      "[{'type': 'op', 'guess': True, 'x0': None}, {'type': 'dc', 'source': 'v1', 'start': 0.0, 'stop': 9.0, 'step': 1.0, 'sweep_type': 'LIN'}]\n"
     ]
    }
   ],
   "source": [
    "circuito = circuito_y_análisis[0]\n",
    "análisis_en_netlist = circuito_y_análisis[1]\n",
    "lista_de_análisis = ahkab.netlist_parser.parse_analysis(\n",
    "    circuito, análisis_en_netlist)\n",
    "print(lista_de_análisis)\n"
   ]
  },
  {
   "cell_type": "markdown",
   "metadata": {},
   "source": [
    " > **Pregunta:** ¿qué tipo de estructura de Python es `lista_de_análisis`?\n",
    "\n",
    "  Las simulaciones que implican listas de datos (`.dc`, `.tran`, etc.) necesitan de un fichero temporal (`outfile`)\n",
    "  donde almacenar los resultados. Para ello tenemos que definir la propiedad `outfile`."
   ]
  },
  {
   "cell_type": "code",
   "execution_count": 7,
   "metadata": {},
   "outputs": [],
   "source": [
    "lista_de_análisis[1]['outfile'] = \"simulación dc.tsv\"\n"
   ]
  },
  {
   "cell_type": "markdown",
   "metadata": {},
   "source": [
    "  > **Pregunta:** escribe el código Python necesario para identificar qué análisis de `lista_de_análisis`\n",
    "  son de tipo `dc` ó `tran` y sólo añadir la propiedad `outfile` en estos casos.\n",
    " Aquí tenéis un post de Stackoverflow con algo de [ayuda](https://stackoverflow.com/questions/49194107/how-to-find-index-of-a-dictionary-key-value-within-a-list-python).\n",
    "  Un poco más de ayuda: el siguiente código (sí, una única línea) devuelve el índice de la simulación que es de tipo `dc`. Para simplificar un poco el ejercicio, suponed que, como máximo, habrá un análisis de tipo `tran` y/o `dc`."
   ]
  },
  {
   "cell_type": "code",
   "execution_count": 8,
   "metadata": {},
   "outputs": [
    {
     "data": {
      "text/plain": [
       "1"
      ]
     },
     "execution_count": 8,
     "metadata": {},
     "output_type": "execute_result"
    }
   ],
   "source": [
    "[i for i, d in enumerate(lista_de_análisis) if \"dc\" in d.values()][0]\n"
   ]
  },
  {
   "cell_type": "markdown",
   "metadata": {},
   "source": [
    " Una vez que ya hemos separado netlists de simulaciones, ahora ejecutamos las segundas (¡todas a la vez!) gracias al método `.run` de Ahkab:"
   ]
  },
  {
   "cell_type": "code",
   "execution_count": 9,
   "metadata": {},
   "outputs": [
    {
     "name": "stdout",
     "output_type": "stream",
     "text": [
      "Starting op analysis:\n",
      "Calculating guess: skipped. (linear circuit)\n",
      "Solving...   done.\n",
      "Solving...   done.\n",
      "Difference check within margins.\n",
      "(Voltage: er=0.001, ea=1e-06, Current: er=0.001, ea=1e-09)\n",
      "Starting DC analysis:\n",
      "Solving...  done\n"
     ]
    }
   ],
   "source": [
    "resultados = ahkab.run(circuito, lista_de_análisis)\n"
   ]
  },
  {
   "cell_type": "markdown",
   "metadata": {},
   "source": [
    " ### Resultados de la simulación `.dc`\n",
    " Imprimimos información sobre la simulación de tipo `.dc`:"
   ]
  },
  {
   "cell_type": "code",
   "execution_count": 10,
   "metadata": {},
   "outputs": [
    {
     "name": "stdout",
     "output_type": "stream",
     "text": [
      "<DC simulation results for '* este es un circuito sencillo' (netlist circuito sencillo.sp). LIN sweep of V1 from 0 to 9 V. Run on 2020-12-17 10:11:04, data file simulación dc.tsv>\n"
     ]
    }
   ],
   "source": [
    "print(resultados['dc'])\n"
   ]
  },
  {
   "cell_type": "markdown",
   "metadata": {},
   "source": [
    "  Veamos qué variables podemos dibujar para el caso del análisis `dc`."
   ]
  },
  {
   "cell_type": "code",
   "execution_count": 11,
   "metadata": {},
   "outputs": [
    {
     "name": "stdout",
     "output_type": "stream",
     "text": [
      "['V1', 'V1', 'I(V1)']\n"
     ]
    }
   ],
   "source": [
    "print(resultados['dc'].keys())\n"
   ]
  },
  {
   "cell_type": "markdown",
   "metadata": {},
   "source": [
    " Y ahora graficamos el resultado del análisis anterior. Concretamente vamos a representar el voltaje en el borne 1 (`V1`) con respecto a la intensidad del circuito (`I(V1)`)."
   ]
  },
  {
   "cell_type": "code",
   "execution_count": 12,
   "metadata": {},
   "outputs": [
    {
     "data": {
      "text/plain": [
       "[<matplotlib.lines.Line2D at 0x1bd5eee7888>]"
      ]
     },
     "execution_count": 12,
     "metadata": {},
     "output_type": "execute_result"
    },
    {
     "data": {
      "image/png": "[encoded data removed]",
      "text/plain": [
       "<Figure size 432x288 with 1 Axes>"
      ]
     },
     "metadata": {
      "needs_background": "light"
     },
     "output_type": "display_data"
    }
   ],
   "source": [
    "figura = plt.figure()\n",
    "plt.title(\"Prueba DC\")\n",
    "plt.plot(resultados['dc']['V1'], resultados['dc']\n",
    "         ['I(V1)'], label=\"Voltaje (V1)\")\n"
   ]
  },
  {
   "cell_type": "markdown",
   "metadata": {},
   "source": [
    " > **Pregunta:** comenta la gráfica anterior… ¿qué estamos viendo exactamente? Etiqueta los ejes de la misma convenientemente. Así como ningún número puede *viajar* solo sin hacer referencia a su naturaleza, ninguna gráfica puede estar sin sus ejes convenientemente etiquetados. Algo de [ayuda](https://matplotlib.org/3.1.0/gallery/pyplots/fig_axes_labels_simple.html). ¿Qué biblioteca estamos usando para graficar? Una [pista](https://matplotlib.org)."
   ]
  },
  {
   "cell_type": "markdown",
   "metadata": {},
   "source": [
    "  ### Resultados de la simulación `.op`\n",
    "  El método `.results` nos devuelve un diccionario con los resultados de la simulación."
   ]
  },
  {
   "cell_type": "code",
   "execution_count": 13,
   "metadata": {},
   "outputs": [
    {
     "name": "stdout",
     "output_type": "stream",
     "text": [
      "{V1: -9.0, I(V1): -0.9}\n"
     ]
    }
   ],
   "source": [
    "print(resultados['op'].results)\n"
   ]
  },
  {
   "cell_type": "markdown",
   "metadata": {},
   "source": [
    "  > **Pregunta:** justifica el sencillo resultado anterior (análisis `op`). Repite el cálculo con Sympy, atendiendo con mimo a las unidades y al formateo de los resultados (tal y como hemos visto en muchos otros notebooks en clase)."
   ]
  },
  {
   "cell_type": "markdown",
   "metadata": {},
   "source": [
    " ## Resolución del mismo circuito pero con LTspice\n",
    " ¿Cómo? ¿Es esto posible? ¿Desde Jupyter? Sí!!! Pero primero, por comodidad, deberíamos crear un alias del comando que apunte a nuestro ejecutable. Además, con un poco de inteligencia, podemos adelantarnos al hecho de si estamos en Windows o macOS:"
   ]
  },
  {
   "cell_type": "code",
   "execution_count": 14,
   "metadata": {},
   "outputs": [],
   "source": [
    "get_ipython().run_line_magic(\n",
    "    'alias', 'lts /Applications/LTspice.app/Contents/MacOS/LTspice -ascii -b')\n",
    "if platform.system() == \"Windows\":\n",
    "    get_ipython().run_line_magic(\n",
    "        'alias', 'lts \"C:\\\\Program Files\\\\LTC\\\\LTspiceXVII\\\\XVIIx64.exe\" -ascii -b')\n"
   ]
  },
  {
   "cell_type": "markdown",
   "metadata": {},
   "source": [
    " **Pregunta**: ¿Qué significan las opciones `-b` y `-ascii`? Algo de ayuda [aquí](http://ltwiki.org/LTspiceHelp/LTspiceHelp/Command_Line_Switches.htm)."
   ]
  },
  {
   "cell_type": "markdown",
   "metadata": {},
   "source": [
    " También tenemos que cambiar ligeramente la sintaxis. Ejecuta esta línea para que se escriba el fichero siguiente. Para LTspice, vamos a reservar la extensión `.net`:"
   ]
  },
  {
   "cell_type": "code",
   "execution_count": 15,
   "metadata": {},
   "outputs": [
    {
     "name": "stdout",
     "output_type": "stream",
     "text": [
      "Overwriting circuito sencillo.net\n"
     ]
    }
   ],
   "source": [
    "get_ipython().run_cell_magic('writefile', '\"circuito sencillo.net\"',\n",
    "                             '* Este es un circuito sencillo adaptado para LTspice\\nr1 1 0 100\\nv1 0 1 9\\n.op\\n* Comentamos el análisis .dc para centrarnos primero en el .op\\n* .dc v1 1 10 \\n.end')\n"
   ]
  },
  {
   "cell_type": "markdown",
   "metadata": {},
   "source": [
    " Ejecutamos LTspice con el circuito (de la misma manera que antes habíamos hecho con Ahkab)."
   ]
  },
  {
   "cell_type": "code",
   "execution_count": 16,
   "metadata": {},
   "outputs": [],
   "source": [
    "lts \"circuito sencillo.net\"\n"
   ]
  },
  {
   "cell_type": "markdown",
   "metadata": {},
   "source": [
    " Veamos el contenido de la simulación."
   ]
  },
  {
   "cell_type": "code",
   "execution_count": 17,
   "metadata": {},
   "outputs": [],
   "source": [
    "get_ipython().run_line_magic('pycat', 'circuito sencillo.log')\n"
   ]
  },
  {
   "cell_type": "markdown",
   "metadata": {},
   "source": [
    " Ahora repitamos lo mismo para el análisis `.dc`:"
   ]
  },
  {
   "cell_type": "code",
   "execution_count": 18,
   "metadata": {},
   "outputs": [
    {
     "name": "stdout",
     "output_type": "stream",
     "text": [
      "Overwriting circuito sencillo.net\n"
     ]
    }
   ],
   "source": [
    "get_ipython().run_cell_magic('writefile', '\"circuito sencillo.net\"',\n",
    "                             '* Este es un circuito sencillo adaptado para LTspice\\nr1 1 0 100\\nv1 0 1 9\\n* Ahora obviamos el análisis .op\\n* .op\\n.dc v1 1 10 \\n.end')\n",
    "\n"
   ]
  },
  {
   "cell_type": "code",
   "execution_count": 19,
   "metadata": {},
   "outputs": [],
   "source": [
    "lts \"circuito sencillo.net\"\n"
   ]
  },
  {
   "cell_type": "markdown",
   "metadata": {},
   "source": [
    " Al ejecutar esta simulación, se genera un fichero `.raw` con los resultados. Es muy parecido al `outfile` que hemos empleado antes con Ahkab. Para leer este fichero, tenemos que usar el paquete [ltspice de Python](https://github.com/DongHoonPark/ltspice_pytool), el cual podéis instalar directamente desde Jupyter:"
   ]
  },
  {
   "cell_type": "code",
   "execution_count": 20,
   "metadata": {},
   "outputs": [
    {
     "name": "stdout",
     "output_type": "stream",
     "text": [
      "Requirement already satisfied: ltspice in c:\\users\\joseh\\scoop\\apps\\miniconda3\\current\\lib\\site-packages (1.0.0)\n",
      "Requirement already satisfied: numpy in c:\\users\\joseh\\scoop\\apps\\miniconda3\\current\\lib\\site-packages (from ltspice) (1.19.1)\n"
     ]
    }
   ],
   "source": [
    "get_ipython().system('pip install ltspice')\n"
   ]
  },
  {
   "cell_type": "markdown",
   "metadata": {},
   "source": [
    " Ahora ya podemos leer este fichero `.raw` y pintar una recta de voltaje muy parecida a la que obtuvimos anteriormente con Ahkab:"
   ]
  },
  {
   "cell_type": "code",
   "execution_count": 21,
   "metadata": {},
   "outputs": [
    {
     "data": {
      "text/plain": [
       "[<matplotlib.lines.Line2D at 0x1bd5f828fc8>]"
      ]
     },
     "execution_count": 21,
     "metadata": {},
     "output_type": "execute_result"
    },
    {
     "data": {
      "image/png": "[encoded data removed]",
      "text/plain": [
       "<Figure size 432x288 with 1 Axes>"
      ]
     },
     "metadata": {
      "needs_background": "light"
     },
     "output_type": "display_data"
    }
   ],
   "source": [
    "l = ltspice.Ltspice(\"circuito sencillo.raw\")\n",
    "l.parse()\n",
    "tiempo = l.get_time()\n",
    "voltaje = l.get_data('V(1)')\n",
    "corriente = l.get_data('I(V1)')\n",
    "# Podemos pintar la corrente en función del tiempo\n",
    "# plt.plot(tiempo, corriente)\n",
    "# O el voltaje\n",
    "plt.plot(tiempo, voltaje)\n"
   ]
  },
  {
   "cell_type": "markdown",
   "metadata": {},
   "source": [
    " ** En resumen: ** hemos usado dos *compiladores* Spice distintos para hacer el mismo ejercicio. De igual manera podríamos haber usado [Ngspice](http://ngspice.sourceforge.net) u otro. De hecho, podíamos haber usado Ahkab en modo comando. Si tenemos correctamente instalado este framework, en princpio podemos invocarlo [directamente desde línea de comandos](https://ahkab.readthedocs.io/en/latest/help/Command-Line-Help.html):"
   ]
  },
  {
   "cell_type": "code",
   "execution_count": 22,
   "metadata": {},
   "outputs": [
    {
     "name": "stdout",
     "output_type": "stream",
     "text": [
      "2020-12-17 10:11:12"
     ]
    },
    {
     "name": "stderr",
     "output_type": "stream",
     "text": [
      "W: Locale appears not set! please export LANG=\"en_US.UTF-8\" or equivalent, \n",
      "W: or ahkab's unicode support is broken.\n"
     ]
    },
    {
     "name": "stdout",
     "output_type": "stream",
     "text": [
      "\n",
      "ahkab v. 0.18 (c) 2006-2015 Giuseppe Venturini\n",
      "\n",
      "Operating Point (OP) analysis\n",
      "\n",
      "Netlist: circuito sencillo.sp\n",
      "Title: * este es un circuito sencillo\n",
      "At 300.00 K\n",
      "Options:\n",
      "\tvea = 1.000000e-06\n",
      "\tver = 0.001000\n",
      "\tiea = 1.000000e-09\n",
      "\tier = 0.001000\n",
      "\tgmin = 0.000000e+00\n",
      "\n",
      "Convergence reached in 2 iterations.\n",
      "\n",
      "========\n",
      "RESULTS:\n",
      "========\n",
      "\n",
      "Variable    Units      Value        Error    %\n",
      "----------  -------  -------  -----------  ---\n",
      "V1          V           -9    9.00002e-12    0\n",
      "I(V1)       A           -0.9  0              0\n",
      "\n",
      "========================\n",
      "ELEMENTS OP INFORMATION:\n",
      "========================\n",
      "\n",
      "Part ID      R [Ω]    V(n1,n2) [V]    I(n1->n2) [A]    P [W]\n",
      "---------  -------  --------------  ---------------  -------\n",
      "R1              10              -9             -0.9      8.1\n",
      "\n",
      "Part ID      V(n1,n2) [V]    I(n1->n2) [A]    P [W]\n",
      "---------  --------------  ---------------  -------\n",
      "V1                      9             -0.9     -8.1\n",
      "\n",
      "Total power dissipation: 8.1 W\n",
      "\n",
      "#V1\tV1\tI(V1)\n",
      "0.000000000000000000e+00\t0.000000000000000000e+00\t0.000000000000000000e+00\n",
      "1.000000000000000000e+00\t-1.000000000000000000e+00\t-1.000000000000000056e-01\n",
      "2.000000000000000000e+00\t-2.000000000000000000e+00\t-2.000000000000000111e-01\n",
      "3.000000000000000000e+00\t-3.000000000000000000e+00\t-3.000000000000000444e-01\n",
      "4.000000000000000000e+00\t-4.000000000000000000e+00\t-4.000000000000000222e-01\n",
      "5.000000000000000000e+00\t-5.000000000000000000e+00\t-5.000000000000000000e-01\n",
      "6.000000000000000000e+00\t-6.000000000000000000e+00\t-6.000000000000000888e-01\n",
      "7.000000000000000000e+00\t-7.000000000000000000e+00\t-7.000000000000000666e-01\n",
      "8.000000000000000000e+00\t-8.000000000000000000e+00\t-8.000000000000000444e-01\n",
      "9.000000000000000000e+00\t-9.000000000000000000e+00\t-9.000000000000000222e-01\n"
     ]
    }
   ],
   "source": [
    "get_ipython().system('ahkab \"circuito sencillo.sp\"')\n"
   ]
  },
  {
   "cell_type": "markdown",
   "metadata": {},
   "source": [
    " **Ejercicio premium**: Graficar los datos anteriores con [Gnuplot](http://www.gnuplot.info)."
   ]
  },
  {
   "cell_type": "markdown",
   "metadata": {},
   "source": [
    "  ## Análisis de circuito con resistencias en serie"
   ]
  },
  {
   "cell_type": "markdown",
   "metadata": {},
   "source": [
    " Vamos a resolver (en punto de operación) el siguiente circuito:\n",
    "\n",
    " ![](https://raw.githubusercontent.com/pammacdotnet/spicelab/master/resistencias%20en%20serie.svg?sanitize=true)\n",
    "\n",
    " Al igual que antes, grabamos el netlist en disco desde Jupyter gracias a la *palabra mágica* [`%writefile`](https://ipython.readthedocs.io/en/stable/interactive/magics.html#cellmagic-writefile). Más info [aquí](https://ipython.readthedocs.io/en/stable/interactive/magics.html#cellmagic-writefile)."
   ]
  },
  {
   "cell_type": "code",
   "execution_count": 23,
   "metadata": {},
   "outputs": [
    {
     "name": "stdout",
     "output_type": "stream",
     "text": [
      "Overwriting resistencias en serie.net\n"
     ]
    }
   ],
   "source": [
    "get_ipython().run_cell_magic('writefile', '\"resistencias en serie.net\"',\n",
    "                             '* circuito con tres resistencias en serie\\nv1 1 0 type=vdc vdc=9\\nR1 0 2 3k\\nR2 2 3 10k  \\nR3 3 1 5k\\n* análisis del circuito\\n.op\\n.end')\n",
    "\n"
   ]
  },
  {
   "cell_type": "code",
   "execution_count": 24,
   "metadata": {},
   "outputs": [
    {
     "name": "stdout",
     "output_type": "stream",
     "text": [
      "Starting op analysis:\n",
      "Calculating guess: skipped. (linear circuit)\n",
      "Solving...   done.\n",
      "Solving...   done.\n",
      "Difference check within margins.\n",
      "(Voltage: er=0.001, ea=1e-06, Current: er=0.001, ea=1e-09)\n"
     ]
    }
   ],
   "source": [
    "circuito_y_análisis = ahkab.netlist_parser.parse_circuit(\n",
    "    'resistencias en serie.net')\n",
    "circuito = circuito_y_análisis[0]\n",
    "análisis_en_netlist = circuito_y_análisis[1]\n",
    "lista_de_análisis = ahkab.netlist_parser.parse_analysis(\n",
    "    circuito, análisis_en_netlist)\n",
    "resultados = ahkab.run(circuito, lista_de_análisis)\n"
   ]
  },
  {
   "cell_type": "markdown",
   "metadata": {},
   "source": [
    " Imprimos los resultados del análisis `.op`:"
   ]
  },
  {
   "cell_type": "code",
   "execution_count": 25,
   "metadata": {},
   "outputs": [
    {
     "name": "stdout",
     "output_type": "stream",
     "text": [
      "OP simulation results for '* circuito con tres resistencias en serie'(netlist resistencias en serie.net).\n",
      "Run on 2020-12-17 10:11:13, data file None.\n",
      "Variable    Units      Value     Error    %\n",
      "----------  -------  -------  --------  ---\n",
      "V1          V         9       -9e-12      0\n",
      "V2          V         1.5     -1.5e-12    0\n",
      "V3          V         6.5     -6.5e-12    0\n",
      "I(V1)       A        -0.0005   0          0\n"
     ]
    }
   ],
   "source": [
    "print(resultados['op'])\n"
   ]
  },
  {
   "cell_type": "markdown",
   "metadata": {},
   "source": [
    " Los cantidades `V1`, `V2` y `V3` hacen referencia a los distintos valores del potencial que se ha perdido en cada uno de los bornes que has elegido para describir el netlist (`1`, `2`, etc.). Por ejemplo, podemos calcular el *potencial consumido* por la resistencia `R1` y verás que coincide con el del punto `V2` devuelto por Ahkab. **Ejercicio**: compruébalo tú mismo y refléjalo por escrito."
   ]
  },
  {
   "cell_type": "markdown",
   "metadata": {},
   "source": [
    " Cargamos primero todo lo relacionado con Sympy:"
   ]
  },
  {
   "cell_type": "code",
   "execution_count": null,
   "metadata": {},
   "outputs": [],
   "source": [
    "\n"
   ]
  },
  {
   "cell_type": "code",
   "execution_count": 26,
   "metadata": {},
   "outputs": [
    {
     "data": {
      "text/latex": [
       "$\\displaystyle - 1.5 \\text{V}$"
      ],
      "text/plain": [
       "-1.5*volt"
      ]
     },
     "execution_count": 26,
     "metadata": {},
     "output_type": "execute_result"
    }
   ],
   "source": [
    "r1 = 3E3*ohms\n",
    "intensidad_ahkab = resultados['op']['I(V1)'][0][0]*amperes\n",
    "v2 = convert_to(intensidad_ahkab*r1, [volts])\n",
    "v2\n"
   ]
  },
  {
   "cell_type": "markdown",
   "metadata": {},
   "source": [
    "  > **Pregunta**: reproduce el resto de los valores anteriores de manera *manual* mediante Sympy (es decir, aplicando la ley de Ohm, pero con un *toque computacional*). Te pongo aquí un ejemplo del que puedes partir… En él sólo calculo la corriente que circula por el circuito (sí, justo la que antes Ahkab ha devuelto de manera automática). Para ello necesito previamente computar la resistencia total (`r_total`). Faltarían el resto de resultados y convertirlos a unidades más *vistosas* (mediante la orden `convert_to` y `.n()`)."
   ]
  },
  {
   "cell_type": "code",
   "execution_count": 27,
   "metadata": {},
   "outputs": [
    {
     "data": {
      "text/latex": [
       "$\\displaystyle 0.0005 \\text{A}$"
      ],
      "text/plain": [
       "0.0005*ampere"
      ]
     },
     "execution_count": 27,
     "metadata": {},
     "output_type": "execute_result"
    }
   ],
   "source": [
    "v1 = 9*volts\n",
    "r1 = 3*kilo*ohms\n",
    "r2 = 10*kilo*ohms\n",
    "r3 = 5*kilo*ohms\n",
    "r_total = r1 + r2 + r3\n",
    "intensidad = symbols('i')\n",
    "ley_ohm = Eq(v1, intensidad*r_total)\n",
    "solucion_para_intensidad = solve(ley_ohm, intensidad)\n",
    "convert_to(solucion_para_intensidad[0], [amperes]).n(2)\n"
   ]
  },
  {
   "cell_type": "markdown",
   "metadata": {},
   "source": [
    " > **Pregunta**: Demuestra que se cumple la Ley de Kirchhoff de la energía en un circuito, es decir, que la suma de la energía suministrada por las fuentes (pilas) es igual a la consumida por las resistencias. Realiza la operación con Sympy.\n",
    "\n",
    " $$\n",
    " \\sum_i^N V_{\\text{fuentes}} = \\sum_j^M V_{\\text{consumido en resistencias}}\n",
    " $$\n",
    "\n",
    " Ten en cuenta que en este caso sólo hay una fuente."
   ]
  },
  {
   "cell_type": "markdown",
   "metadata": {},
   "source": [
    " ## Análisis `.op` de circuitos con resistencias en paralelo\n",
    "\n",
    " Vamos a complicar un poco el trabajo añadiendo elementos en paralelo.\n",
    "\n",
    "  > **Pregunta**: realiza los análisis `.op` de los siguientes circuitos.\n",
    "  Para ello crea un netlist separado para cada uno donde queden correctamente descritos\n",
    "  junto con la simulación (`.op`). Comenta los resultados que devuelve Ahkab (no imprimas los resultados de las simulaciones *sin más*).\n",
    "\n",
    "  ![](https://raw.githubusercontent.com/pammacdotnet/spicelab/master/resistencias%20en%20paralelo.svg?sanitize=true)\n",
    "\n",
    "  Aquí tienes el análisis del primer circuito, para que sirva de ejemplo:"
   ]
  },
  {
   "cell_type": "code",
   "execution_count": 28,
   "metadata": {},
   "outputs": [
    {
     "name": "stdout",
     "output_type": "stream",
     "text": [
      "Overwriting resistencias en paralelo 1.cir\n"
     ]
    }
   ],
   "source": [
    "get_ipython().run_cell_magic('writefile', '\"resistencias en paralelo 1.cir\"',\n",
    "                             '* resistencias en paralelo\\nvdd 0 1 vdc=12 type=vdc\\nr2 1 2 1k\\nr3 2 3 220\\nr4 3 0 1.5k\\nr5 2 0 470\\n.op\\n.end')\n",
    "\n"
   ]
  },
  {
   "cell_type": "code",
   "execution_count": 29,
   "metadata": {},
   "outputs": [
    {
     "name": "stdout",
     "output_type": "stream",
     "text": [
      "Starting op analysis:\n",
      "Calculating guess: skipped. (linear circuit)\n",
      "Solving...   done.\n",
      "Solving...   done.\n",
      "Difference check within margins.\n",
      "(Voltage: er=0.001, ea=1e-06, Current: er=0.001, ea=1e-09)\n"
     ]
    }
   ],
   "source": [
    "circuito_y_análisis = ahkab.netlist_parser.parse_circuit(\n",
    "    'resistencias en paralelo 1.cir')\n",
    "circuito = circuito_y_análisis[0]\n",
    "análisis_en_netlist = circuito_y_análisis[1]\n",
    "lista_de_análisis = ahkab.netlist_parser.parse_analysis(\n",
    "    circuito, análisis_en_netlist)\n",
    "resultados = ahkab.run(circuito, lista_de_análisis)\n"
   ]
  },
  {
   "cell_type": "markdown",
   "metadata": {},
   "source": [
    " Imprimimos los resultados del análisis `.op`. Como puedes comprobar, Ahkab sólo reporta la intensidad de corriente en las ramas en las que hay una pila (en este caso, la rama donde está la pila `VDD`)."
   ]
  },
  {
   "cell_type": "code",
   "execution_count": 30,
   "metadata": {},
   "outputs": [
    {
     "name": "stdout",
     "output_type": "stream",
     "text": [
      "OP simulation results for '* resistencias en paralelo'(netlist resistencias en paralelo 1.cir).\n",
      "Run on 2020-12-17 10:11:13, data file None.\n",
      "Variable    Units           Value        Error    %\n",
      "----------  -------  ------------  -----------  ---\n",
      "V1          V        -12           1.2e-11        0\n",
      "V2          V         -3.23533     3.23532e-12    0\n",
      "V3          V         -2.8215      2.82151e-12    0\n",
      "I(VDD)      A         -0.00876467  0              0\n"
     ]
    }
   ],
   "source": [
    "print(resultados['op'])\n"
   ]
  },
  {
   "cell_type": "markdown",
   "metadata": {},
   "source": [
    " > **Pregunta:** inserta dos *pilas virtuales* de 0 voltios en el resto de ramas del circuito (`Vdummy1` en la rama donde está `R5` y `Vdummy2` en la rama donde está `R3` y `R4`) para que Ahkab nos imprima también la corriente en las mismas. Es muy parecido al tercer circuito que tienes que resolver, donde `V1`, `V2` y `V3` tienen cero voltios. Estas *pilas nulas* son, a todos los efectos, *simples cables*. Una vez que ya tienes las corrientes en todas las ramas, comprueba que se cumple la Ley de Kirchhoff para las corrientes:\n",
    "\n",
    " $$\n",
    " I_{\\text{entrante}} = \\sum_i^{N} I_{\\text{salientes}}\n",
    " $$\n",
    "\n",
    " Repite lo mismo para los otros dos circuitos. Realiza además los cálculos con Sympy (recalcula los mismos voltajes que devuelve Ahkab a partir de la corriente que sí te devuelve la simulación) y cuidando de no olvidar las unidades. Recuerda que el objeto `resultados` alberga toda la información que necesitas de manera indexada. Ya han aparecido un ejemplo más arriba. Es decir: no *copies* los números *a mano*, trabaja de manera informáticamente elegante (usando la variable `resultados`)."
   ]
  },
  {
   "cell_type": "markdown",
   "metadata": {},
   "source": [
    "  # Circuitos en DC que evolucionan con el tiempo"
   ]
  },
  {
   "cell_type": "markdown",
   "metadata": {},
   "source": [
    "  ## Carga de un condensador\n",
    "  Vamos a ver qué le pasa a un circuito de corriente continua cuando tiene un condensador\n",
    "  en serie.\n",
    "\n",
    "  ![](https://raw.githubusercontent.com/pammacdotnet/spicelab/master/condensador%20en%20continua.svg?sanitize=true)\n",
    "\n",
    "  Al igual que antes, primero guardamos el circuito en un netlist externo:"
   ]
  },
  {
   "cell_type": "code",
   "execution_count": 31,
   "metadata": {},
   "outputs": [
    {
     "name": "stdout",
     "output_type": "stream",
     "text": [
      "Overwriting condensador en continua.ckt\n"
     ]
    }
   ],
   "source": [
    "get_ipython().run_cell_magic('writefile', '\"condensador en continua.ckt\"',\n",
    "                             '* Carga condensador\\nv1 0 1 type=vdc vdc=6\\nr1 1 2 1k\\nc1 2 0 1m ic=0\\n.op\\n.tran tstep=0.1 tstop=8 uic=0\\n.end')\n"
   ]
  },
  {
   "cell_type": "markdown",
   "metadata": {},
   "source": [
    " > **Pregunta:** ¿qué significa el parámetro `ic=0`? ¿qué perseguimos con un análisis de tipo `.tran`?\n",
    "\n",
    " Leamos el circuito:"
   ]
  },
  {
   "cell_type": "code",
   "execution_count": 32,
   "metadata": {},
   "outputs": [],
   "source": [
    "circuito_y_análisis = ahkab.netlist_parser.parse_circuit(\n",
    "    \"condensador en continua.ckt\")\n"
   ]
  },
  {
   "cell_type": "markdown",
   "metadata": {},
   "source": [
    "  Separamos el netlist de los análisis y asignamos un fichero de almacenamiento de datos (`outfile`):"
   ]
  },
  {
   "cell_type": "code",
   "execution_count": 33,
   "metadata": {},
   "outputs": [],
   "source": [
    "circuito = circuito_y_análisis[0]\n",
    "análisis_en_netlist = circuito_y_análisis[1]\n",
    "lista_de_análisis = ahkab.netlist_parser.parse_analysis(\n",
    "    circuito, análisis_en_netlist)\n",
    "lista_de_análisis[1]['outfile'] = \"simulación tran.tsv\"\n"
   ]
  },
  {
   "cell_type": "markdown",
   "metadata": {},
   "source": [
    "  Ejecutamos la simulación:"
   ]
  },
  {
   "cell_type": "code",
   "execution_count": 34,
   "metadata": {},
   "outputs": [
    {
     "name": "stdout",
     "output_type": "stream",
     "text": [
      "Starting op analysis:\n",
      "Calculating guess: skipped. (linear circuit)\n",
      "Solving...   done.\n",
      "Solving...   done.\n",
      "Difference check within margins.\n",
      "(Voltage: er=0.001, ea=1e-06, Current: er=0.001, ea=1e-09)\n",
      "Starting transient analysis: \n",
      "Selected method: TRAP\n",
      "Solving...  done.\n",
      "Average time step: 0.0869565\n",
      "OP simulation results for '* carga condensador'(netlist condensador en continua.ckt).\n",
      "Run on 2020-12-17 10:11:13, data file None.\n",
      "Variable    Units      Value    Error    %\n",
      "----------  -------  -------  -------  ---\n",
      "V1          V             -6    6e-12    0\n",
      "V2          V             -6    6e-12    0\n",
      "I(V1)       A              0    0        0\n"
     ]
    }
   ],
   "source": [
    "resultados = ahkab.run(circuito, lista_de_análisis)\n",
    "print(resultados['op'])\n",
    "# print(resultados['tran'].keys())\n"
   ]
  },
  {
   "cell_type": "markdown",
   "metadata": {},
   "source": [
    "  Dibujamos la gráfica de carga del condensador con el tiempo, centrándonos en la intensidad que circula por la pila."
   ]
  },
  {
   "cell_type": "code",
   "execution_count": 35,
   "metadata": {},
   "outputs": [
    {
     "data": {
      "text/plain": [
       "[<matplotlib.lines.Line2D at 0x1bd5f86e848>]"
      ]
     },
     "execution_count": 35,
     "metadata": {},
     "output_type": "execute_result"
    },
    {
     "data": {
      "image/png": "[encoded data removed]",
      "text/plain": [
       "<Figure size 432x288 with 1 Axes>"
      ]
     },
     "metadata": {
      "needs_background": "light"
     },
     "output_type": "display_data"
    }
   ],
   "source": [
    "figura = plt.figure()\n",
    "plt.title(\"Carga de un condensador\")\n",
    "plt.plot(resultados['tran']['T'], resultados['tran']\n",
    "         ['I(V1)'], label=\"Una etiqueta\")\n"
   ]
  },
  {
   "cell_type": "markdown",
   "metadata": {},
   "source": [
    " > **Pregunta:** Etiqueta los ejes convenientemente y comenta la gráfica. Dibuja otra gráfica con el voltaje en el borne `V1`. ¿Por qué son *opuestas*? ¿Qué le ocurre al voltaje a medida que evoluciona el circuito en el tiempo? Dibuja las gráficas en un formato estándar de representación vectorial (SVG, por ejemplo). Algo de ayuda [aquí](https://ipython.readthedocs.io/en/stable/api/generated/IPython.display.html#IPython.display.set_matplotlib_formats). ¿Qué valores devuelve el análisis de tipo `.op`? Justifícalo."
   ]
  },
  {
   "cell_type": "markdown",
   "metadata": {},
   "source": [
    " ## Carrera de condensadores\n",
    "\n",
    " Ahora tenemos un circuito con dos condensadores en paralelo:\n",
    "\n",
    " ![](https://raw.githubusercontent.com/pammacdotnet/spicelab/master/condensadores%20en%20paralelo.svg?sanitize=true)\n",
    "\n",
    " > **Pregunta:** Crea el netlist de este circuito e identifica qué condensador se satura primero. Dibuja la evolución de la intensidad en ambas ramas de manera simultánea. [Aquí](https://matplotlib.org/gallery/api/two_scales.html) tienes un ejemplo de cómo se hace esto en Matplotlib. Recuerda que para que Ahkab nos devuelva la corriente en una rama, debe de estar presente una pila. Si es necesario, inserta pilas virtuales de valor nulo (cero voltios), tal y como hemos comentado antes. Grafica también los voltajes (en otra gráfica, pero que aparezcan juntos)."
   ]
  },
  {
   "cell_type": "code",
   "execution_count": 36,
   "metadata": {},
   "outputs": [
    {
     "name": "stdout",
     "output_type": "stream",
     "text": [
      "Overwriting carrera en condensadores.ckt\n"
     ]
    }
   ],
   "source": [
    "get_ipython().run_cell_magic('writefile', '\"carrera en condensadores.ckt\"',\n",
    "                             '* Carga condensador\\nv0 0 1 type=vdc vdc=10\\nr1 0 2 3k\\nc1 2 3 47u ic=0\\nv1dummy 3 1 type=vdc vdc=0\\nc2 2 4 22u ic=0\\nv2dummy 4 1 type=vdc vdc=0\\n.tran tstep=0.01 tstart=6.5 tstop=7.5 uic=0\\n.end')\n",
    "\n"
   ]
  },
  {
   "cell_type": "code",
   "execution_count": 37,
   "metadata": {},
   "outputs": [
    {
     "name": "stdout",
     "output_type": "stream",
     "text": [
      "Starting transient analysis: \n",
      "Selected method: TRAP\n",
      "Solving...  done.\n",
      "Average time step: 0.00900901\n"
     ]
    }
   ],
   "source": [
    "circuito_y_análisis = ahkab.netlist_parser.parse_circuit(\n",
    "    \"carrera en condensadores.ckt\")\n",
    "circuito = circuito_y_análisis[0]\n",
    "análisis_en_netlist = circuito_y_análisis[1]\n",
    "lista_de_análisis = ahkab.netlist_parser.parse_analysis(\n",
    "    circuito, análisis_en_netlist)\n",
    "lista_de_análisis[0]['outfile'] = \"simulación tran carrera condensadores.tsv\"\n",
    "resultados = ahkab.run(circuito, lista_de_análisis)\n",
    "\n"
   ]
  },
  {
   "cell_type": "code",
   "execution_count": 38,
   "metadata": {},
   "outputs": [
    {
     "data": {
      "text/plain": [
       "[<matplotlib.lines.Line2D at 0x1bd5f951208>]"
      ]
     },
     "execution_count": 38,
     "metadata": {},
     "output_type": "execute_result"
    },
    {
     "data": {
      "image/png": "[encoded data removed]",
      "text/plain": [
       "<Figure size 432x288 with 1 Axes>"
      ]
     },
     "metadata": {
      "needs_background": "light"
     },
     "output_type": "display_data"
    }
   ],
   "source": [
    "figura = plt.figure()\n",
    "plt.title(\"Carrera de condensadores\")\n",
    "plt.xlim(6.65, 7.5)\n",
    "plt.ylim(0.0, 0.0005)\n",
    "plt.grid()\n",
    "plt.plot(resultados['tran']['T'], resultados['tran']\n",
    "         ['I(V1DUMMY)'], label=\"Intensidad en C1\")\n",
    "plt.plot(resultados['tran']['T'], resultados['tran']\n",
    "         ['I(V2DUMMY)'], label=\"Intensidad en C2\")\n"
   ]
  },
  {
   "cell_type": "markdown",
   "metadata": {},
   "source": [
    " **Ejercicio premium:** Repite la simulación con LTspice (invocándolo como comando externo, leyendo los datos de un fichero `.raw` y volviendo a graficar con Matplotlib."
   ]
  },
  {
   "cell_type": "markdown",
   "metadata": {},
   "source": [
    " ## Circuitos en corriente alterna\n",
    "\n",
    " ** Ejercicio:** Simula este circuito con LTspice y representa el voltaje y la intensidad en función del tiempo. Traduce este ejercicio a la versión Spice de Akhab y haz la misma representación. Ahkab utiliza otra sintaxis para expresar la corriente alterna. Esta está descrita en la [documentación](https://ahkab.readthedocs.io/en/latest/help/Netlist-Syntax.html#id24)."
   ]
  },
  {
   "cell_type": "code",
   "execution_count": 39,
   "metadata": {},
   "outputs": [
    {
     "name": "stdout",
     "output_type": "stream",
     "text": [
      "Overwriting corriente alterna.net\n"
     ]
    }
   ],
   "source": [
    "get_ipython().run_cell_magic('writefile', '\"corriente alterna.net\"',\n",
    "                             '* Circuito en corriente alterna\\nv1 1 0 sin(0 120 60 0 0)\\nr1 0 1 10k\\n.tran 1\\n.end')\n",
    "\n"
   ]
  },
  {
   "cell_type": "code",
   "execution_count": 40,
   "metadata": {},
   "outputs": [],
   "source": [
    "lts \"corriente alterna.net\"\n"
   ]
  },
  {
   "cell_type": "markdown",
   "metadata": {},
   "source": [
    " # Resumen de lo que se pide\n",
    " Volved a realizar todos los ejercicios y demos en vuestro propio notebook, explicando con vuestras palabras cada paso, cada gráfica y respondiendo a cada pregunta. Cuidad la belleza, coherencia, narración, explicaciones y gráficas. Todas las gráficas se han pintado con Matplotlib, que es una biblioteca extendidísima en ciencia y tecnología. Es muuuuy bueno que la conozcáis. [Aquí](https://matplotlib.org/tutorials/introductory/pyplot.html) tenéis muchos ejemplos."
   ]
  }
 ],
 "metadata": {
  "kernelspec": {
   "display_name": "Python 3",
   "language": "python",
   "name": "python3"
  },
  "language_info": {
   "codemirror_mode": {
    "name": "ipython",
    "version": 3
   },
   "file_extension": ".py",
   "mimetype": "text/x-python",
   "name": "python",
   "nbconvert_exporter": "python",
   "pygments_lexer": "ipython3",
   "version": "3.7.9"
  }
 },
 "nbformat": 4,
 "nbformat_minor": 2
}
