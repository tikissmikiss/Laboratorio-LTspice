{
 "cells": [
  {
   "cell_type": "code",
   "execution_count": 1,
   "metadata": {},
   "outputs": [
    {
     "name": "stderr",
     "output_type": "stream",
     "text": [
      "W: Locale appears not set! please export LANG=\"en_US.UTF-8\" or equivalent, \n",
      "W: or ahkab's unicode support is broken.\n"
     ]
    }
   ],
   "source": [
    "# To add a new cell, type '# %%'\n",
    "# To add a new markdown cell, type '# %% [markdown]'\n",
    "# %%\n",
    "from shutil import rmtree\n",
    "from os.path import isdir\n",
    "from os import mkdir\n",
    "from sympy import solve, symbols, Eq\n",
    "from sympy.physics.units import kilo, milli\n",
    "from sympy.physics.units import convert_to\n",
    "from sympy.physics.units import ohms, amperes, volts\n",
    "import ltspice\n",
    "import platform\n",
    "import ahkab\n",
    "import pylab as plt\n",
    "from IPython import get_ipython\n"
   ]
  },
  {
   "cell_type": "markdown",
   "metadata": {},
   "source": [
    "\n",
    "  # Objetivo del laboratorio\n",
    "  El objetivo de la presenta práctica es conocer el estándar de simulación de circuitos [SPICE](http://bwrcs.eecs.berkeley.edu/Classes/IcBook/SPICE) y realizar pequeñas simulaciones en corriente continua con el mismo. SPICE es una forma elegante y sencilla de codificar circuitos eléctricos de manera que puedan ser procesados por un ordenador. Mediante un sencillo lenguaje podemos definir resistencias, fuentes de alimentación, etc., las conexiones entre ellos y los resultados que deseamos obtener.\n",
    "\n",
    "  # El estándar SPICE\n",
    "  **SPICE** es una abreviabiación de *Simulation Program with Integrated Circtuit Emphasis*.\n",
    "  Se trata básicamente de un método estándar para describir circuitos usando texto plano en\n",
    "  lugar de una representación gráfica (o *esquemática*). A esta descripción en texto se\n",
    "  la llama también **netlist** y básicamente se corresponde con la *lista* de los componentes del circuito y cómo estos están conectados entre sí, es decir, de los nodos de unión.\n",
    "  Los ficheros netlist pueden tener extensiones `.cir`, `.net`, `.ckt`, ó `.sp` y es muy común encontrárselos con cualquiera de estas.\n",
    "\n",
    "  Existen en el mercado muchas variantes (intérpretes) de Spice, aunque el original fue descrito\n",
    "  en la Universidad de Berkeley. En la lista de intérpretes de Spice tenemos desde esfuerzos y proyectos comerciales hasta *open source* y regidos por distintas comunidades de usuarios y programadores."
   ]
  },
  {
   "cell_type": "markdown",
   "metadata": {},
   "source": [
    "\n",
    " > **Pregunta:** Enumera todos los intérprete de Spice que puedas encontrar. Crea una tabla en Markdown con varias columnas (para el nombre, fabricante, versión actual, licencia y alguna característica sobresaliente). Aquí tienes un ejemplo del que puedes partir y seguir completando:\n",
    "\n",
    " | Intérprete  | Licencia | Fabricante             | Características  |\n",
    " | ----------- | -------- | ---------------------- | ---------------- |\n",
    " | Ahkab       | GPL      | Giuseppe Venturini     | Basado en Python |\n",
    " | LTspice     |          |                        |                  |\n",
    " | PSpice      |          |                        |                  |\n",
    " | Orcad       |          |                        |                  |\n",
    " | ngspice     |          |                        |                  |\n",
    " | macspice    |          |                        |                  |\n",
    " | spice       |          |                        |                  |\n",
    " | Multisim    |          | National Instruments   |                  |\n",
    "\n"
   ]
  },
  {
   "cell_type": "markdown",
   "metadata": {},
   "source": [
    "\n",
    "  > **Pregunta:** ¿Qué comparación puedes efectuar entre C y Spice como estándares (lenguajes) y sus respectivas implementaciones en software? ¿Qué implementaciones reales (compiladores) del lenguaje C conoces?\n",
    "\n",
    "  ## Elementos de un netlist\n",
    "  Como acabamos de comentar, un netlist se corresponde con la codificación de los elementos electrónicos de un circuito y las uniones entre los mismos. Veamos con más concreción qué partes y secciones lo componen.\n",
    "\n",
    "  ## Comentarios\n",
    "\n",
    "  La primera línea de un netlist se corresponderá siempre con un comentario. A partir de esta línea se pueden introducir más comentarios pero tienen que ir siempre precedidos de un `*`. Ejemplo:\n",
    "\n",
    "  ```spice\n",
    "  Mi primer circuito\n",
    "  * Otro comentario\n",
    "  * más comentarios\n",
    "  *\n",
    "  ```\n",
    "\n",
    "  ## Dispositivos básicos de un circuito\n",
    "  Los elementos de un netlist son los mismos que encontramos en cualquier circuito eléctrico sencillo,\n",
    "  tales como resistencias, **condensadores**, **bobinas**, **interruptores**, **hilos** y **fuentes** de alimentación.\n",
    "  Para distinguir uno de otro, se reserva una letra característica: `V` para fuentes de alimentación, `R` para resistencias, `C` para condensadores y `L` para bobinas. También es posible usar estas letras en su versión en minúscula (`r`, `v`, `c`, `l`, etc.).\n",
    "  Después de esta letra característica se puede sufijar cualquier texto para diferenciar un elemento de otro (números, letras, palabras, etc.). Ejemplo:\n",
    "\n",
    "  ```\n",
    "  * Una resistencia\n",
    "  R1\n",
    "  *  Otra resistencia\n",
    "  R2\n",
    "  * Fuente de alimentación\n",
    "  V\n",
    "  * Un condensador\n",
    "  Cprincipal\n",
    "  ```\n",
    "\n",
    "  ## Conexiones\n",
    "  A continuación de indicar el elemento eléctrico, tenemos que informar a Spice cuáles\n",
    "  son los puntos de unión tanto a un lado como al otro del elemento.\n",
    "  Así es como Spice sabe qué está conectado a qué: porque comparten un **punto**\n",
    "  (o **nodo**, aunque este término se reserva sobretodo a uniones de más de dos elementos)\n",
    "  que hemos señalizado correctamente. Para nombrar nodos, lo mejor es emplear una\n",
    "  numeración secuencial: 0...n. **La enumeración de los puntos de unión es completamente\n",
    "  a nuestro criterio**.\n",
    "\n",
    "  ```\n",
    "  * Una resistencia\n",
    "  * entre cables 0 y 1\n",
    "  R1 0 1\n",
    "  ```\n",
    "\n",
    "  **Sólo es necesario seguir un criterio**: en el caso de una\n",
    "  fuente de alimentación, el nodo que pondremos primero será\n",
    "  aquel que está más cerca del *borne* positivo. Ejemplo:\n",
    "\n",
    "  ```spice\n",
    "  * Para una fuente indicamos primeramente conexión a nodo positivo.\n",
    "  v 2 3 type=vdc vdc=1\n",
    "  ```\n",
    "\n",
    " En el *caso de LTspice* no es necesario indicar los parámetros `type=vdc` y `vdc=X`, sino que si no se especifica nada, se supone que el último valor es el del voltaje a corriente continua:\n",
    "\n",
    " ```spice\n",
    " * Especificación de una fuente de alimentación de 10 V en corrient continua en el caso de LTspice\n",
    " v 0 1 10\n",
    " ```\n",
    "\n",
    " Aquí tienes un ejemplo gráfico de los componentes comentados justo arriba (resistencia y voltaje):\n",
    "\n",
    " ![](https://raw.githubusercontent.com/pammacdotnet/spicelab/master/resistencia%20y%20pila%20con%20nodos.svg?sanitize=true)\n",
    "\n",
    "  ## Unidades en SPICE\n",
    "\n",
    "  Las unidades de las magnitudes características del circuito son siempre [unidades\n",
    "  del Sistema Internacional](https://en.wikipedia.org/wiki/SI_electromagnetism_units) y no es necesario indicarlo explícitamente en el netlist.\n",
    "\n",
    "  La forma de especificar múltiplos de estas cantidades es añadiendo una letra.\n",
    "  Básicamente las que nos interesan y las que suelen aparecer mayoritariamente son `k` para \"kilo-,\" `m` para \"mili?\" y `u` para \"micro?\"."
   ]
  },
  {
   "cell_type": "markdown",
   "metadata": {},
   "source": [
    "\n",
    "  > **Pregunta:** Crea una tabla en Markdown con todos los prefijos de múltiplos que puedas, su abreviatura y su equivalencia numérica.\n",
    "\n",
    "  En el caso de las fuentes de alimentación hemos de especificar si se trata de corriente contínua (`vdc`) o alterna (`ac`).\n",
    "\n",
    "  ```\n",
    "  * Una resistencia de 5 Ohmios\n",
    "  R2 1 0 5\n",
    "  * Una pila de 10 Voltios (continua)\n",
    "  V1 1 0 type=vdc vdc=10\n",
    "  * Una resistencia de 5 kΩ\n",
    "  RX 2 4 5k\n",
    "  ```"
   ]
  },
  {
   "cell_type": "markdown",
   "metadata": {},
   "source": [
    "  > **Pregunta**: ¿qué unidades del Sistema Internacional relacionadas con la asignatura –y los circuitos en general– conoces? Responde aquí mismo en una celda de Markdown con una tabla."
   ]
  },
  {
   "cell_type": "markdown",
   "metadata": {},
   "source": [
    "\n",
    "  ## Valores iniciales\n",
    "\n",
    "  Aparecen justo al final de la definición del componente (`ic`). Suelen aplicarse principalmente con condensadores.\n",
    "\n",
    "  ```\n",
    "  * Una condensador inicialmente no cargado\n",
    "  c 1 0 1u ic=0\n",
    "  ```\n",
    "\n",
    "  ## Fin del circuito\n",
    "\n",
    "  El fin de la descripción de un netlist se especifica mediante el\n",
    "  comando `.end`.\n",
    "\n",
    "  ```spice\n",
    "  * Mi primer circuito\n",
    "  V 1 0 vdc=10 type=vdc\n",
    "  R 1 0 5\n",
    "  * Fin del circuito\n",
    "  .end\n",
    "  ```\n",
    "\n",
    "\n",
    "  ## Comandos SPICE para circuitos en corriente continua\n",
    "\n",
    "  Además de la descripción del circuito, hemos de indicar al intérprete de Spice qué\n",
    "  tipo de análisis queremos realizar en sobre el mismo y cómo queremos presentar\n",
    "  la salida de la simulación. Los comandos en Spice empiezan por un `.` y suelen\n",
    "  escribirse justo al final del circuito, pero antes del comando `.end`.\n",
    "\n",
    "  ```\n",
    "   Mi primer circuito\n",
    "  * Aquí van los componentes\n",
    "  R 1 0 6k\n",
    "  ...\n",
    "  * Comandos\n",
    "  .op\n",
    "  ...\n",
    "  * Fin del circuito\n",
    "  .end\n",
    "  ```\n"
   ]
  },
  {
   "cell_type": "markdown",
   "metadata": {},
   "source": [
    "  > **Pregunta**: Hasta lo que has visto del lenguaje Spice, ¿dentro de qué tipo o conjunto de lenguajes encajaría? ¿Funcionales? ¿Específicos de dominio? ¿Procedurales? ¿Estructurados? ¿Orientado a Objetos ¿Funcionales? Justifica tu respuesta.\n",
    "\n",
    "  Veamos los principales comandos de simulación:\n",
    "\n",
    "  - `.op` es el comando más sencillo que podemos emplear en. Devuelve el voltaje e intensidad en cada ramal y componente del circuito. Este comando no necesita parámetros.\n",
    "  - `.dc` es uy parecido al comando `.op` pero nos permite cambiar el valor del voltaje de una fuente de alimentación en pasos consecutivos entre el valor A y el valor B.\n",
    "  En el caso de que la fuente tuviera asignada ya un valor para su voltaje, este sería ignorado. Ejemplo:\n",
    "\n",
    "\n",
    "  ```spice\n",
    "  * Variamos el valor del voltaje\n",
    "  * de la fuente \"v\" de 1 a 1000\n",
    "  * en pasos de 5 voltios\n",
    "  v 1 0 type=vdc vdc=10\n",
    "  .dc v 1 start=1 stop=1000 step=20\n",
    "  v2a 2 4 type=vdc vdc=9\n",
    "  * Igual para v2a. Se ignora su voltaje de 9V\n",
    "  .dc v2a start=0 stop=10 step=2\n",
    "  ```\n",
    "\n",
    "  - El comando `.tran` realiza un análisis en el tiempo de los parámetros del\n",
    "  circuito. Si no se emplea la directiva `uic` (*use initial conditions*) o esta es igual a cero, este análisis se realiza desde el punto estable de funcionamiento del circuito hasta un tiempo `tfinal`.\n",
    "  y en intervalos `tstep`. Si empleamos un varlor distinto para parámetro `uic`,\n",
    "  entonces se hará uso de las condiciones iniciales definidas para cada componente\n",
    "   (típicamente `ic=X` en el caso de los condensadores, que da cuenta de la carga incial que estos pudieran tener).\n",
    "\n",
    "\n",
    "  ```\n",
    "  * Hacemos avanzar el tiempo entre\n",
    "  * tinicial y tfinal en pasos tstep\n",
    "  .tran tstart=X tstop=Y tstep=Z uic=0/1/2/3\n",
    "  ```\n",
    "\n",
    "  `X`, `Y` y `Z` tienen, evidentemente unidades de tiempo en el S.I. (segundos).\n",
    "\n",
    "  > **Pregunta**: El parámetro `uic` puede tener varios valores y cada uno significa una cosa. Detállalo usando un celda Markdown y consultando la [documentación de Ahkab](https://buildmedia.readthedocs.org/media/pdf/ahkab/latest/ahkab.pdf).\n",
    "\n",
    "  ## Intérprete SPICE que vamos a usar: Ahkab\n",
    "  Tras un estándar siempre hay una o varias implementaciones. Ahkab no deja de ser una implmentación más en Python del estándar Spice.\n",
    "  > **Pregunta:** Comenta las distintas implementaciones de lenguajes y estándares que conozcas. Hazlo usando una tabla en Markdown. [Aquí](https://www.markdownguide.org/extended-syntax/#tables) tienes un poco de ayuda (aunque antes ya se ha puesto el ejemplo de una tabla).\n",
    "\n",
    "  > **Pregunta:** Describe brevemente este software (creador, objetivos, versiones, licencia, características principales, dependencias, etc.).\n",
    "\n",
    "  # Trabajo práctico\n",
    "  Muy bien, ahora toca definir circuitos y ejecutar simulaciones sobre los mismos gracias a Ahkab.\n",
    "  ## Instalación de bibliotecas necesarias\n",
    "  Si estás utilizando Anaconda, asegúrate de tener su entorno activado:\n",
    "\n",
    "  ```cmd\n",
    "  C:\\> conda activate base (en el caso de Windows)\n",
    "  ```\n",
    "  ó\n",
    "\n",
    "  ```bash\n",
    "  $ source /usr/local/Caskroom/miniconda/base/bin/activate (en el caso de macOS)\n",
    "  ```\n",
    "\n",
    " En el caso de Windows tienes que tener en el PATH el directorio donde se encuentre el comando `conda` (visita la sección de [Environment Variables](https://superuser.com/questions/949560/how-do-i-set-system-environment-variables-in-windows-10) del [Panel de Control](https://www.digitalcitizen.life/8-ways-start-control-panel-windows-10)). Si has instalado Anaconda con [esta opción](https://docs.anaconda.com/_images/win-install-options.png) marcada, ya no tienes que preocuparte por ello.\n",
    "\n",
    " En el caso de usar Visual Studio Code, este puede encontrar automáticamente la distintas distribuciones de Python que tengamos instaladas y si abrimos un terminal, este se adaptará automáticamente al entorno Python que hayamos seleccionado. La configuración de Python en VS Code está bien explicada su [documentación](https://code.visualstudio.com/docs/python/python-tutorial).\n",
    "\n",
    " ![](https://raw.githubusercontent.com/microsoft/vscode-python/main/images/InterpreterSelectionZoom.gif)\n",
    "\n",
    " Ahora ya puedes instalar Ahkab:\n",
    "\n",
    "  ```\n",
    "  (base) $ pip install ahkab\n",
    "  ```"
   ]
  },
  {
   "cell_type": "markdown",
   "metadata": {},
   "source": [
    " También puedes instalar Ahkab directamente desde este mismo notebook:"
   ]
  },
  {
   "cell_type": "code",
   "execution_count": 2,
   "metadata": {},
   "outputs": [
    {
     "name": "stdout",
     "output_type": "stream",
     "text": [
      "Requirement already satisfied: ahkab in c:\\users\\joseh\\scoop\\apps\\miniconda3\\current\\lib\\site-packages (0.18)\n",
      "Requirement already satisfied: numpy>1.7.0 in c:\\users\\joseh\\scoop\\apps\\miniconda3\\current\\lib\\site-packages (from ahkab) (1.19.1)\n",
      "Requirement already satisfied: scipy>=0.14.0 in c:\\users\\joseh\\scoop\\apps\\miniconda3\\current\\lib\\site-packages (from ahkab) (1.5.4)\n",
      "Requirement already satisfied: sympy>=0.7.6 in c:\\users\\joseh\\scoop\\apps\\miniconda3\\current\\lib\\site-packages (from ahkab) (1.6.2)\n",
      "Requirement already satisfied: tabulate>=0.7.3 in c:\\users\\joseh\\scoop\\apps\\miniconda3\\current\\lib\\site-packages (from ahkab) (0.8.7)\n",
      "Requirement already satisfied: mpmath>=0.19 in c:\\users\\joseh\\scoop\\apps\\miniconda3\\current\\lib\\site-packages (from sympy>=0.7.6->ahkab) (1.1.0)\n"
     ]
    }
   ],
   "source": [
    "get_ipython().system('pip install ahkab')"
   ]
  },
  {
   "cell_type": "markdown",
   "metadata": {},
   "source": [
    "\n",
    "  Como siempre, una vez instalado cualquier framework para Python, ya lo podemos utilizar, tanto desde el [REPL](https://en.wikipedia.org/wiki/Read–eval–print_loop) como desde un entorno Jupyter (Jupyter, [Jupyterlab](http://jupyterlab.readthedocs.io/en/stable/), VS Code o nteract). Recuerda que para usar el kernel Python (que viene con Anaconda) desde nteract debes seguir las instrucciones que se indican en su [documentación oficial](https://nteract.io/kernels)."
   ]
  },
  {
   "cell_type": "markdown",
   "metadata": {},
   "source": [
    " Como vamos a pintar algunas gráficas, necesitamos instlar [matplotlib](https://matplotlib.org). Al igual que con Ahkab, esto lo podemos hacer directamente desde este mismo notebook. Si hemos usado Anaconda:"
   ]
  },
  {
   "cell_type": "code",
   "execution_count": 3,
   "metadata": {},
   "outputs": [],
   "source": [
    "# ################################################################\n",
    "# ################################################################\n",
    "# ################################################################\n",
    "# ################################################################\n",
    "# ################################################################\n",
    "# ################################################################\n",
    "# ######################  DESCOMENTAR  ###########################\n",
    "# ################################################################\n",
    "# ################################################################\n",
    "# ################################################################\n",
    "# ################################################################\n",
    "# ################################################################\n",
    "# ################################################################\n",
    "# ################################################################\n",
    "# ################################################################\n",
    "# get_ipython().system('conda install -y -c conda-forge matplotlib')\n"
   ]
  },
  {
   "cell_type": "markdown",
   "metadata": {},
   "source": [
    "  > **Pregunta:** ¿Qué es y para qué sirve PyLab?\n",
    "\n",
    "  ## Circuitos sencillos para trabjar con la ley de Ohm:\n",
    "\n",
    "  La *mal llamada* ley de Ohm reza que el voltaje (la *energía por unidad de carga*) que se disipa en un tramo de un circuito eléctrico es equivalente a la intensidad ($I$) de la corriente (es decir, cuántos electrones circulan por unidad de tiempo) por la resistencia del material ($R$) en el que está desplazándose dicha corriente. Matemáticamente:\n",
    "\n",
    "  $$\n",
    "  V = I\\cdot R\n",
    "  $$\n",
    "\n",
    "  > **Pregunta:** comprueba que la ecuación anterior está ajustada a nivel dimensional, es decir, que la naturaleza de lo que está a ambos lados del signo igual es la misma. Realiza este ejercicio con LaTeX en una celda Markdown.\n",
    "\n",
    "  Comencemos con el circuito más sencillo posible de todos:\n",
    "\n",
    "  ![](https://raw.githubusercontent.com/pammacdotnet/spicelab/master/primer%20circuito.svg?sanitize=true)\n",
    "\n",
    "  Vamos a escribir su contenido (componentes o *netlist*) en disco con el nombre `circuito sencillo.sp`. Esto lo podemos lograr directamente y en tiempo real desde una celda de Jupyter gracias a los *comandos mágicos* de este entorno de programación literaria. En concreto vamos a utilizar `%%writefile` que guarda los contenidos de una celda como un fichero."
   ]
  },
  {
   "cell_type": "markdown",
   "metadata": {},
   "source": [
    " Primero preparamos un lugar para ubicar todo los archivos que genere el Notebook"
   ]
  },
  {
   "cell_type": "code",
   "execution_count": 4,
   "metadata": {},
   "outputs": [],
   "source": [
    "files_directory = \"files\\\\\"\n",
    "# si el directorio existe se elimina con su contenido\n",
    "if isdir(files_directory):\n",
    "    rmtree(files_directory)\n",
    "# crea un directorio para alojar todo los archivos que se generen\n",
    "mkdir(files_directory)\n"
   ]
  },
  {
   "cell_type": "markdown",
   "metadata": {},
   "source": [
    " ## Circuito simple (Fuente + carga)\n",
    " El primer circuito a analizar es el circuito mas simple que se puede encontrar, que consiste en una fuente de alimentación con un carga representada con una resistencia.\n",
    "\n",
    " ![](https://raw.githubusercontent.com/pammacdotnet/spicelab/master/primer%20circuito.svg?sanitize=true)"
   ]
  },
  {
   "cell_type": "markdown",
   "metadata": {},
   "source": [
    " Con el comando mágico de Jupyter `writefile` se crea un archivo con este contenido:\n",
    " ```\n",
    " * Este es un circuito sencillo\n",
    " r1 1 0 10\n",
    " v1 1 0 type=vdc vdc=9\n",
    " .op\n",
    " .dc v1 start=0 stop=9 step=1\n",
    " .end\n",
    " ```\n",
    " Es el *netlist* que representa el circuito mencionado.\n"
   ]
  },
  {
   "cell_type": "code",
   "execution_count": 5,
   "metadata": {},
   "outputs": [
    {
     "name": "stdout",
     "output_type": "stream",
     "text": [
      "Writing files\\circuito_sencillo.sp\n"
     ]
    }
   ],
   "source": [
    "%%writefile \"files\\circuito_sencillo.sp\"\n",
    "* Este es un circuito sencillo\n",
    "r1 N001 0 100\n",
    "v1 N001 0 type=vdc vdc=9\n",
    ".op\n",
    ".dc v1 start=0 stop=10 step=1\n",
    ".end\n"
   ]
  },
  {
   "cell_type": "markdown",
   "metadata": {},
   "source": [
    " Haciendo uso de la librería `Ahkab` procesamos el circuito que acabamos de definir."
   ]
  },
  {
   "cell_type": "code",
   "execution_count": 6,
   "metadata": {},
   "outputs": [],
   "source": [
    "circuito_y_análisis = ahkab.netlist_parser.parse_circuit(\n",
    "    files_directory + 'circuito_sencillo.sp')\n"
   ]
  },
  {
   "cell_type": "markdown",
   "metadata": {},
   "source": [
    " El método `ahkab.netlist_parser.parse_circuit()` ha creado una lista en cuya primera posición se ha guardado la lista de componentes y sus conexiones, y en la segunda posición, la listas de analisis que se quieren realizar durante la simulación.\n",
    "\n",
    " Extraemos estos datos a sendas variables."
   ]
  },
  {
   "cell_type": "code",
   "execution_count": 7,
   "metadata": {},
   "outputs": [],
   "source": [
    "netlist = circuito_y_análisis[0]\n",
    "análisis_en_netlist = circuito_y_análisis[1]\n",
    "\n",
    "# Ahora con el método `ahkab.netlist_parser.parse_analysis()` generamos una lista con las operaciones de analisis que se realizaran durante la simulación. Cada elemento de la lista contendrá el tipo de analisis a realizar (dc, tran, etc.) y los parametros con los que se realizará cada analisis.\n"
   ]
  },
  {
   "cell_type": "code",
   "execution_count": 8,
   "metadata": {},
   "outputs": [
    {
     "name": "stdout",
     "output_type": "stream",
     "text": [
      "[{'type': 'op', 'guess': True, 'x0': None}, {'type': 'dc', 'source': 'v1', 'start': 0.0, 'stop': 10.0, 'step': 1.0, 'sweep_type': 'LIN'}]\n"
     ]
    }
   ],
   "source": [
    "lista_de_análisis = ahkab.netlist_parser.parse_analysis(\n",
    "    netlist, análisis_en_netlist)\n",
    "print(lista_de_análisis)\n"
   ]
  },
  {
   "cell_type": "markdown",
   "metadata": {},
   "source": [
    " > **Pregunta:** ¿qué tipo de estructura de Python es `lista_de_análisis`?\n",
    " ---\n",
    " > **Respuesta:** El tipo de estructura de Python que contiene se denomina lista (list), en el caso de `lista_de_análisis` es una lista que contiene otras estructuras de Python denominada diccionarios (dict), que son estructuras de datos del tipo *clave:valor* que internamente utilizan una tabla hash para organizar la información de forma eficiente."
   ]
  },
  {
   "cell_type": "markdown",
   "metadata": {},
   "source": [
    "  Como he comentado, los elementos de la lista `lista_de_análisis` son diccionarios. Y `Ahkab` necesita que se defina el archivo en el que volcar el resultado de la simulación para los diccionarios que contengan alguna operación de simulación. Esto se hace definiendo la clave `outfile` con la ruta del archivo."
   ]
  },
  {
   "cell_type": "code",
   "execution_count": 9,
   "metadata": {},
   "outputs": [],
   "source": [
    "lista_de_análisis[1]['outfile'] = \"simulación_dc.tsv\"\n"
   ]
  },
  {
   "cell_type": "markdown",
   "metadata": {},
   "source": [
    "  > **Pregunta:** escribe el código Python necesario para identificar qué análisis de `lista_de_análisis` son de tipo `dc` ó `tran` y sólo añadir la propiedad `outfile` en estos casos.\n",
    "\n",
    " > Aquí tenéis un post de Stackoverflow con algo de [ayuda](https://stackoverflow.com/questions/49194107/how-to-find-index-of-a-dictionary-key-value-within-a-list-python).\n",
    "\n",
    " > Un poco más de ayuda: el siguiente código (sí, una única línea) devuelve el índice de la simulación que es de tipo `dc`. Para simplificar un poco el ejercicio, suponed que, como máximo, habrá un análisis de tipo `tran` y/o `dc`."
   ]
  },
  {
   "cell_type": "code",
   "execution_count": 10,
   "metadata": {},
   "outputs": [
    {
     "data": {
      "text/plain": [
       "1"
      ]
     },
     "execution_count": 10,
     "metadata": {},
     "output_type": "execute_result"
    }
   ],
   "source": [
    "[i for i, d in enumerate(lista_de_análisis) if \"dc\" in d.values()][0]\n"
   ]
  },
  {
   "cell_type": "markdown",
   "metadata": {},
   "source": [
    " > **Respuesta:**\n",
    "\n",
    " > Del análisis de la sentencia anterior que tiene la forma\n",
    "  ```python\n",
    " [...][0]\n",
    "  ```\n",
    " Se deduce que se esta haciendo referencia a la primera posición de una estructura indexable (`foo[0]`), como un vector, una lista, etc. Por tanto, el primer corchete debe de estar refiriéndose a una lista o un vector.\n",
    "  ```python\n",
    " vector = [i for i, d in enumerate(lista_de_análisis) if \"dc\" in d.values()]\n",
    "  ```\n",
    " Más arriba, al conociéndose de antemano que el analisis que estamos tratando va ha devolver en la posición \"`1`\" un analisis tipo \"`dc`\", se ha hardcodeado la asignación de este modo:\n",
    "  ```python\n",
    " lista_de_análisis[1]['outfile'] = \"simulación_dc.tsv\"\n",
    "  ```\n",
    " Como estamos suponiendo que, como máximo, habrá un análisis de tipo `tran` y/o `dc`, podemos hacer la asignación combinando las dos sentencias.\n",
    "  ```python\n",
    " indice = [i for i, d in enumerate(lista_de_análisis) if \"dc\" in d.values()][0]\n",
    " lista_de_análisis[ indice ]['outfile'] = \"simulación_dc.tsv\"\n",
    "  ```\n",
    " Incluso en una única linea:\n",
    "  ```python\n",
    " lista_de_análisis[ [i for i, d in enumerate(lista_de_análisis) if \"dc\" in d.values()][0] ]['outfile'] = \"simulación_dc.tsv\"\n",
    "  ```\n",
    " Simulemos esto para comprobalo."
   ]
  },
  {
   "cell_type": "code",
   "execution_count": 11,
   "metadata": {},
   "outputs": [
    {
     "name": "stdout",
     "output_type": "stream",
     "text": [
      "Creamos una lista de 10 diccionarios\n",
      "{'indice': 0}\n",
      "{'indice': 1}\n",
      "{'indice': 2}\n",
      "{'indice': 3}\n",
      "{'indice': 4}\n",
      "{'indice': 5}\n",
      "{'indice': 6}\n",
      "{'indice': 7}\n",
      "{'indice': 8}\n",
      "{'indice': 9}\n",
      "\n",
      "Añadimos la clave 'type' a 4 de los diccionarios, a dos con valor 'dc' y a otras dos con valor 'tran'\n",
      "lista[3]['type'] = 'dc'\n",
      "lista[8]['type'] = 'dc'\n",
      "lista[5]['type'] = 'tran'\n",
      "lista[6]['type'] = 'tran'\n",
      "\n",
      "¿Cómo queda la lista?\n",
      "{'indice': 0}\n",
      "{'indice': 1}\n",
      "{'indice': 2}\n",
      "{'indice': 3, 'type': 'dc'}\n",
      "{'indice': 4}\n",
      "{'indice': 5, 'type': 'tran'}\n",
      "{'indice': 6, 'type': 'tran'}\n",
      "{'indice': 7}\n",
      "{'indice': 8, 'type': 'dc'}\n",
      "{'indice': 9}\n",
      "\n",
      "¿Es [i for i, d in enumerate(lista_de_análisis) if \"dc\" in d.values()] es un vector o una lista?\n",
      "Imprimimos el resultado:\n",
      "[3, 8]\n",
      "\n",
      "¿Cual es el índice del primer análisis del tipo \"dc\"?\n",
      "[i for i, d in enumerate(lista) if \"dc\" in d.values()][0]\n",
      "3\n",
      "\n",
      "¿Cual es el índice del primer análisis del tipo \"dc\"?\n",
      "[i for i, d in enumerate(lista) if \"tran\" in d.values()][0]\n",
      "5\n",
      "\n",
      "Usemos la sentencia de una linea deducida en la celada anterior\n",
      "lista[ [i for i, d in enumerate(lista) if \"dc\" in d.values()][0] ]['outfile'] = \"simulación_dc.tsv\"\n",
      "lista[ [i for i, d in enumerate(lista) if \"tran\" in d.values()][0] ]['outfile'] = \"simulación_tran.tsv\"\n",
      "\n",
      "¿Cómo queda la lista?\n",
      "{'indice': 0}\n",
      "{'indice': 1}\n",
      "{'indice': 2}\n",
      "{'indice': 3, 'type': 'dc', 'outfile': 'simulación_dc.tsv'}\n",
      "{'indice': 4}\n",
      "{'indice': 5, 'type': 'tran', 'outfile': 'simulación_tran.tsv'}\n",
      "{'indice': 6, 'type': 'tran'}\n",
      "{'indice': 7}\n",
      "{'indice': 8, 'type': 'dc'}\n",
      "{'indice': 9}\n",
      "\n",
      "\t**** FUNCIONA !!! ****\n"
     ]
    }
   ],
   "source": [
    "# Creamos una lista de 10 diccionarios\n",
    "print(\"Creamos una lista de 10 diccionarios\")\n",
    "lista=[]\n",
    "for i in range(10):\n",
    "    lista.append({'indice':i})\n",
    "    print(lista[i])\n",
    "\n",
    "# Añadimos la clave 'type' a 4 de los diccionarios, a dos con valor 'dc' y a otras dos con valor 'tran'\n",
    "print(\"\\nAñadimos la clave 'type' a 4 de los diccionarios, a dos con valor 'dc' y a otras dos con valor 'tran'\")\n",
    "print(\"lista[3]['type'] = 'dc'\")\n",
    "print(\"lista[8]['type'] = 'dc'\")\n",
    "print(\"lista[5]['type'] = 'tran'\")\n",
    "print(\"lista[6]['type'] = 'tran'\")\n",
    "lista[3]['type'] = 'dc'\n",
    "lista[8]['type'] = 'dc'\n",
    "lista[5]['type'] = 'tran'\n",
    "lista[6]['type'] = 'tran'\n",
    "\n",
    "# ¿Cómo queda la lista?\n",
    "print(\"\\n¿Cómo queda la lista?\")\n",
    "for i in range(10):\n",
    "    print(lista[i])\n",
    "\n",
    "# ¿Es [i for i, d in enumerate(lista_de_análisis) if \\\"dc\\\" in d.values()] es un vector o una lista?\n",
    "print(\"\\n¿Es [i for i, d in enumerate(lista_de_análisis) if \\\"dc\\\" in d.values()] es un vector o una lista?\")\n",
    "print(\"Imprimimos el resultado:\")\n",
    "print([i for i, d in enumerate(lista) if \"dc\" in d.values()])\n",
    "\n",
    "# ¿Cual es el índice del primer análisis del tipo \\\"dc\\\"?\n",
    "print(\"\\n¿Cual es el índice del primer análisis del tipo \\\"dc\\\"?\")\n",
    "print(\"[i for i, d in enumerate(lista) if \\\"dc\\\" in d.values()][0]\")\n",
    "print([i for i, d in enumerate(lista) if \"dc\" in d.values()][0])\n",
    "\n",
    "# ¿Cual es el índice del primer análisis del tipo \\\"tran\\\"?\n",
    "print(\"\\n¿Cual es el índice del primer análisis del tipo \\\"dc\\\"?\")\n",
    "print(\"[i for i, d in enumerate(lista) if \\\"tran\\\" in d.values()][0]\")\n",
    "print([i for i, d in enumerate(lista) if \"tran\" in d.values()][0])\n",
    "\n",
    "# Usemos la sentencia de una linea deducida en la celada anterior\n",
    "print(\"\\nUsemos la sentencia de una linea deducida en la celada anterior\")\n",
    "print(\"lista[ [i for i, d in enumerate(lista) if \\\"dc\\\" in d.values()][0] ]['outfile'] = \\\"simulación_dc.tsv\\\"\")\n",
    "lista[ [i for i, d in enumerate(lista) if \"dc\" in d.values()][0] ]['outfile'] = \"simulación_dc.tsv\"\n",
    "print(\"lista[ [i for i, d in enumerate(lista) if \\\"tran\\\" in d.values()][0] ]['outfile'] = \\\"simulación_tran.tsv\\\"\")\n",
    "lista[ [i for i, d in enumerate(lista) if \"tran\" in d.values()][0] ]['outfile'] = \"simulación_tran.tsv\"\n",
    "\n",
    "# ¿Cómo queda la lista?\n",
    "print(\"\\n¿Cómo queda la lista?\")\n",
    "for i in range(10):\n",
    "    print(lista[i])\n",
    "\n",
    "print(\"\\n\\t**** FUNCIONA !!! ****\")\n"
   ]
  },
  {
   "cell_type": "markdown",
   "metadata": {},
   "source": [
    " > Podriamos haber usado `d` en vez de `i` para recuperar todos los diccionarios con `dc` o `tran` y añadir el archivo a todos los analisis, de este modo:\n",
    " ```\n",
    " for analisis in [`d` for i, d in enumerate(lista) if \"dc\" in d.values()]:\n",
    "     analisis['outfile'] = \"simulación dc indice \" + str(analisis['indice']) + \".tsv\"\n",
    " ```\n",
    " Lo comprobamos sobre la misma lista que ya tenemos"
   ]
  },
  {
   "cell_type": "code",
   "execution_count": 12,
   "metadata": {},
   "outputs": [
    {
     "name": "stdout",
     "output_type": "stream",
     "text": [
      "Así teniamos la lista:\n",
      "{'indice': 0}\n",
      "{'indice': 1}\n",
      "{'indice': 2}\n",
      "{'indice': 3, 'type': 'dc', 'outfile': 'simulación_dc.tsv'}\n",
      "{'indice': 4}\n",
      "{'indice': 5, 'type': 'tran', 'outfile': 'simulación_tran.tsv'}\n",
      "{'indice': 6, 'type': 'tran'}\n",
      "{'indice': 7}\n",
      "{'indice': 8, 'type': 'dc'}\n",
      "{'indice': 9}\n",
      "\n",
      "Añadir el archivo a todos los analisis del ambos tipos\n",
      "La lista queda asi:\n",
      "{'indice': 0}\n",
      "{'indice': 1}\n",
      "{'indice': 2}\n",
      "{'indice': 3, 'type': 'dc', 'outfile': 'simu_dc_indice_3.tsv'}\n",
      "{'indice': 4}\n",
      "{'indice': 5, 'type': 'tran', 'outfile': 'simu_tran_indice_5.tsv'}\n",
      "{'indice': 6, 'type': 'tran', 'outfile': 'simu_tran_indice_6.tsv'}\n",
      "{'indice': 7}\n",
      "{'indice': 8, 'type': 'dc', 'outfile': 'simu_dc_indice_8.tsv'}\n",
      "{'indice': 9}\n",
      "\n",
      "Podemos observar que se han añadido los archivos a los que no lo tenian y han cambiado los que si lo tenian\n",
      "\n",
      "\t**** TAMBIEN FUNCIONA !!! ****\n"
     ]
    }
   ],
   "source": [
    "print(\"Así teniamos la lista:\")\n",
    "for i in range(10):\n",
    "    print(lista[i])\n",
    "\n",
    "# Añadir el archivo a todos los analisis del ambos tipos \n",
    "print(\"\\nAñadir el archivo a todos los analisis del ambos tipos\")\n",
    "for analisis in [d for i, d in enumerate(lista) if \"dc\" in d.values() or \"tran\" in d.values()]:\n",
    "    analisis['outfile'] = \"simu_\" + analisis['type'] + \"_indice_\" + str(analisis['indice']) + \".tsv\"\n",
    "print(\"La lista queda asi:\")\n",
    "for i in range(10):\n",
    "    print(lista[i])\n",
    " \n",
    "print(\"\\nPodemos observar que se han añadido los archivos a los que no lo tenian y han cambiado los que si lo tenian\") \n",
    "\n",
    "print(\"\\n\\t**** TAMBIEN FUNCIONA !!! ****\")\n"
   ]
  },
  {
   "cell_type": "markdown",
   "metadata": {},
   "source": [
    " ¿Funciona?\n",
    " Pues apliquemos !!!"
   ]
  },
  {
   "cell_type": "code",
   "execution_count": 13,
   "metadata": {},
   "outputs": [],
   "source": [
    "for analisis in [d for i, d in enumerate(lista_de_análisis) if \"dc\" in d.values() or \"tran\" in d.values()]:\n",
    "    analisis['outfile'] = files_directory + \"simulación_\" + analisis['type'] + \".tsv\"\n"
   ]
  },
  {
   "cell_type": "markdown",
   "metadata": {},
   "source": [
    " Ya tenemos lo necesario para ejecutar las simulaciones. Esto lo haremos usando el método `.run` de Ahkab"
   ]
  },
  {
   "cell_type": "code",
   "execution_count": 14,
   "metadata": {},
   "outputs": [
    {
     "name": "stdout",
     "output_type": "stream",
     "text": [
      "Starting op analysis:\n",
      "Calculating guess: skipped. (linear circuit)\n",
      "Solving...   done.\n",
      "Solving...   done.\n",
      "Difference check within margins.\n",
      "(Voltage: er=0.001, ea=1e-06, Current: er=0.001, ea=1e-09)\n",
      "Starting DC analysis:\n",
      "Solving...  done\n"
     ]
    }
   ],
   "source": [
    "resultados = ahkab.run(netlist, lista_de_análisis)\n"
   ]
  },
  {
   "cell_type": "markdown",
   "metadata": {},
   "source": [
    " ### Resultados de la simulación `.dc`\n",
    " Imprimimos la información resultante de la simulación:"
   ]
  },
  {
   "cell_type": "code",
   "execution_count": 15,
   "metadata": {},
   "outputs": [
    {
     "name": "stdout",
     "output_type": "stream",
     "text": [
      "<DC simulation results for '* este es un circuito sencillo' (netlist files\\circuito_sencillo.sp). LIN sweep of V1 from 0 to 10 V. Run on 2020-12-19 12:00:22, data file files\\simulación_dc.tsv>\n"
     ]
    }
   ],
   "source": [
    "print(resultados['dc'])\n"
   ]
  },
  {
   "cell_type": "markdown",
   "metadata": {},
   "source": [
    "  Veamos qué variables del análisis podemos dibujar."
   ]
  },
  {
   "cell_type": "code",
   "execution_count": 16,
   "metadata": {},
   "outputs": [
    {
     "name": "stdout",
     "output_type": "stream",
     "text": [
      "['V1', 'Vn001', 'I(V1)']\n"
     ]
    }
   ],
   "source": [
    "print(resultados['dc'].keys())\n"
   ]
  },
  {
   "cell_type": "markdown",
   "metadata": {},
   "source": [
    " Vamos a dibujar la gráfica del voltaje en el borne 1 (`V1`) respecto a la intensidad del circuito (`I(V1)`)."
   ]
  },
  {
   "cell_type": "code",
   "execution_count": 17,
   "metadata": {},
   "outputs": [
    {
     "data": {
      "text/plain": [
       "[<matplotlib.lines.Line2D at 0x22a51c440c8>]"
      ]
     },
     "execution_count": 17,
     "metadata": {},
     "output_type": "execute_result"
    },
    {
     "data": {
      "image/png": "[encoded data removed]",
      "image/svg+xml": [
       "<?xml version=\"1.0\" encoding=\"utf-8\" standalone=\"no\"?>\r\n",
       "<!DOCTYPE svg PUBLIC \"-//W3C//DTD SVG 1.1//EN\"\r\n",
       "  \"http://www.w3.org/Graphics/SVG/1.1/DTD/svg11.dtd\">\r\n",
       "<!-- Created with matplotlib (https://matplotlib.org/) -->\r\n",
       "<svg height=\"264.604062pt\" version=\"1.1\" viewBox=\"0 0 389.909844 264.604062\" width=\"389.909844pt\" xmlns=\"http://www.w3.org/2000/svg\" xmlns:xlink=\"http://www.w3.org/1999/xlink\">\r\n",
       " <metadata>\r\n",
       "  <rdf:RDF xmlns:cc=\"http://creativecommons.org/ns#\" xmlns:dc=\"http://purl.org/dc/elements/1.1/\" xmlns:rdf=\"http://www.w3.org/1999/02/22-rdf-syntax-ns#\">\r\n",
       "   <cc:Work>\r\n",
       "    <dc:type rdf:resource=\"http://purl.org/dc/dcmitype/StillImage\"/>\r\n",
       "    <dc:date>2020-12-19T13:00:22.749229</dc:date>\r\n",
       "    <dc:format>image/svg+xml</dc:format>\r\n",
       "    <dc:creator>\r\n",
       "     <cc:Agent>\r\n",
       "      <dc:title>Matplotlib v3.3.3, https://matplotlib.org/</dc:title>\r\n",
       "     </cc:Agent>\r\n",
       "    </dc:creator>\r\n",
       "   </cc:Work>\r\n",
       "  </rdf:RDF>\r\n",
       " </metadata>\r\n",
       " <defs>\r\n",
       "  <style type=\"text/css\">*{stroke-linecap:butt;stroke-linejoin:round;}</style>\r\n",
       " </defs>\r\n",
       " <g id=\"figure_1\">\r\n",
       "  <g id=\"patch_1\">\r\n",
       "   <path d=\"M 0 264.604062 \r\n",
       "L 389.909844 264.604062 \r\n",
       "L 389.909844 0 \r\n",
       "L 0 0 \r\n",
       "z\r\n",
       "\" style=\"fill:none;\"/>\r\n",
       "  </g>\r\n",
       "  <g id=\"axes_1\">\r\n",
       "   <g id=\"patch_2\">\r\n",
       "    <path d=\"M 47.909844 239.758125 \r\n",
       "L 382.709844 239.758125 \r\n",
       "L 382.709844 22.318125 \r\n",
       "L 47.909844 22.318125 \r\n",
       "z\r\n",
       "\" style=\"fill:#ffffff;\"/>\r\n",
       "   </g>\r\n",
       "   <g id=\"matplotlib.axis_1\">\r\n",
       "    <g id=\"xtick_1\">\r\n",
       "     <g id=\"line2d_1\">\r\n",
       "      <defs>\r\n",
       "       <path d=\"M 0 0 \r\n",
       "L 0 3.5 \r\n",
       "\" id=\"m86a7bf116a\" style=\"stroke:#000000;stroke-width:0.8;\"/>\r\n",
       "      </defs>\r\n",
       "      <g>\r\n",
       "       <use style=\"stroke:#000000;stroke-width:0.8;\" x=\"63.128026\" xlink:href=\"#m86a7bf116a\" y=\"239.758125\"/>\r\n",
       "      </g>\r\n",
       "     </g>\r\n",
       "     <g id=\"text_1\">\r\n",
       "      <!-- 0 -->\r\n",
       "      <g transform=\"translate(59.628651 255.116406)scale(0.11 -0.11)\">\r\n",
       "       <defs>\r\n",
       "        <path d=\"M 31.78125 66.40625 \r\n",
       "Q 24.171875 66.40625 20.328125 58.90625 \r\n",
       "Q 16.5 51.421875 16.5 36.375 \r\n",
       "Q 16.5 21.390625 20.328125 13.890625 \r\n",
       "Q 24.171875 6.390625 31.78125 6.390625 \r\n",
       "Q 39.453125 6.390625 43.28125 13.890625 \r\n",
       "Q 47.125 21.390625 47.125 36.375 \r\n",
       "Q 47.125 51.421875 43.28125 58.90625 \r\n",
       "Q 39.453125 66.40625 31.78125 66.40625 \r\n",
       "z\r\n",
       "M 31.78125 74.21875 \r\n",
       "Q 44.046875 74.21875 50.515625 64.515625 \r\n",
       "Q 56.984375 54.828125 56.984375 36.375 \r\n",
       "Q 56.984375 17.96875 50.515625 8.265625 \r\n",
       "Q 44.046875 -1.421875 31.78125 -1.421875 \r\n",
       "Q 19.53125 -1.421875 13.0625 8.265625 \r\n",
       "Q 6.59375 17.96875 6.59375 36.375 \r\n",
       "Q 6.59375 54.828125 13.0625 64.515625 \r\n",
       "Q 19.53125 74.21875 31.78125 74.21875 \r\n",
       "z\r\n",
       "\" id=\"DejaVuSans-48\"/>\r\n",
       "       </defs>\r\n",
       "       <use xlink:href=\"#DejaVuSans-48\"/>\r\n",
       "      </g>\r\n",
       "     </g>\r\n",
       "    </g>\r\n",
       "    <g id=\"xtick_2\">\r\n",
       "     <g id=\"line2d_2\">\r\n",
       "      <g>\r\n",
       "       <use style=\"stroke:#000000;stroke-width:0.8;\" x=\"124.000753\" xlink:href=\"#m86a7bf116a\" y=\"239.758125\"/>\r\n",
       "      </g>\r\n",
       "     </g>\r\n",
       "     <g id=\"text_2\">\r\n",
       "      <!-- 2 -->\r\n",
       "      <g transform=\"translate(120.501378 255.116406)scale(0.11 -0.11)\">\r\n",
       "       <defs>\r\n",
       "        <path d=\"M 19.1875 8.296875 \r\n",
       "L 53.609375 8.296875 \r\n",
       "L 53.609375 0 \r\n",
       "L 7.328125 0 \r\n",
       "L 7.328125 8.296875 \r\n",
       "Q 12.9375 14.109375 22.625 23.890625 \r\n",
       "Q 32.328125 33.6875 34.8125 36.53125 \r\n",
       "Q 39.546875 41.84375 41.421875 45.53125 \r\n",
       "Q 43.3125 49.21875 43.3125 52.78125 \r\n",
       "Q 43.3125 58.59375 39.234375 62.25 \r\n",
       "Q 35.15625 65.921875 28.609375 65.921875 \r\n",
       "Q 23.96875 65.921875 18.8125 64.3125 \r\n",
       "Q 13.671875 62.703125 7.8125 59.421875 \r\n",
       "L 7.8125 69.390625 \r\n",
       "Q 13.765625 71.78125 18.9375 73 \r\n",
       "Q 24.125 74.21875 28.421875 74.21875 \r\n",
       "Q 39.75 74.21875 46.484375 68.546875 \r\n",
       "Q 53.21875 62.890625 53.21875 53.421875 \r\n",
       "Q 53.21875 48.921875 51.53125 44.890625 \r\n",
       "Q 49.859375 40.875 45.40625 35.40625 \r\n",
       "Q 44.1875 33.984375 37.640625 27.21875 \r\n",
       "Q 31.109375 20.453125 19.1875 8.296875 \r\n",
       "z\r\n",
       "\" id=\"DejaVuSans-50\"/>\r\n",
       "       </defs>\r\n",
       "       <use xlink:href=\"#DejaVuSans-50\"/>\r\n",
       "      </g>\r\n",
       "     </g>\r\n",
       "    </g>\r\n",
       "    <g id=\"xtick_3\">\r\n",
       "     <g id=\"line2d_3\">\r\n",
       "      <g>\r\n",
       "       <use style=\"stroke:#000000;stroke-width:0.8;\" x=\"184.87348\" xlink:href=\"#m86a7bf116a\" y=\"239.758125\"/>\r\n",
       "      </g>\r\n",
       "     </g>\r\n",
       "     <g id=\"text_3\">\r\n",
       "      <!-- 4 -->\r\n",
       "      <g transform=\"translate(181.374105 255.116406)scale(0.11 -0.11)\">\r\n",
       "       <defs>\r\n",
       "        <path d=\"M 37.796875 64.3125 \r\n",
       "L 12.890625 25.390625 \r\n",
       "L 37.796875 25.390625 \r\n",
       "z\r\n",
       "M 35.203125 72.90625 \r\n",
       "L 47.609375 72.90625 \r\n",
       "L 47.609375 25.390625 \r\n",
       "L 58.015625 25.390625 \r\n",
       "L 58.015625 17.1875 \r\n",
       "L 47.609375 17.1875 \r\n",
       "L 47.609375 0 \r\n",
       "L 37.796875 0 \r\n",
       "L 37.796875 17.1875 \r\n",
       "L 4.890625 17.1875 \r\n",
       "L 4.890625 26.703125 \r\n",
       "z\r\n",
       "\" id=\"DejaVuSans-52\"/>\r\n",
       "       </defs>\r\n",
       "       <use xlink:href=\"#DejaVuSans-52\"/>\r\n",
       "      </g>\r\n",
       "     </g>\r\n",
       "    </g>\r\n",
       "    <g id=\"xtick_4\">\r\n",
       "     <g id=\"line2d_4\">\r\n",
       "      <g>\r\n",
       "       <use style=\"stroke:#000000;stroke-width:0.8;\" x=\"245.746207\" xlink:href=\"#m86a7bf116a\" y=\"239.758125\"/>\r\n",
       "      </g>\r\n",
       "     </g>\r\n",
       "     <g id=\"text_4\">\r\n",
       "      <!-- 6 -->\r\n",
       "      <g transform=\"translate(242.246832 255.116406)scale(0.11 -0.11)\">\r\n",
       "       <defs>\r\n",
       "        <path d=\"M 33.015625 40.375 \r\n",
       "Q 26.375 40.375 22.484375 35.828125 \r\n",
       "Q 18.609375 31.296875 18.609375 23.390625 \r\n",
       "Q 18.609375 15.53125 22.484375 10.953125 \r\n",
       "Q 26.375 6.390625 33.015625 6.390625 \r\n",
       "Q 39.65625 6.390625 43.53125 10.953125 \r\n",
       "Q 47.40625 15.53125 47.40625 23.390625 \r\n",
       "Q 47.40625 31.296875 43.53125 35.828125 \r\n",
       "Q 39.65625 40.375 33.015625 40.375 \r\n",
       "z\r\n",
       "M 52.59375 71.296875 \r\n",
       "L 52.59375 62.3125 \r\n",
       "Q 48.875 64.0625 45.09375 64.984375 \r\n",
       "Q 41.3125 65.921875 37.59375 65.921875 \r\n",
       "Q 27.828125 65.921875 22.671875 59.328125 \r\n",
       "Q 17.53125 52.734375 16.796875 39.40625 \r\n",
       "Q 19.671875 43.65625 24.015625 45.921875 \r\n",
       "Q 28.375 48.1875 33.59375 48.1875 \r\n",
       "Q 44.578125 48.1875 50.953125 41.515625 \r\n",
       "Q 57.328125 34.859375 57.328125 23.390625 \r\n",
       "Q 57.328125 12.15625 50.6875 5.359375 \r\n",
       "Q 44.046875 -1.421875 33.015625 -1.421875 \r\n",
       "Q 20.359375 -1.421875 13.671875 8.265625 \r\n",
       "Q 6.984375 17.96875 6.984375 36.375 \r\n",
       "Q 6.984375 53.65625 15.1875 63.9375 \r\n",
       "Q 23.390625 74.21875 37.203125 74.21875 \r\n",
       "Q 40.921875 74.21875 44.703125 73.484375 \r\n",
       "Q 48.484375 72.75 52.59375 71.296875 \r\n",
       "z\r\n",
       "\" id=\"DejaVuSans-54\"/>\r\n",
       "       </defs>\r\n",
       "       <use xlink:href=\"#DejaVuSans-54\"/>\r\n",
       "      </g>\r\n",
       "     </g>\r\n",
       "    </g>\r\n",
       "    <g id=\"xtick_5\">\r\n",
       "     <g id=\"line2d_5\">\r\n",
       "      <g>\r\n",
       "       <use style=\"stroke:#000000;stroke-width:0.8;\" x=\"306.618935\" xlink:href=\"#m86a7bf116a\" y=\"239.758125\"/>\r\n",
       "      </g>\r\n",
       "     </g>\r\n",
       "     <g id=\"text_5\">\r\n",
       "      <!-- 8 -->\r\n",
       "      <g transform=\"translate(303.11956 255.116406)scale(0.11 -0.11)\">\r\n",
       "       <defs>\r\n",
       "        <path d=\"M 31.78125 34.625 \r\n",
       "Q 24.75 34.625 20.71875 30.859375 \r\n",
       "Q 16.703125 27.09375 16.703125 20.515625 \r\n",
       "Q 16.703125 13.921875 20.71875 10.15625 \r\n",
       "Q 24.75 6.390625 31.78125 6.390625 \r\n",
       "Q 38.8125 6.390625 42.859375 10.171875 \r\n",
       "Q 46.921875 13.96875 46.921875 20.515625 \r\n",
       "Q 46.921875 27.09375 42.890625 30.859375 \r\n",
       "Q 38.875 34.625 31.78125 34.625 \r\n",
       "z\r\n",
       "M 21.921875 38.8125 \r\n",
       "Q 15.578125 40.375 12.03125 44.71875 \r\n",
       "Q 8.5 49.078125 8.5 55.328125 \r\n",
       "Q 8.5 64.0625 14.71875 69.140625 \r\n",
       "Q 20.953125 74.21875 31.78125 74.21875 \r\n",
       "Q 42.671875 74.21875 48.875 69.140625 \r\n",
       "Q 55.078125 64.0625 55.078125 55.328125 \r\n",
       "Q 55.078125 49.078125 51.53125 44.71875 \r\n",
       "Q 48 40.375 41.703125 38.8125 \r\n",
       "Q 48.828125 37.15625 52.796875 32.3125 \r\n",
       "Q 56.78125 27.484375 56.78125 20.515625 \r\n",
       "Q 56.78125 9.90625 50.3125 4.234375 \r\n",
       "Q 43.84375 -1.421875 31.78125 -1.421875 \r\n",
       "Q 19.734375 -1.421875 13.25 4.234375 \r\n",
       "Q 6.78125 9.90625 6.78125 20.515625 \r\n",
       "Q 6.78125 27.484375 10.78125 32.3125 \r\n",
       "Q 14.796875 37.15625 21.921875 38.8125 \r\n",
       "z\r\n",
       "M 18.3125 54.390625 \r\n",
       "Q 18.3125 48.734375 21.84375 45.5625 \r\n",
       "Q 25.390625 42.390625 31.78125 42.390625 \r\n",
       "Q 38.140625 42.390625 41.71875 45.5625 \r\n",
       "Q 45.3125 48.734375 45.3125 54.390625 \r\n",
       "Q 45.3125 60.0625 41.71875 63.234375 \r\n",
       "Q 38.140625 66.40625 31.78125 66.40625 \r\n",
       "Q 25.390625 66.40625 21.84375 63.234375 \r\n",
       "Q 18.3125 60.0625 18.3125 54.390625 \r\n",
       "z\r\n",
       "\" id=\"DejaVuSans-56\"/>\r\n",
       "       </defs>\r\n",
       "       <use xlink:href=\"#DejaVuSans-56\"/>\r\n",
       "      </g>\r\n",
       "     </g>\r\n",
       "    </g>\r\n",
       "    <g id=\"xtick_6\">\r\n",
       "     <g id=\"line2d_6\">\r\n",
       "      <g>\r\n",
       "       <use style=\"stroke:#000000;stroke-width:0.8;\" x=\"367.491662\" xlink:href=\"#m86a7bf116a\" y=\"239.758125\"/>\r\n",
       "      </g>\r\n",
       "     </g>\r\n",
       "     <g id=\"text_6\">\r\n",
       "      <!-- 10 -->\r\n",
       "      <g transform=\"translate(360.492912 255.116406)scale(0.11 -0.11)\">\r\n",
       "       <defs>\r\n",
       "        <path d=\"M 12.40625 8.296875 \r\n",
       "L 28.515625 8.296875 \r\n",
       "L 28.515625 63.921875 \r\n",
       "L 10.984375 60.40625 \r\n",
       "L 10.984375 69.390625 \r\n",
       "L 28.421875 72.90625 \r\n",
       "L 38.28125 72.90625 \r\n",
       "L 38.28125 8.296875 \r\n",
       "L 54.390625 8.296875 \r\n",
       "L 54.390625 0 \r\n",
       "L 12.40625 0 \r\n",
       "z\r\n",
       "\" id=\"DejaVuSans-49\"/>\r\n",
       "       </defs>\r\n",
       "       <use xlink:href=\"#DejaVuSans-49\"/>\r\n",
       "       <use x=\"63.623047\" xlink:href=\"#DejaVuSans-48\"/>\r\n",
       "      </g>\r\n",
       "     </g>\r\n",
       "    </g>\r\n",
       "   </g>\r\n",
       "   <g id=\"matplotlib.axis_2\">\r\n",
       "    <g id=\"ytick_1\">\r\n",
       "     <g id=\"line2d_7\">\r\n",
       "      <defs>\r\n",
       "       <path d=\"M 0 0 \r\n",
       "L -3.5 0 \r\n",
       "\" id=\"m6cc9f4a2f1\" style=\"stroke:#000000;stroke-width:0.8;\"/>\r\n",
       "      </defs>\r\n",
       "      <g>\r\n",
       "       <use style=\"stroke:#000000;stroke-width:0.8;\" x=\"47.909844\" xlink:href=\"#m6cc9f4a2f1\" y=\"229.874489\"/>\r\n",
       "      </g>\r\n",
       "     </g>\r\n",
       "     <g id=\"text_7\">\r\n",
       "      <!-- −0.10 -->\r\n",
       "      <g transform=\"translate(7.2 234.053629)scale(0.11 -0.11)\">\r\n",
       "       <defs>\r\n",
       "        <path d=\"M 10.59375 35.5 \r\n",
       "L 73.1875 35.5 \r\n",
       "L 73.1875 27.203125 \r\n",
       "L 10.59375 27.203125 \r\n",
       "z\r\n",
       "\" id=\"DejaVuSans-8722\"/>\r\n",
       "        <path d=\"M 10.6875 12.40625 \r\n",
       "L 21 12.40625 \r\n",
       "L 21 0 \r\n",
       "L 10.6875 0 \r\n",
       "z\r\n",
       "\" id=\"DejaVuSans-46\"/>\r\n",
       "       </defs>\r\n",
       "       <use xlink:href=\"#DejaVuSans-8722\"/>\r\n",
       "       <use x=\"83.789062\" xlink:href=\"#DejaVuSans-48\"/>\r\n",
       "       <use x=\"147.412109\" xlink:href=\"#DejaVuSans-46\"/>\r\n",
       "       <use x=\"179.199219\" xlink:href=\"#DejaVuSans-49\"/>\r\n",
       "       <use x=\"242.822266\" xlink:href=\"#DejaVuSans-48\"/>\r\n",
       "      </g>\r\n",
       "     </g>\r\n",
       "    </g>\r\n",
       "    <g id=\"ytick_2\">\r\n",
       "     <g id=\"line2d_8\">\r\n",
       "      <g>\r\n",
       "       <use style=\"stroke:#000000;stroke-width:0.8;\" x=\"47.909844\" xlink:href=\"#m6cc9f4a2f1\" y=\"190.339943\"/>\r\n",
       "      </g>\r\n",
       "     </g>\r\n",
       "     <g id=\"text_8\">\r\n",
       "      <!-- −0.08 -->\r\n",
       "      <g transform=\"translate(7.2 194.519084)scale(0.11 -0.11)\">\r\n",
       "       <use xlink:href=\"#DejaVuSans-8722\"/>\r\n",
       "       <use x=\"83.789062\" xlink:href=\"#DejaVuSans-48\"/>\r\n",
       "       <use x=\"147.412109\" xlink:href=\"#DejaVuSans-46\"/>\r\n",
       "       <use x=\"179.199219\" xlink:href=\"#DejaVuSans-48\"/>\r\n",
       "       <use x=\"242.822266\" xlink:href=\"#DejaVuSans-56\"/>\r\n",
       "      </g>\r\n",
       "     </g>\r\n",
       "    </g>\r\n",
       "    <g id=\"ytick_3\">\r\n",
       "     <g id=\"line2d_9\">\r\n",
       "      <g>\r\n",
       "       <use style=\"stroke:#000000;stroke-width:0.8;\" x=\"47.909844\" xlink:href=\"#m6cc9f4a2f1\" y=\"150.805398\"/>\r\n",
       "      </g>\r\n",
       "     </g>\r\n",
       "     <g id=\"text_9\">\r\n",
       "      <!-- −0.06 -->\r\n",
       "      <g transform=\"translate(7.2 154.984538)scale(0.11 -0.11)\">\r\n",
       "       <use xlink:href=\"#DejaVuSans-8722\"/>\r\n",
       "       <use x=\"83.789062\" xlink:href=\"#DejaVuSans-48\"/>\r\n",
       "       <use x=\"147.412109\" xlink:href=\"#DejaVuSans-46\"/>\r\n",
       "       <use x=\"179.199219\" xlink:href=\"#DejaVuSans-48\"/>\r\n",
       "       <use x=\"242.822266\" xlink:href=\"#DejaVuSans-54\"/>\r\n",
       "      </g>\r\n",
       "     </g>\r\n",
       "    </g>\r\n",
       "    <g id=\"ytick_4\">\r\n",
       "     <g id=\"line2d_10\">\r\n",
       "      <g>\r\n",
       "       <use style=\"stroke:#000000;stroke-width:0.8;\" x=\"47.909844\" xlink:href=\"#m6cc9f4a2f1\" y=\"111.270852\"/>\r\n",
       "      </g>\r\n",
       "     </g>\r\n",
       "     <g id=\"text_10\">\r\n",
       "      <!-- −0.04 -->\r\n",
       "      <g transform=\"translate(7.2 115.449993)scale(0.11 -0.11)\">\r\n",
       "       <use xlink:href=\"#DejaVuSans-8722\"/>\r\n",
       "       <use x=\"83.789062\" xlink:href=\"#DejaVuSans-48\"/>\r\n",
       "       <use x=\"147.412109\" xlink:href=\"#DejaVuSans-46\"/>\r\n",
       "       <use x=\"179.199219\" xlink:href=\"#DejaVuSans-48\"/>\r\n",
       "       <use x=\"242.822266\" xlink:href=\"#DejaVuSans-52\"/>\r\n",
       "      </g>\r\n",
       "     </g>\r\n",
       "    </g>\r\n",
       "    <g id=\"ytick_5\">\r\n",
       "     <g id=\"line2d_11\">\r\n",
       "      <g>\r\n",
       "       <use style=\"stroke:#000000;stroke-width:0.8;\" x=\"47.909844\" xlink:href=\"#m6cc9f4a2f1\" y=\"71.736307\"/>\r\n",
       "      </g>\r\n",
       "     </g>\r\n",
       "     <g id=\"text_11\">\r\n",
       "      <!-- −0.02 -->\r\n",
       "      <g transform=\"translate(7.2 75.915447)scale(0.11 -0.11)\">\r\n",
       "       <use xlink:href=\"#DejaVuSans-8722\"/>\r\n",
       "       <use x=\"83.789062\" xlink:href=\"#DejaVuSans-48\"/>\r\n",
       "       <use x=\"147.412109\" xlink:href=\"#DejaVuSans-46\"/>\r\n",
       "       <use x=\"179.199219\" xlink:href=\"#DejaVuSans-48\"/>\r\n",
       "       <use x=\"242.822266\" xlink:href=\"#DejaVuSans-50\"/>\r\n",
       "      </g>\r\n",
       "     </g>\r\n",
       "    </g>\r\n",
       "    <g id=\"ytick_6\">\r\n",
       "     <g id=\"line2d_12\">\r\n",
       "      <g>\r\n",
       "       <use style=\"stroke:#000000;stroke-width:0.8;\" x=\"47.909844\" xlink:href=\"#m6cc9f4a2f1\" y=\"32.201761\"/>\r\n",
       "      </g>\r\n",
       "     </g>\r\n",
       "     <g id=\"text_12\">\r\n",
       "      <!-- 0.00 -->\r\n",
       "      <g transform=\"translate(16.417656 36.380902)scale(0.11 -0.11)\">\r\n",
       "       <use xlink:href=\"#DejaVuSans-48\"/>\r\n",
       "       <use x=\"63.623047\" xlink:href=\"#DejaVuSans-46\"/>\r\n",
       "       <use x=\"95.410156\" xlink:href=\"#DejaVuSans-48\"/>\r\n",
       "       <use x=\"159.033203\" xlink:href=\"#DejaVuSans-48\"/>\r\n",
       "      </g>\r\n",
       "     </g>\r\n",
       "    </g>\r\n",
       "   </g>\r\n",
       "   <g id=\"line2d_13\">\r\n",
       "    <path clip-path=\"url(#p142914c3b4)\" d=\"M 63.128026 32.201761 \r\n",
       "L 93.564389 51.969034 \r\n",
       "L 124.000753 71.736307 \r\n",
       "L 154.437116 91.50358 \r\n",
       "L 184.87348 111.270852 \r\n",
       "L 215.309844 131.038125 \r\n",
       "L 245.746207 150.805398 \r\n",
       "L 276.182571 170.57267 \r\n",
       "L 306.618935 190.339943 \r\n",
       "L 337.055298 210.107216 \r\n",
       "L 367.491662 229.874489 \r\n",
       "\" style=\"fill:none;stroke:#1f77b4;stroke-linecap:square;stroke-width:1.5;\"/>\r\n",
       "   </g>\r\n",
       "   <g id=\"patch_3\">\r\n",
       "    <path d=\"M 47.909844 239.758125 \r\n",
       "L 47.909844 22.318125 \r\n",
       "\" style=\"fill:none;stroke:#000000;stroke-linecap:square;stroke-linejoin:miter;stroke-width:0.8;\"/>\r\n",
       "   </g>\r\n",
       "   <g id=\"patch_4\">\r\n",
       "    <path d=\"M 382.709844 239.758125 \r\n",
       "L 382.709844 22.318125 \r\n",
       "\" style=\"fill:none;stroke:#000000;stroke-linecap:square;stroke-linejoin:miter;stroke-width:0.8;\"/>\r\n",
       "   </g>\r\n",
       "   <g id=\"patch_5\">\r\n",
       "    <path d=\"M 47.909844 239.758125 \r\n",
       "L 382.709844 239.758125 \r\n",
       "\" style=\"fill:none;stroke:#000000;stroke-linecap:square;stroke-linejoin:miter;stroke-width:0.8;\"/>\r\n",
       "   </g>\r\n",
       "   <g id=\"patch_6\">\r\n",
       "    <path d=\"M 47.909844 22.318125 \r\n",
       "L 382.709844 22.318125 \r\n",
       "\" style=\"fill:none;stroke:#000000;stroke-linecap:square;stroke-linejoin:miter;stroke-width:0.8;\"/>\r\n",
       "   </g>\r\n",
       "   <g id=\"text_13\">\r\n",
       "    <!-- Prueba DC -->\r\n",
       "    <g transform=\"translate(183.633594 16.318125)scale(0.12 -0.12)\">\r\n",
       "     <defs>\r\n",
       "      <path d=\"M 19.671875 64.796875 \r\n",
       "L 19.671875 37.40625 \r\n",
       "L 32.078125 37.40625 \r\n",
       "Q 38.96875 37.40625 42.71875 40.96875 \r\n",
       "Q 46.484375 44.53125 46.484375 51.125 \r\n",
       "Q 46.484375 57.671875 42.71875 61.234375 \r\n",
       "Q 38.96875 64.796875 32.078125 64.796875 \r\n",
       "z\r\n",
       "M 9.8125 72.90625 \r\n",
       "L 32.078125 72.90625 \r\n",
       "Q 44.34375 72.90625 50.609375 67.359375 \r\n",
       "Q 56.890625 61.8125 56.890625 51.125 \r\n",
       "Q 56.890625 40.328125 50.609375 34.8125 \r\n",
       "Q 44.34375 29.296875 32.078125 29.296875 \r\n",
       "L 19.671875 29.296875 \r\n",
       "L 19.671875 0 \r\n",
       "L 9.8125 0 \r\n",
       "z\r\n",
       "\" id=\"DejaVuSans-80\"/>\r\n",
       "      <path d=\"M 41.109375 46.296875 \r\n",
       "Q 39.59375 47.171875 37.8125 47.578125 \r\n",
       "Q 36.03125 48 33.890625 48 \r\n",
       "Q 26.265625 48 22.1875 43.046875 \r\n",
       "Q 18.109375 38.09375 18.109375 28.8125 \r\n",
       "L 18.109375 0 \r\n",
       "L 9.078125 0 \r\n",
       "L 9.078125 54.6875 \r\n",
       "L 18.109375 54.6875 \r\n",
       "L 18.109375 46.1875 \r\n",
       "Q 20.953125 51.171875 25.484375 53.578125 \r\n",
       "Q 30.03125 56 36.53125 56 \r\n",
       "Q 37.453125 56 38.578125 55.875 \r\n",
       "Q 39.703125 55.765625 41.0625 55.515625 \r\n",
       "z\r\n",
       "\" id=\"DejaVuSans-114\"/>\r\n",
       "      <path d=\"M 8.5 21.578125 \r\n",
       "L 8.5 54.6875 \r\n",
       "L 17.484375 54.6875 \r\n",
       "L 17.484375 21.921875 \r\n",
       "Q 17.484375 14.15625 20.5 10.265625 \r\n",
       "Q 23.53125 6.390625 29.59375 6.390625 \r\n",
       "Q 36.859375 6.390625 41.078125 11.03125 \r\n",
       "Q 45.3125 15.671875 45.3125 23.6875 \r\n",
       "L 45.3125 54.6875 \r\n",
       "L 54.296875 54.6875 \r\n",
       "L 54.296875 0 \r\n",
       "L 45.3125 0 \r\n",
       "L 45.3125 8.40625 \r\n",
       "Q 42.046875 3.421875 37.71875 1 \r\n",
       "Q 33.40625 -1.421875 27.6875 -1.421875 \r\n",
       "Q 18.265625 -1.421875 13.375 4.4375 \r\n",
       "Q 8.5 10.296875 8.5 21.578125 \r\n",
       "z\r\n",
       "M 31.109375 56 \r\n",
       "z\r\n",
       "\" id=\"DejaVuSans-117\"/>\r\n",
       "      <path d=\"M 56.203125 29.59375 \r\n",
       "L 56.203125 25.203125 \r\n",
       "L 14.890625 25.203125 \r\n",
       "Q 15.484375 15.921875 20.484375 11.0625 \r\n",
       "Q 25.484375 6.203125 34.421875 6.203125 \r\n",
       "Q 39.59375 6.203125 44.453125 7.46875 \r\n",
       "Q 49.3125 8.734375 54.109375 11.28125 \r\n",
       "L 54.109375 2.78125 \r\n",
       "Q 49.265625 0.734375 44.1875 -0.34375 \r\n",
       "Q 39.109375 -1.421875 33.890625 -1.421875 \r\n",
       "Q 20.796875 -1.421875 13.15625 6.1875 \r\n",
       "Q 5.515625 13.8125 5.515625 26.8125 \r\n",
       "Q 5.515625 40.234375 12.765625 48.109375 \r\n",
       "Q 20.015625 56 32.328125 56 \r\n",
       "Q 43.359375 56 49.78125 48.890625 \r\n",
       "Q 56.203125 41.796875 56.203125 29.59375 \r\n",
       "z\r\n",
       "M 47.21875 32.234375 \r\n",
       "Q 47.125 39.59375 43.09375 43.984375 \r\n",
       "Q 39.0625 48.390625 32.421875 48.390625 \r\n",
       "Q 24.90625 48.390625 20.390625 44.140625 \r\n",
       "Q 15.875 39.890625 15.1875 32.171875 \r\n",
       "z\r\n",
       "\" id=\"DejaVuSans-101\"/>\r\n",
       "      <path d=\"M 48.6875 27.296875 \r\n",
       "Q 48.6875 37.203125 44.609375 42.84375 \r\n",
       "Q 40.53125 48.484375 33.40625 48.484375 \r\n",
       "Q 26.265625 48.484375 22.1875 42.84375 \r\n",
       "Q 18.109375 37.203125 18.109375 27.296875 \r\n",
       "Q 18.109375 17.390625 22.1875 11.75 \r\n",
       "Q 26.265625 6.109375 33.40625 6.109375 \r\n",
       "Q 40.53125 6.109375 44.609375 11.75 \r\n",
       "Q 48.6875 17.390625 48.6875 27.296875 \r\n",
       "z\r\n",
       "M 18.109375 46.390625 \r\n",
       "Q 20.953125 51.265625 25.265625 53.625 \r\n",
       "Q 29.59375 56 35.59375 56 \r\n",
       "Q 45.5625 56 51.78125 48.09375 \r\n",
       "Q 58.015625 40.1875 58.015625 27.296875 \r\n",
       "Q 58.015625 14.40625 51.78125 6.484375 \r\n",
       "Q 45.5625 -1.421875 35.59375 -1.421875 \r\n",
       "Q 29.59375 -1.421875 25.265625 0.953125 \r\n",
       "Q 20.953125 3.328125 18.109375 8.203125 \r\n",
       "L 18.109375 0 \r\n",
       "L 9.078125 0 \r\n",
       "L 9.078125 75.984375 \r\n",
       "L 18.109375 75.984375 \r\n",
       "z\r\n",
       "\" id=\"DejaVuSans-98\"/>\r\n",
       "      <path d=\"M 34.28125 27.484375 \r\n",
       "Q 23.390625 27.484375 19.1875 25 \r\n",
       "Q 14.984375 22.515625 14.984375 16.5 \r\n",
       "Q 14.984375 11.71875 18.140625 8.90625 \r\n",
       "Q 21.296875 6.109375 26.703125 6.109375 \r\n",
       "Q 34.1875 6.109375 38.703125 11.40625 \r\n",
       "Q 43.21875 16.703125 43.21875 25.484375 \r\n",
       "L 43.21875 27.484375 \r\n",
       "z\r\n",
       "M 52.203125 31.203125 \r\n",
       "L 52.203125 0 \r\n",
       "L 43.21875 0 \r\n",
       "L 43.21875 8.296875 \r\n",
       "Q 40.140625 3.328125 35.546875 0.953125 \r\n",
       "Q 30.953125 -1.421875 24.3125 -1.421875 \r\n",
       "Q 15.921875 -1.421875 10.953125 3.296875 \r\n",
       "Q 6 8.015625 6 15.921875 \r\n",
       "Q 6 25.140625 12.171875 29.828125 \r\n",
       "Q 18.359375 34.515625 30.609375 34.515625 \r\n",
       "L 43.21875 34.515625 \r\n",
       "L 43.21875 35.40625 \r\n",
       "Q 43.21875 41.609375 39.140625 45 \r\n",
       "Q 35.0625 48.390625 27.6875 48.390625 \r\n",
       "Q 23 48.390625 18.546875 47.265625 \r\n",
       "Q 14.109375 46.140625 10.015625 43.890625 \r\n",
       "L 10.015625 52.203125 \r\n",
       "Q 14.9375 54.109375 19.578125 55.046875 \r\n",
       "Q 24.21875 56 28.609375 56 \r\n",
       "Q 40.484375 56 46.34375 49.84375 \r\n",
       "Q 52.203125 43.703125 52.203125 31.203125 \r\n",
       "z\r\n",
       "\" id=\"DejaVuSans-97\"/>\r\n",
       "      <path id=\"DejaVuSans-32\"/>\r\n",
       "      <path d=\"M 19.671875 64.796875 \r\n",
       "L 19.671875 8.109375 \r\n",
       "L 31.59375 8.109375 \r\n",
       "Q 46.6875 8.109375 53.6875 14.9375 \r\n",
       "Q 60.6875 21.78125 60.6875 36.53125 \r\n",
       "Q 60.6875 51.171875 53.6875 57.984375 \r\n",
       "Q 46.6875 64.796875 31.59375 64.796875 \r\n",
       "z\r\n",
       "M 9.8125 72.90625 \r\n",
       "L 30.078125 72.90625 \r\n",
       "Q 51.265625 72.90625 61.171875 64.09375 \r\n",
       "Q 71.09375 55.28125 71.09375 36.53125 \r\n",
       "Q 71.09375 17.671875 61.125 8.828125 \r\n",
       "Q 51.171875 0 30.078125 0 \r\n",
       "L 9.8125 0 \r\n",
       "z\r\n",
       "\" id=\"DejaVuSans-68\"/>\r\n",
       "      <path d=\"M 64.40625 67.28125 \r\n",
       "L 64.40625 56.890625 \r\n",
       "Q 59.421875 61.53125 53.78125 63.8125 \r\n",
       "Q 48.140625 66.109375 41.796875 66.109375 \r\n",
       "Q 29.296875 66.109375 22.65625 58.46875 \r\n",
       "Q 16.015625 50.828125 16.015625 36.375 \r\n",
       "Q 16.015625 21.96875 22.65625 14.328125 \r\n",
       "Q 29.296875 6.6875 41.796875 6.6875 \r\n",
       "Q 48.140625 6.6875 53.78125 8.984375 \r\n",
       "Q 59.421875 11.28125 64.40625 15.921875 \r\n",
       "L 64.40625 5.609375 \r\n",
       "Q 59.234375 2.09375 53.4375 0.328125 \r\n",
       "Q 47.65625 -1.421875 41.21875 -1.421875 \r\n",
       "Q 24.65625 -1.421875 15.125 8.703125 \r\n",
       "Q 5.609375 18.84375 5.609375 36.375 \r\n",
       "Q 5.609375 53.953125 15.125 64.078125 \r\n",
       "Q 24.65625 74.21875 41.21875 74.21875 \r\n",
       "Q 47.75 74.21875 53.53125 72.484375 \r\n",
       "Q 59.328125 70.75 64.40625 67.28125 \r\n",
       "z\r\n",
       "\" id=\"DejaVuSans-67\"/>\r\n",
       "     </defs>\r\n",
       "     <use xlink:href=\"#DejaVuSans-80\"/>\r\n",
       "     <use x=\"58.552734\" xlink:href=\"#DejaVuSans-114\"/>\r\n",
       "     <use x=\"99.666016\" xlink:href=\"#DejaVuSans-117\"/>\r\n",
       "     <use x=\"163.044922\" xlink:href=\"#DejaVuSans-101\"/>\r\n",
       "     <use x=\"224.568359\" xlink:href=\"#DejaVuSans-98\"/>\r\n",
       "     <use x=\"288.044922\" xlink:href=\"#DejaVuSans-97\"/>\r\n",
       "     <use x=\"349.324219\" xlink:href=\"#DejaVuSans-32\"/>\r\n",
       "     <use x=\"381.111328\" xlink:href=\"#DejaVuSans-68\"/>\r\n",
       "     <use x=\"458.113281\" xlink:href=\"#DejaVuSans-67\"/>\r\n",
       "    </g>\r\n",
       "   </g>\r\n",
       "  </g>\r\n",
       " </g>\r\n",
       " <defs>\r\n",
       "  <clipPath id=\"p142914c3b4\">\r\n",
       "   <rect height=\"217.44\" width=\"334.8\" x=\"47.909844\" y=\"22.318125\"/>\r\n",
       "  </clipPath>\r\n",
       " </defs>\r\n",
       "</svg>\r\n"
      ],
      "text/plain": [
       "<Figure size 432x288 with 1 Axes>"
      ]
     },
     "metadata": {
      "needs_background": "light"
     },
     "output_type": "display_data"
    }
   ],
   "source": [
    "figura = plt.figure()\n",
    "plt.title(\"Prueba DC\")\n",
    "plt.plot(resultados['dc']['V1'], resultados['dc']['I(V1)'], label=\"Voltaje (V1)\")\n"
   ]
  },
  {
   "cell_type": "markdown",
   "metadata": {},
   "source": [
    " > **Pregunta:** comenta la gráfica anterior… ¿qué estamos viendo exactamente? Etiqueta los ejes de la misma convenientemente. Así como ningún número puede *viajar* solo sin hacer referencia a su naturaleza, ninguna gráfica puede estar sin sus ejes convenientemente etiquetados. Algo de [ayuda](https://matplotlib.org/3.1.0/gallery/pyplots/fig_axes_labels_simple.html). ¿Qué biblioteca estamos usando para graficar? Una [pista](https://matplotlib.org)."
   ]
  },
  {
   "cell_type": "markdown",
   "metadata": {},
   "source": [
    " > **Respuesta:**\n",
    "\n",
    " > La gráfica esta mostrando diferencia de potencia (V) en el eje x, y corriente o intensidad (A) en el eje y.\n",
    "\n",
    " > Si tomamos los valores como absolutos, puesto que el signo solo representa el sentido del flujo de los electrones, se ve como conforme aumenta la diferencia de potencial aumenta linealmente la corriente, y esto, según la Ley de Ohm debería de pasar a razón de la carga o resistencia. Puesto que la carga de nuestro circuito ofrece una resistencia de $\\mathrm{100\\Omega}$, para, por ejemplo $\\mathrm{4v}$, según la ley de Ohm tendriamos:\n",
    " $$\\mathrm{V}=\\mathrm{R}\\cdot\\mathrm{I}$$\n",
    " $$\\mathrm{I}=\\frac{\\mathrm{V}}{\\mathrm{R}}=\\frac{\\mathrm{4v}}{\\mathrm{100\\Omega}}=\\mathrm{0.04A}$$\n",
    "\n",
    " > Aquí la gráfica con sus ejes convenientemente etiquetados:"
   ]
  },
  {
   "cell_type": "code",
   "execution_count": 18,
   "metadata": {},
   "outputs": [
    {
     "data": {
      "image/png": "[encoded data removed]",
      "image/svg+xml": [
       "<?xml version=\"1.0\" encoding=\"utf-8\" standalone=\"no\"?>\r\n",
       "<!DOCTYPE svg PUBLIC \"-//W3C//DTD SVG 1.1//EN\"\r\n",
       "  \"http://www.w3.org/Graphics/SVG/1.1/DTD/svg11.dtd\">\r\n",
       "<!-- Created with matplotlib (https://matplotlib.org/) -->\r\n",
       "<svg height=\"279.25pt\" version=\"1.1\" viewBox=\"0 0 404.555781 279.25\" width=\"404.555781pt\" xmlns=\"http://www.w3.org/2000/svg\" xmlns:xlink=\"http://www.w3.org/1999/xlink\">\r\n",
       " <metadata>\r\n",
       "  <rdf:RDF xmlns:cc=\"http://creativecommons.org/ns#\" xmlns:dc=\"http://purl.org/dc/elements/1.1/\" xmlns:rdf=\"http://www.w3.org/1999/02/22-rdf-syntax-ns#\">\r\n",
       "   <cc:Work>\r\n",
       "    <dc:type rdf:resource=\"http://purl.org/dc/dcmitype/StillImage\"/>\r\n",
       "    <dc:date>2020-12-19T13:00:23.462230</dc:date>\r\n",
       "    <dc:format>image/svg+xml</dc:format>\r\n",
       "    <dc:creator>\r\n",
       "     <cc:Agent>\r\n",
       "      <dc:title>Matplotlib v3.3.3, https://matplotlib.org/</dc:title>\r\n",
       "     </cc:Agent>\r\n",
       "    </dc:creator>\r\n",
       "   </cc:Work>\r\n",
       "  </rdf:RDF>\r\n",
       " </metadata>\r\n",
       " <defs>\r\n",
       "  <style type=\"text/css\">*{stroke-linecap:butt;stroke-linejoin:round;}</style>\r\n",
       " </defs>\r\n",
       " <g id=\"figure_1\">\r\n",
       "  <g id=\"patch_1\">\r\n",
       "   <path d=\"M 0 279.25 \r\n",
       "L 404.555781 279.25 \r\n",
       "L 404.555781 0 \r\n",
       "L 0 0 \r\n",
       "z\r\n",
       "\" style=\"fill:none;\"/>\r\n",
       "  </g>\r\n",
       "  <g id=\"axes_1\">\r\n",
       "   <g id=\"patch_2\">\r\n",
       "    <path d=\"M 62.555781 239.758125 \r\n",
       "L 397.355781 239.758125 \r\n",
       "L 397.355781 22.318125 \r\n",
       "L 62.555781 22.318125 \r\n",
       "z\r\n",
       "\" style=\"fill:#ffffff;\"/>\r\n",
       "   </g>\r\n",
       "   <g id=\"matplotlib.axis_1\">\r\n",
       "    <g id=\"xtick_1\">\r\n",
       "     <g id=\"line2d_1\">\r\n",
       "      <defs>\r\n",
       "       <path d=\"M 0 0 \r\n",
       "L 0 3.5 \r\n",
       "\" id=\"md24d3d76cb\" style=\"stroke:#000000;stroke-width:0.8;\"/>\r\n",
       "      </defs>\r\n",
       "      <g>\r\n",
       "       <use style=\"stroke:#000000;stroke-width:0.8;\" x=\"77.773963\" xlink:href=\"#md24d3d76cb\" y=\"239.758125\"/>\r\n",
       "      </g>\r\n",
       "     </g>\r\n",
       "     <g id=\"text_1\">\r\n",
       "      <!-- 0 -->\r\n",
       "      <g transform=\"translate(74.274588 255.116406)scale(0.11 -0.11)\">\r\n",
       "       <defs>\r\n",
       "        <path d=\"M 31.78125 66.40625 \r\n",
       "Q 24.171875 66.40625 20.328125 58.90625 \r\n",
       "Q 16.5 51.421875 16.5 36.375 \r\n",
       "Q 16.5 21.390625 20.328125 13.890625 \r\n",
       "Q 24.171875 6.390625 31.78125 6.390625 \r\n",
       "Q 39.453125 6.390625 43.28125 13.890625 \r\n",
       "Q 47.125 21.390625 47.125 36.375 \r\n",
       "Q 47.125 51.421875 43.28125 58.90625 \r\n",
       "Q 39.453125 66.40625 31.78125 66.40625 \r\n",
       "z\r\n",
       "M 31.78125 74.21875 \r\n",
       "Q 44.046875 74.21875 50.515625 64.515625 \r\n",
       "Q 56.984375 54.828125 56.984375 36.375 \r\n",
       "Q 56.984375 17.96875 50.515625 8.265625 \r\n",
       "Q 44.046875 -1.421875 31.78125 -1.421875 \r\n",
       "Q 19.53125 -1.421875 13.0625 8.265625 \r\n",
       "Q 6.59375 17.96875 6.59375 36.375 \r\n",
       "Q 6.59375 54.828125 13.0625 64.515625 \r\n",
       "Q 19.53125 74.21875 31.78125 74.21875 \r\n",
       "z\r\n",
       "\" id=\"DejaVuSans-48\"/>\r\n",
       "       </defs>\r\n",
       "       <use xlink:href=\"#DejaVuSans-48\"/>\r\n",
       "      </g>\r\n",
       "     </g>\r\n",
       "    </g>\r\n",
       "    <g id=\"xtick_2\">\r\n",
       "     <g id=\"line2d_2\">\r\n",
       "      <g>\r\n",
       "       <use style=\"stroke:#000000;stroke-width:0.8;\" x=\"138.64669\" xlink:href=\"#md24d3d76cb\" y=\"239.758125\"/>\r\n",
       "      </g>\r\n",
       "     </g>\r\n",
       "     <g id=\"text_2\">\r\n",
       "      <!-- 2 -->\r\n",
       "      <g transform=\"translate(135.147315 255.116406)scale(0.11 -0.11)\">\r\n",
       "       <defs>\r\n",
       "        <path d=\"M 19.1875 8.296875 \r\n",
       "L 53.609375 8.296875 \r\n",
       "L 53.609375 0 \r\n",
       "L 7.328125 0 \r\n",
       "L 7.328125 8.296875 \r\n",
       "Q 12.9375 14.109375 22.625 23.890625 \r\n",
       "Q 32.328125 33.6875 34.8125 36.53125 \r\n",
       "Q 39.546875 41.84375 41.421875 45.53125 \r\n",
       "Q 43.3125 49.21875 43.3125 52.78125 \r\n",
       "Q 43.3125 58.59375 39.234375 62.25 \r\n",
       "Q 35.15625 65.921875 28.609375 65.921875 \r\n",
       "Q 23.96875 65.921875 18.8125 64.3125 \r\n",
       "Q 13.671875 62.703125 7.8125 59.421875 \r\n",
       "L 7.8125 69.390625 \r\n",
       "Q 13.765625 71.78125 18.9375 73 \r\n",
       "Q 24.125 74.21875 28.421875 74.21875 \r\n",
       "Q 39.75 74.21875 46.484375 68.546875 \r\n",
       "Q 53.21875 62.890625 53.21875 53.421875 \r\n",
       "Q 53.21875 48.921875 51.53125 44.890625 \r\n",
       "Q 49.859375 40.875 45.40625 35.40625 \r\n",
       "Q 44.1875 33.984375 37.640625 27.21875 \r\n",
       "Q 31.109375 20.453125 19.1875 8.296875 \r\n",
       "z\r\n",
       "\" id=\"DejaVuSans-50\"/>\r\n",
       "       </defs>\r\n",
       "       <use xlink:href=\"#DejaVuSans-50\"/>\r\n",
       "      </g>\r\n",
       "     </g>\r\n",
       "    </g>\r\n",
       "    <g id=\"xtick_3\">\r\n",
       "     <g id=\"line2d_3\">\r\n",
       "      <g>\r\n",
       "       <use style=\"stroke:#000000;stroke-width:0.8;\" x=\"199.519418\" xlink:href=\"#md24d3d76cb\" y=\"239.758125\"/>\r\n",
       "      </g>\r\n",
       "     </g>\r\n",
       "     <g id=\"text_3\">\r\n",
       "      <!-- 4 -->\r\n",
       "      <g transform=\"translate(196.020043 255.116406)scale(0.11 -0.11)\">\r\n",
       "       <defs>\r\n",
       "        <path d=\"M 37.796875 64.3125 \r\n",
       "L 12.890625 25.390625 \r\n",
       "L 37.796875 25.390625 \r\n",
       "z\r\n",
       "M 35.203125 72.90625 \r\n",
       "L 47.609375 72.90625 \r\n",
       "L 47.609375 25.390625 \r\n",
       "L 58.015625 25.390625 \r\n",
       "L 58.015625 17.1875 \r\n",
       "L 47.609375 17.1875 \r\n",
       "L 47.609375 0 \r\n",
       "L 37.796875 0 \r\n",
       "L 37.796875 17.1875 \r\n",
       "L 4.890625 17.1875 \r\n",
       "L 4.890625 26.703125 \r\n",
       "z\r\n",
       "\" id=\"DejaVuSans-52\"/>\r\n",
       "       </defs>\r\n",
       "       <use xlink:href=\"#DejaVuSans-52\"/>\r\n",
       "      </g>\r\n",
       "     </g>\r\n",
       "    </g>\r\n",
       "    <g id=\"xtick_4\">\r\n",
       "     <g id=\"line2d_4\">\r\n",
       "      <g>\r\n",
       "       <use style=\"stroke:#000000;stroke-width:0.8;\" x=\"260.392145\" xlink:href=\"#md24d3d76cb\" y=\"239.758125\"/>\r\n",
       "      </g>\r\n",
       "     </g>\r\n",
       "     <g id=\"text_4\">\r\n",
       "      <!-- 6 -->\r\n",
       "      <g transform=\"translate(256.89277 255.116406)scale(0.11 -0.11)\">\r\n",
       "       <defs>\r\n",
       "        <path d=\"M 33.015625 40.375 \r\n",
       "Q 26.375 40.375 22.484375 35.828125 \r\n",
       "Q 18.609375 31.296875 18.609375 23.390625 \r\n",
       "Q 18.609375 15.53125 22.484375 10.953125 \r\n",
       "Q 26.375 6.390625 33.015625 6.390625 \r\n",
       "Q 39.65625 6.390625 43.53125 10.953125 \r\n",
       "Q 47.40625 15.53125 47.40625 23.390625 \r\n",
       "Q 47.40625 31.296875 43.53125 35.828125 \r\n",
       "Q 39.65625 40.375 33.015625 40.375 \r\n",
       "z\r\n",
       "M 52.59375 71.296875 \r\n",
       "L 52.59375 62.3125 \r\n",
       "Q 48.875 64.0625 45.09375 64.984375 \r\n",
       "Q 41.3125 65.921875 37.59375 65.921875 \r\n",
       "Q 27.828125 65.921875 22.671875 59.328125 \r\n",
       "Q 17.53125 52.734375 16.796875 39.40625 \r\n",
       "Q 19.671875 43.65625 24.015625 45.921875 \r\n",
       "Q 28.375 48.1875 33.59375 48.1875 \r\n",
       "Q 44.578125 48.1875 50.953125 41.515625 \r\n",
       "Q 57.328125 34.859375 57.328125 23.390625 \r\n",
       "Q 57.328125 12.15625 50.6875 5.359375 \r\n",
       "Q 44.046875 -1.421875 33.015625 -1.421875 \r\n",
       "Q 20.359375 -1.421875 13.671875 8.265625 \r\n",
       "Q 6.984375 17.96875 6.984375 36.375 \r\n",
       "Q 6.984375 53.65625 15.1875 63.9375 \r\n",
       "Q 23.390625 74.21875 37.203125 74.21875 \r\n",
       "Q 40.921875 74.21875 44.703125 73.484375 \r\n",
       "Q 48.484375 72.75 52.59375 71.296875 \r\n",
       "z\r\n",
       "\" id=\"DejaVuSans-54\"/>\r\n",
       "       </defs>\r\n",
       "       <use xlink:href=\"#DejaVuSans-54\"/>\r\n",
       "      </g>\r\n",
       "     </g>\r\n",
       "    </g>\r\n",
       "    <g id=\"xtick_5\">\r\n",
       "     <g id=\"line2d_5\">\r\n",
       "      <g>\r\n",
       "       <use style=\"stroke:#000000;stroke-width:0.8;\" x=\"321.264872\" xlink:href=\"#md24d3d76cb\" y=\"239.758125\"/>\r\n",
       "      </g>\r\n",
       "     </g>\r\n",
       "     <g id=\"text_5\">\r\n",
       "      <!-- 8 -->\r\n",
       "      <g transform=\"translate(317.765497 255.116406)scale(0.11 -0.11)\">\r\n",
       "       <defs>\r\n",
       "        <path d=\"M 31.78125 34.625 \r\n",
       "Q 24.75 34.625 20.71875 30.859375 \r\n",
       "Q 16.703125 27.09375 16.703125 20.515625 \r\n",
       "Q 16.703125 13.921875 20.71875 10.15625 \r\n",
       "Q 24.75 6.390625 31.78125 6.390625 \r\n",
       "Q 38.8125 6.390625 42.859375 10.171875 \r\n",
       "Q 46.921875 13.96875 46.921875 20.515625 \r\n",
       "Q 46.921875 27.09375 42.890625 30.859375 \r\n",
       "Q 38.875 34.625 31.78125 34.625 \r\n",
       "z\r\n",
       "M 21.921875 38.8125 \r\n",
       "Q 15.578125 40.375 12.03125 44.71875 \r\n",
       "Q 8.5 49.078125 8.5 55.328125 \r\n",
       "Q 8.5 64.0625 14.71875 69.140625 \r\n",
       "Q 20.953125 74.21875 31.78125 74.21875 \r\n",
       "Q 42.671875 74.21875 48.875 69.140625 \r\n",
       "Q 55.078125 64.0625 55.078125 55.328125 \r\n",
       "Q 55.078125 49.078125 51.53125 44.71875 \r\n",
       "Q 48 40.375 41.703125 38.8125 \r\n",
       "Q 48.828125 37.15625 52.796875 32.3125 \r\n",
       "Q 56.78125 27.484375 56.78125 20.515625 \r\n",
       "Q 56.78125 9.90625 50.3125 4.234375 \r\n",
       "Q 43.84375 -1.421875 31.78125 -1.421875 \r\n",
       "Q 19.734375 -1.421875 13.25 4.234375 \r\n",
       "Q 6.78125 9.90625 6.78125 20.515625 \r\n",
       "Q 6.78125 27.484375 10.78125 32.3125 \r\n",
       "Q 14.796875 37.15625 21.921875 38.8125 \r\n",
       "z\r\n",
       "M 18.3125 54.390625 \r\n",
       "Q 18.3125 48.734375 21.84375 45.5625 \r\n",
       "Q 25.390625 42.390625 31.78125 42.390625 \r\n",
       "Q 38.140625 42.390625 41.71875 45.5625 \r\n",
       "Q 45.3125 48.734375 45.3125 54.390625 \r\n",
       "Q 45.3125 60.0625 41.71875 63.234375 \r\n",
       "Q 38.140625 66.40625 31.78125 66.40625 \r\n",
       "Q 25.390625 66.40625 21.84375 63.234375 \r\n",
       "Q 18.3125 60.0625 18.3125 54.390625 \r\n",
       "z\r\n",
       "\" id=\"DejaVuSans-56\"/>\r\n",
       "       </defs>\r\n",
       "       <use xlink:href=\"#DejaVuSans-56\"/>\r\n",
       "      </g>\r\n",
       "     </g>\r\n",
       "    </g>\r\n",
       "    <g id=\"xtick_6\">\r\n",
       "     <g id=\"line2d_6\">\r\n",
       "      <g>\r\n",
       "       <use style=\"stroke:#000000;stroke-width:0.8;\" x=\"382.137599\" xlink:href=\"#md24d3d76cb\" y=\"239.758125\"/>\r\n",
       "      </g>\r\n",
       "     </g>\r\n",
       "     <g id=\"text_6\">\r\n",
       "      <!-- 10 -->\r\n",
       "      <g transform=\"translate(375.138849 255.116406)scale(0.11 -0.11)\">\r\n",
       "       <defs>\r\n",
       "        <path d=\"M 12.40625 8.296875 \r\n",
       "L 28.515625 8.296875 \r\n",
       "L 28.515625 63.921875 \r\n",
       "L 10.984375 60.40625 \r\n",
       "L 10.984375 69.390625 \r\n",
       "L 28.421875 72.90625 \r\n",
       "L 38.28125 72.90625 \r\n",
       "L 38.28125 8.296875 \r\n",
       "L 54.390625 8.296875 \r\n",
       "L 54.390625 0 \r\n",
       "L 12.40625 0 \r\n",
       "z\r\n",
       "\" id=\"DejaVuSans-49\"/>\r\n",
       "       </defs>\r\n",
       "       <use xlink:href=\"#DejaVuSans-49\"/>\r\n",
       "       <use x=\"63.623047\" xlink:href=\"#DejaVuSans-48\"/>\r\n",
       "      </g>\r\n",
       "     </g>\r\n",
       "    </g>\r\n",
       "    <g id=\"text_7\">\r\n",
       "     <!-- Voltaje (V) -->\r\n",
       "     <g transform=\"translate(201.485547 269.762344)scale(0.11 -0.11)\">\r\n",
       "      <defs>\r\n",
       "       <path d=\"M 28.609375 0 \r\n",
       "L 0.78125 72.90625 \r\n",
       "L 11.078125 72.90625 \r\n",
       "L 34.1875 11.53125 \r\n",
       "L 57.328125 72.90625 \r\n",
       "L 67.578125 72.90625 \r\n",
       "L 39.796875 0 \r\n",
       "z\r\n",
       "\" id=\"DejaVuSans-86\"/>\r\n",
       "       <path d=\"M 30.609375 48.390625 \r\n",
       "Q 23.390625 48.390625 19.1875 42.75 \r\n",
       "Q 14.984375 37.109375 14.984375 27.296875 \r\n",
       "Q 14.984375 17.484375 19.15625 11.84375 \r\n",
       "Q 23.34375 6.203125 30.609375 6.203125 \r\n",
       "Q 37.796875 6.203125 41.984375 11.859375 \r\n",
       "Q 46.1875 17.53125 46.1875 27.296875 \r\n",
       "Q 46.1875 37.015625 41.984375 42.703125 \r\n",
       "Q 37.796875 48.390625 30.609375 48.390625 \r\n",
       "z\r\n",
       "M 30.609375 56 \r\n",
       "Q 42.328125 56 49.015625 48.375 \r\n",
       "Q 55.71875 40.765625 55.71875 27.296875 \r\n",
       "Q 55.71875 13.875 49.015625 6.21875 \r\n",
       "Q 42.328125 -1.421875 30.609375 -1.421875 \r\n",
       "Q 18.84375 -1.421875 12.171875 6.21875 \r\n",
       "Q 5.515625 13.875 5.515625 27.296875 \r\n",
       "Q 5.515625 40.765625 12.171875 48.375 \r\n",
       "Q 18.84375 56 30.609375 56 \r\n",
       "z\r\n",
       "\" id=\"DejaVuSans-111\"/>\r\n",
       "       <path d=\"M 9.421875 75.984375 \r\n",
       "L 18.40625 75.984375 \r\n",
       "L 18.40625 0 \r\n",
       "L 9.421875 0 \r\n",
       "z\r\n",
       "\" id=\"DejaVuSans-108\"/>\r\n",
       "       <path d=\"M 18.3125 70.21875 \r\n",
       "L 18.3125 54.6875 \r\n",
       "L 36.8125 54.6875 \r\n",
       "L 36.8125 47.703125 \r\n",
       "L 18.3125 47.703125 \r\n",
       "L 18.3125 18.015625 \r\n",
       "Q 18.3125 11.328125 20.140625 9.421875 \r\n",
       "Q 21.96875 7.515625 27.59375 7.515625 \r\n",
       "L 36.8125 7.515625 \r\n",
       "L 36.8125 0 \r\n",
       "L 27.59375 0 \r\n",
       "Q 17.1875 0 13.234375 3.875 \r\n",
       "Q 9.28125 7.765625 9.28125 18.015625 \r\n",
       "L 9.28125 47.703125 \r\n",
       "L 2.6875 47.703125 \r\n",
       "L 2.6875 54.6875 \r\n",
       "L 9.28125 54.6875 \r\n",
       "L 9.28125 70.21875 \r\n",
       "z\r\n",
       "\" id=\"DejaVuSans-116\"/>\r\n",
       "       <path d=\"M 34.28125 27.484375 \r\n",
       "Q 23.390625 27.484375 19.1875 25 \r\n",
       "Q 14.984375 22.515625 14.984375 16.5 \r\n",
       "Q 14.984375 11.71875 18.140625 8.90625 \r\n",
       "Q 21.296875 6.109375 26.703125 6.109375 \r\n",
       "Q 34.1875 6.109375 38.703125 11.40625 \r\n",
       "Q 43.21875 16.703125 43.21875 25.484375 \r\n",
       "L 43.21875 27.484375 \r\n",
       "z\r\n",
       "M 52.203125 31.203125 \r\n",
       "L 52.203125 0 \r\n",
       "L 43.21875 0 \r\n",
       "L 43.21875 8.296875 \r\n",
       "Q 40.140625 3.328125 35.546875 0.953125 \r\n",
       "Q 30.953125 -1.421875 24.3125 -1.421875 \r\n",
       "Q 15.921875 -1.421875 10.953125 3.296875 \r\n",
       "Q 6 8.015625 6 15.921875 \r\n",
       "Q 6 25.140625 12.171875 29.828125 \r\n",
       "Q 18.359375 34.515625 30.609375 34.515625 \r\n",
       "L 43.21875 34.515625 \r\n",
       "L 43.21875 35.40625 \r\n",
       "Q 43.21875 41.609375 39.140625 45 \r\n",
       "Q 35.0625 48.390625 27.6875 48.390625 \r\n",
       "Q 23 48.390625 18.546875 47.265625 \r\n",
       "Q 14.109375 46.140625 10.015625 43.890625 \r\n",
       "L 10.015625 52.203125 \r\n",
       "Q 14.9375 54.109375 19.578125 55.046875 \r\n",
       "Q 24.21875 56 28.609375 56 \r\n",
       "Q 40.484375 56 46.34375 49.84375 \r\n",
       "Q 52.203125 43.703125 52.203125 31.203125 \r\n",
       "z\r\n",
       "\" id=\"DejaVuSans-97\"/>\r\n",
       "       <path d=\"M 9.421875 54.6875 \r\n",
       "L 18.40625 54.6875 \r\n",
       "L 18.40625 -0.984375 \r\n",
       "Q 18.40625 -11.421875 14.421875 -16.109375 \r\n",
       "Q 10.453125 -20.796875 1.609375 -20.796875 \r\n",
       "L -1.8125 -20.796875 \r\n",
       "L -1.8125 -13.1875 \r\n",
       "L 0.59375 -13.1875 \r\n",
       "Q 5.71875 -13.1875 7.5625 -10.8125 \r\n",
       "Q 9.421875 -8.453125 9.421875 -0.984375 \r\n",
       "z\r\n",
       "M 9.421875 75.984375 \r\n",
       "L 18.40625 75.984375 \r\n",
       "L 18.40625 64.59375 \r\n",
       "L 9.421875 64.59375 \r\n",
       "z\r\n",
       "\" id=\"DejaVuSans-106\"/>\r\n",
       "       <path d=\"M 56.203125 29.59375 \r\n",
       "L 56.203125 25.203125 \r\n",
       "L 14.890625 25.203125 \r\n",
       "Q 15.484375 15.921875 20.484375 11.0625 \r\n",
       "Q 25.484375 6.203125 34.421875 6.203125 \r\n",
       "Q 39.59375 6.203125 44.453125 7.46875 \r\n",
       "Q 49.3125 8.734375 54.109375 11.28125 \r\n",
       "L 54.109375 2.78125 \r\n",
       "Q 49.265625 0.734375 44.1875 -0.34375 \r\n",
       "Q 39.109375 -1.421875 33.890625 -1.421875 \r\n",
       "Q 20.796875 -1.421875 13.15625 6.1875 \r\n",
       "Q 5.515625 13.8125 5.515625 26.8125 \r\n",
       "Q 5.515625 40.234375 12.765625 48.109375 \r\n",
       "Q 20.015625 56 32.328125 56 \r\n",
       "Q 43.359375 56 49.78125 48.890625 \r\n",
       "Q 56.203125 41.796875 56.203125 29.59375 \r\n",
       "z\r\n",
       "M 47.21875 32.234375 \r\n",
       "Q 47.125 39.59375 43.09375 43.984375 \r\n",
       "Q 39.0625 48.390625 32.421875 48.390625 \r\n",
       "Q 24.90625 48.390625 20.390625 44.140625 \r\n",
       "Q 15.875 39.890625 15.1875 32.171875 \r\n",
       "z\r\n",
       "\" id=\"DejaVuSans-101\"/>\r\n",
       "       <path id=\"DejaVuSans-32\"/>\r\n",
       "       <path d=\"M 31 75.875 \r\n",
       "Q 24.46875 64.65625 21.28125 53.65625 \r\n",
       "Q 18.109375 42.671875 18.109375 31.390625 \r\n",
       "Q 18.109375 20.125 21.3125 9.0625 \r\n",
       "Q 24.515625 -2 31 -13.1875 \r\n",
       "L 23.1875 -13.1875 \r\n",
       "Q 15.875 -1.703125 12.234375 9.375 \r\n",
       "Q 8.59375 20.453125 8.59375 31.390625 \r\n",
       "Q 8.59375 42.28125 12.203125 53.3125 \r\n",
       "Q 15.828125 64.359375 23.1875 75.875 \r\n",
       "z\r\n",
       "\" id=\"DejaVuSans-40\"/>\r\n",
       "       <path d=\"M 8.015625 75.875 \r\n",
       "L 15.828125 75.875 \r\n",
       "Q 23.140625 64.359375 26.78125 53.3125 \r\n",
       "Q 30.421875 42.28125 30.421875 31.390625 \r\n",
       "Q 30.421875 20.453125 26.78125 9.375 \r\n",
       "Q 23.140625 -1.703125 15.828125 -13.1875 \r\n",
       "L 8.015625 -13.1875 \r\n",
       "Q 14.5 -2 17.703125 9.0625 \r\n",
       "Q 20.90625 20.125 20.90625 31.390625 \r\n",
       "Q 20.90625 42.671875 17.703125 53.65625 \r\n",
       "Q 14.5 64.65625 8.015625 75.875 \r\n",
       "z\r\n",
       "\" id=\"DejaVuSans-41\"/>\r\n",
       "      </defs>\r\n",
       "      <use xlink:href=\"#DejaVuSans-86\"/>\r\n",
       "      <use x=\"60.658203\" xlink:href=\"#DejaVuSans-111\"/>\r\n",
       "      <use x=\"121.839844\" xlink:href=\"#DejaVuSans-108\"/>\r\n",
       "      <use x=\"149.623047\" xlink:href=\"#DejaVuSans-116\"/>\r\n",
       "      <use x=\"188.832031\" xlink:href=\"#DejaVuSans-97\"/>\r\n",
       "      <use x=\"250.111328\" xlink:href=\"#DejaVuSans-106\"/>\r\n",
       "      <use x=\"277.894531\" xlink:href=\"#DejaVuSans-101\"/>\r\n",
       "      <use x=\"339.417969\" xlink:href=\"#DejaVuSans-32\"/>\r\n",
       "      <use x=\"371.205078\" xlink:href=\"#DejaVuSans-40\"/>\r\n",
       "      <use x=\"410.21875\" xlink:href=\"#DejaVuSans-86\"/>\r\n",
       "      <use x=\"478.626953\" xlink:href=\"#DejaVuSans-41\"/>\r\n",
       "     </g>\r\n",
       "    </g>\r\n",
       "   </g>\r\n",
       "   <g id=\"matplotlib.axis_2\">\r\n",
       "    <g id=\"ytick_1\">\r\n",
       "     <g id=\"line2d_7\">\r\n",
       "      <defs>\r\n",
       "       <path d=\"M 0 0 \r\n",
       "L -3.5 0 \r\n",
       "\" id=\"mebf024d24e\" style=\"stroke:#000000;stroke-width:0.8;\"/>\r\n",
       "      </defs>\r\n",
       "      <g>\r\n",
       "       <use style=\"stroke:#000000;stroke-width:0.8;\" x=\"62.555781\" xlink:href=\"#mebf024d24e\" y=\"229.874489\"/>\r\n",
       "      </g>\r\n",
       "     </g>\r\n",
       "     <g id=\"text_8\">\r\n",
       "      <!-- −0.10 -->\r\n",
       "      <g transform=\"translate(21.845938 234.053629)scale(0.11 -0.11)\">\r\n",
       "       <defs>\r\n",
       "        <path d=\"M 10.59375 35.5 \r\n",
       "L 73.1875 35.5 \r\n",
       "L 73.1875 27.203125 \r\n",
       "L 10.59375 27.203125 \r\n",
       "z\r\n",
       "\" id=\"DejaVuSans-8722\"/>\r\n",
       "        <path d=\"M 10.6875 12.40625 \r\n",
       "L 21 12.40625 \r\n",
       "L 21 0 \r\n",
       "L 10.6875 0 \r\n",
       "z\r\n",
       "\" id=\"DejaVuSans-46\"/>\r\n",
       "       </defs>\r\n",
       "       <use xlink:href=\"#DejaVuSans-8722\"/>\r\n",
       "       <use x=\"83.789062\" xlink:href=\"#DejaVuSans-48\"/>\r\n",
       "       <use x=\"147.412109\" xlink:href=\"#DejaVuSans-46\"/>\r\n",
       "       <use x=\"179.199219\" xlink:href=\"#DejaVuSans-49\"/>\r\n",
       "       <use x=\"242.822266\" xlink:href=\"#DejaVuSans-48\"/>\r\n",
       "      </g>\r\n",
       "     </g>\r\n",
       "    </g>\r\n",
       "    <g id=\"ytick_2\">\r\n",
       "     <g id=\"line2d_8\">\r\n",
       "      <g>\r\n",
       "       <use style=\"stroke:#000000;stroke-width:0.8;\" x=\"62.555781\" xlink:href=\"#mebf024d24e\" y=\"190.339943\"/>\r\n",
       "      </g>\r\n",
       "     </g>\r\n",
       "     <g id=\"text_9\">\r\n",
       "      <!-- −0.08 -->\r\n",
       "      <g transform=\"translate(21.845938 194.519084)scale(0.11 -0.11)\">\r\n",
       "       <use xlink:href=\"#DejaVuSans-8722\"/>\r\n",
       "       <use x=\"83.789062\" xlink:href=\"#DejaVuSans-48\"/>\r\n",
       "       <use x=\"147.412109\" xlink:href=\"#DejaVuSans-46\"/>\r\n",
       "       <use x=\"179.199219\" xlink:href=\"#DejaVuSans-48\"/>\r\n",
       "       <use x=\"242.822266\" xlink:href=\"#DejaVuSans-56\"/>\r\n",
       "      </g>\r\n",
       "     </g>\r\n",
       "    </g>\r\n",
       "    <g id=\"ytick_3\">\r\n",
       "     <g id=\"line2d_9\">\r\n",
       "      <g>\r\n",
       "       <use style=\"stroke:#000000;stroke-width:0.8;\" x=\"62.555781\" xlink:href=\"#mebf024d24e\" y=\"150.805398\"/>\r\n",
       "      </g>\r\n",
       "     </g>\r\n",
       "     <g id=\"text_10\">\r\n",
       "      <!-- −0.06 -->\r\n",
       "      <g transform=\"translate(21.845938 154.984538)scale(0.11 -0.11)\">\r\n",
       "       <use xlink:href=\"#DejaVuSans-8722\"/>\r\n",
       "       <use x=\"83.789062\" xlink:href=\"#DejaVuSans-48\"/>\r\n",
       "       <use x=\"147.412109\" xlink:href=\"#DejaVuSans-46\"/>\r\n",
       "       <use x=\"179.199219\" xlink:href=\"#DejaVuSans-48\"/>\r\n",
       "       <use x=\"242.822266\" xlink:href=\"#DejaVuSans-54\"/>\r\n",
       "      </g>\r\n",
       "     </g>\r\n",
       "    </g>\r\n",
       "    <g id=\"ytick_4\">\r\n",
       "     <g id=\"line2d_10\">\r\n",
       "      <g>\r\n",
       "       <use style=\"stroke:#000000;stroke-width:0.8;\" x=\"62.555781\" xlink:href=\"#mebf024d24e\" y=\"111.270852\"/>\r\n",
       "      </g>\r\n",
       "     </g>\r\n",
       "     <g id=\"text_11\">\r\n",
       "      <!-- −0.04 -->\r\n",
       "      <g transform=\"translate(21.845938 115.449993)scale(0.11 -0.11)\">\r\n",
       "       <use xlink:href=\"#DejaVuSans-8722\"/>\r\n",
       "       <use x=\"83.789062\" xlink:href=\"#DejaVuSans-48\"/>\r\n",
       "       <use x=\"147.412109\" xlink:href=\"#DejaVuSans-46\"/>\r\n",
       "       <use x=\"179.199219\" xlink:href=\"#DejaVuSans-48\"/>\r\n",
       "       <use x=\"242.822266\" xlink:href=\"#DejaVuSans-52\"/>\r\n",
       "      </g>\r\n",
       "     </g>\r\n",
       "    </g>\r\n",
       "    <g id=\"ytick_5\">\r\n",
       "     <g id=\"line2d_11\">\r\n",
       "      <g>\r\n",
       "       <use style=\"stroke:#000000;stroke-width:0.8;\" x=\"62.555781\" xlink:href=\"#mebf024d24e\" y=\"71.736307\"/>\r\n",
       "      </g>\r\n",
       "     </g>\r\n",
       "     <g id=\"text_12\">\r\n",
       "      <!-- −0.02 -->\r\n",
       "      <g transform=\"translate(21.845938 75.915447)scale(0.11 -0.11)\">\r\n",
       "       <use xlink:href=\"#DejaVuSans-8722\"/>\r\n",
       "       <use x=\"83.789062\" xlink:href=\"#DejaVuSans-48\"/>\r\n",
       "       <use x=\"147.412109\" xlink:href=\"#DejaVuSans-46\"/>\r\n",
       "       <use x=\"179.199219\" xlink:href=\"#DejaVuSans-48\"/>\r\n",
       "       <use x=\"242.822266\" xlink:href=\"#DejaVuSans-50\"/>\r\n",
       "      </g>\r\n",
       "     </g>\r\n",
       "    </g>\r\n",
       "    <g id=\"ytick_6\">\r\n",
       "     <g id=\"line2d_12\">\r\n",
       "      <g>\r\n",
       "       <use style=\"stroke:#000000;stroke-width:0.8;\" x=\"62.555781\" xlink:href=\"#mebf024d24e\" y=\"32.201761\"/>\r\n",
       "      </g>\r\n",
       "     </g>\r\n",
       "     <g id=\"text_13\">\r\n",
       "      <!-- 0.00 -->\r\n",
       "      <g transform=\"translate(31.063594 36.380902)scale(0.11 -0.11)\">\r\n",
       "       <use xlink:href=\"#DejaVuSans-48\"/>\r\n",
       "       <use x=\"63.623047\" xlink:href=\"#DejaVuSans-46\"/>\r\n",
       "       <use x=\"95.410156\" xlink:href=\"#DejaVuSans-48\"/>\r\n",
       "       <use x=\"159.033203\" xlink:href=\"#DejaVuSans-48\"/>\r\n",
       "      </g>\r\n",
       "     </g>\r\n",
       "    </g>\r\n",
       "    <g id=\"text_14\">\r\n",
       "     <!-- Intensidad (A) -->\r\n",
       "     <g transform=\"translate(15.558281 169.721172)rotate(-90)scale(0.11 -0.11)\">\r\n",
       "      <defs>\r\n",
       "       <path d=\"M 9.8125 72.90625 \r\n",
       "L 19.671875 72.90625 \r\n",
       "L 19.671875 0 \r\n",
       "L 9.8125 0 \r\n",
       "z\r\n",
       "\" id=\"DejaVuSans-73\"/>\r\n",
       "       <path d=\"M 54.890625 33.015625 \r\n",
       "L 54.890625 0 \r\n",
       "L 45.90625 0 \r\n",
       "L 45.90625 32.71875 \r\n",
       "Q 45.90625 40.484375 42.875 44.328125 \r\n",
       "Q 39.84375 48.1875 33.796875 48.1875 \r\n",
       "Q 26.515625 48.1875 22.3125 43.546875 \r\n",
       "Q 18.109375 38.921875 18.109375 30.90625 \r\n",
       "L 18.109375 0 \r\n",
       "L 9.078125 0 \r\n",
       "L 9.078125 54.6875 \r\n",
       "L 18.109375 54.6875 \r\n",
       "L 18.109375 46.1875 \r\n",
       "Q 21.34375 51.125 25.703125 53.5625 \r\n",
       "Q 30.078125 56 35.796875 56 \r\n",
       "Q 45.21875 56 50.046875 50.171875 \r\n",
       "Q 54.890625 44.34375 54.890625 33.015625 \r\n",
       "z\r\n",
       "\" id=\"DejaVuSans-110\"/>\r\n",
       "       <path d=\"M 44.28125 53.078125 \r\n",
       "L 44.28125 44.578125 \r\n",
       "Q 40.484375 46.53125 36.375 47.5 \r\n",
       "Q 32.28125 48.484375 27.875 48.484375 \r\n",
       "Q 21.1875 48.484375 17.84375 46.4375 \r\n",
       "Q 14.5 44.390625 14.5 40.28125 \r\n",
       "Q 14.5 37.15625 16.890625 35.375 \r\n",
       "Q 19.28125 33.59375 26.515625 31.984375 \r\n",
       "L 29.59375 31.296875 \r\n",
       "Q 39.15625 29.25 43.1875 25.515625 \r\n",
       "Q 47.21875 21.78125 47.21875 15.09375 \r\n",
       "Q 47.21875 7.46875 41.1875 3.015625 \r\n",
       "Q 35.15625 -1.421875 24.609375 -1.421875 \r\n",
       "Q 20.21875 -1.421875 15.453125 -0.5625 \r\n",
       "Q 10.6875 0.296875 5.421875 2 \r\n",
       "L 5.421875 11.28125 \r\n",
       "Q 10.40625 8.6875 15.234375 7.390625 \r\n",
       "Q 20.0625 6.109375 24.8125 6.109375 \r\n",
       "Q 31.15625 6.109375 34.5625 8.28125 \r\n",
       "Q 37.984375 10.453125 37.984375 14.40625 \r\n",
       "Q 37.984375 18.0625 35.515625 20.015625 \r\n",
       "Q 33.0625 21.96875 24.703125 23.78125 \r\n",
       "L 21.578125 24.515625 \r\n",
       "Q 13.234375 26.265625 9.515625 29.90625 \r\n",
       "Q 5.8125 33.546875 5.8125 39.890625 \r\n",
       "Q 5.8125 47.609375 11.28125 51.796875 \r\n",
       "Q 16.75 56 26.8125 56 \r\n",
       "Q 31.78125 56 36.171875 55.265625 \r\n",
       "Q 40.578125 54.546875 44.28125 53.078125 \r\n",
       "z\r\n",
       "\" id=\"DejaVuSans-115\"/>\r\n",
       "       <path d=\"M 9.421875 54.6875 \r\n",
       "L 18.40625 54.6875 \r\n",
       "L 18.40625 0 \r\n",
       "L 9.421875 0 \r\n",
       "z\r\n",
       "M 9.421875 75.984375 \r\n",
       "L 18.40625 75.984375 \r\n",
       "L 18.40625 64.59375 \r\n",
       "L 9.421875 64.59375 \r\n",
       "z\r\n",
       "\" id=\"DejaVuSans-105\"/>\r\n",
       "       <path d=\"M 45.40625 46.390625 \r\n",
       "L 45.40625 75.984375 \r\n",
       "L 54.390625 75.984375 \r\n",
       "L 54.390625 0 \r\n",
       "L 45.40625 0 \r\n",
       "L 45.40625 8.203125 \r\n",
       "Q 42.578125 3.328125 38.25 0.953125 \r\n",
       "Q 33.9375 -1.421875 27.875 -1.421875 \r\n",
       "Q 17.96875 -1.421875 11.734375 6.484375 \r\n",
       "Q 5.515625 14.40625 5.515625 27.296875 \r\n",
       "Q 5.515625 40.1875 11.734375 48.09375 \r\n",
       "Q 17.96875 56 27.875 56 \r\n",
       "Q 33.9375 56 38.25 53.625 \r\n",
       "Q 42.578125 51.265625 45.40625 46.390625 \r\n",
       "z\r\n",
       "M 14.796875 27.296875 \r\n",
       "Q 14.796875 17.390625 18.875 11.75 \r\n",
       "Q 22.953125 6.109375 30.078125 6.109375 \r\n",
       "Q 37.203125 6.109375 41.296875 11.75 \r\n",
       "Q 45.40625 17.390625 45.40625 27.296875 \r\n",
       "Q 45.40625 37.203125 41.296875 42.84375 \r\n",
       "Q 37.203125 48.484375 30.078125 48.484375 \r\n",
       "Q 22.953125 48.484375 18.875 42.84375 \r\n",
       "Q 14.796875 37.203125 14.796875 27.296875 \r\n",
       "z\r\n",
       "\" id=\"DejaVuSans-100\"/>\r\n",
       "       <path d=\"M 34.1875 63.1875 \r\n",
       "L 20.796875 26.90625 \r\n",
       "L 47.609375 26.90625 \r\n",
       "z\r\n",
       "M 28.609375 72.90625 \r\n",
       "L 39.796875 72.90625 \r\n",
       "L 67.578125 0 \r\n",
       "L 57.328125 0 \r\n",
       "L 50.6875 18.703125 \r\n",
       "L 17.828125 18.703125 \r\n",
       "L 11.1875 0 \r\n",
       "L 0.78125 0 \r\n",
       "z\r\n",
       "\" id=\"DejaVuSans-65\"/>\r\n",
       "      </defs>\r\n",
       "      <use xlink:href=\"#DejaVuSans-73\"/>\r\n",
       "      <use x=\"29.492188\" xlink:href=\"#DejaVuSans-110\"/>\r\n",
       "      <use x=\"92.871094\" xlink:href=\"#DejaVuSans-116\"/>\r\n",
       "      <use x=\"132.080078\" xlink:href=\"#DejaVuSans-101\"/>\r\n",
       "      <use x=\"193.603516\" xlink:href=\"#DejaVuSans-110\"/>\r\n",
       "      <use x=\"256.982422\" xlink:href=\"#DejaVuSans-115\"/>\r\n",
       "      <use x=\"309.082031\" xlink:href=\"#DejaVuSans-105\"/>\r\n",
       "      <use x=\"336.865234\" xlink:href=\"#DejaVuSans-100\"/>\r\n",
       "      <use x=\"400.341797\" xlink:href=\"#DejaVuSans-97\"/>\r\n",
       "      <use x=\"461.621094\" xlink:href=\"#DejaVuSans-100\"/>\r\n",
       "      <use x=\"525.097656\" xlink:href=\"#DejaVuSans-32\"/>\r\n",
       "      <use x=\"556.884766\" xlink:href=\"#DejaVuSans-40\"/>\r\n",
       "      <use x=\"595.898438\" xlink:href=\"#DejaVuSans-65\"/>\r\n",
       "      <use x=\"664.306641\" xlink:href=\"#DejaVuSans-41\"/>\r\n",
       "     </g>\r\n",
       "    </g>\r\n",
       "   </g>\r\n",
       "   <g id=\"line2d_13\">\r\n",
       "    <path clip-path=\"url(#pb7186fdf16)\" d=\"M 77.773963 32.201761 \r\n",
       "L 108.210327 51.969034 \r\n",
       "L 138.64669 71.736307 \r\n",
       "L 169.083054 91.50358 \r\n",
       "L 199.519418 111.270852 \r\n",
       "L 229.955781 131.038125 \r\n",
       "L 260.392145 150.805398 \r\n",
       "L 290.828509 170.57267 \r\n",
       "L 321.264872 190.339943 \r\n",
       "L 351.701236 210.107216 \r\n",
       "L 382.137599 229.874489 \r\n",
       "\" style=\"fill:none;stroke:#1f77b4;stroke-linecap:square;stroke-width:1.5;\"/>\r\n",
       "   </g>\r\n",
       "   <g id=\"patch_3\">\r\n",
       "    <path d=\"M 62.555781 239.758125 \r\n",
       "L 62.555781 22.318125 \r\n",
       "\" style=\"fill:none;stroke:#000000;stroke-linecap:square;stroke-linejoin:miter;stroke-width:0.8;\"/>\r\n",
       "   </g>\r\n",
       "   <g id=\"patch_4\">\r\n",
       "    <path d=\"M 397.355781 239.758125 \r\n",
       "L 397.355781 22.318125 \r\n",
       "\" style=\"fill:none;stroke:#000000;stroke-linecap:square;stroke-linejoin:miter;stroke-width:0.8;\"/>\r\n",
       "   </g>\r\n",
       "   <g id=\"patch_5\">\r\n",
       "    <path d=\"M 62.555781 239.758125 \r\n",
       "L 397.355781 239.758125 \r\n",
       "\" style=\"fill:none;stroke:#000000;stroke-linecap:square;stroke-linejoin:miter;stroke-width:0.8;\"/>\r\n",
       "   </g>\r\n",
       "   <g id=\"patch_6\">\r\n",
       "    <path d=\"M 62.555781 22.318125 \r\n",
       "L 397.355781 22.318125 \r\n",
       "\" style=\"fill:none;stroke:#000000;stroke-linecap:square;stroke-linejoin:miter;stroke-width:0.8;\"/>\r\n",
       "   </g>\r\n",
       "   <g id=\"text_15\">\r\n",
       "    <!-- Circuito VDC ($\\mathrm{10v}$) - Resistencia $\\mathrm{100\\ \\Omega}$ -->\r\n",
       "    <g transform=\"translate(114.095781 16.318125)scale(0.12 -0.12)\">\r\n",
       "     <defs>\r\n",
       "      <path d=\"M 64.40625 67.28125 \r\n",
       "L 64.40625 56.890625 \r\n",
       "Q 59.421875 61.53125 53.78125 63.8125 \r\n",
       "Q 48.140625 66.109375 41.796875 66.109375 \r\n",
       "Q 29.296875 66.109375 22.65625 58.46875 \r\n",
       "Q 16.015625 50.828125 16.015625 36.375 \r\n",
       "Q 16.015625 21.96875 22.65625 14.328125 \r\n",
       "Q 29.296875 6.6875 41.796875 6.6875 \r\n",
       "Q 48.140625 6.6875 53.78125 8.984375 \r\n",
       "Q 59.421875 11.28125 64.40625 15.921875 \r\n",
       "L 64.40625 5.609375 \r\n",
       "Q 59.234375 2.09375 53.4375 0.328125 \r\n",
       "Q 47.65625 -1.421875 41.21875 -1.421875 \r\n",
       "Q 24.65625 -1.421875 15.125 8.703125 \r\n",
       "Q 5.609375 18.84375 5.609375 36.375 \r\n",
       "Q 5.609375 53.953125 15.125 64.078125 \r\n",
       "Q 24.65625 74.21875 41.21875 74.21875 \r\n",
       "Q 47.75 74.21875 53.53125 72.484375 \r\n",
       "Q 59.328125 70.75 64.40625 67.28125 \r\n",
       "z\r\n",
       "\" id=\"DejaVuSans-67\"/>\r\n",
       "      <path d=\"M 41.109375 46.296875 \r\n",
       "Q 39.59375 47.171875 37.8125 47.578125 \r\n",
       "Q 36.03125 48 33.890625 48 \r\n",
       "Q 26.265625 48 22.1875 43.046875 \r\n",
       "Q 18.109375 38.09375 18.109375 28.8125 \r\n",
       "L 18.109375 0 \r\n",
       "L 9.078125 0 \r\n",
       "L 9.078125 54.6875 \r\n",
       "L 18.109375 54.6875 \r\n",
       "L 18.109375 46.1875 \r\n",
       "Q 20.953125 51.171875 25.484375 53.578125 \r\n",
       "Q 30.03125 56 36.53125 56 \r\n",
       "Q 37.453125 56 38.578125 55.875 \r\n",
       "Q 39.703125 55.765625 41.0625 55.515625 \r\n",
       "z\r\n",
       "\" id=\"DejaVuSans-114\"/>\r\n",
       "      <path d=\"M 48.78125 52.59375 \r\n",
       "L 48.78125 44.1875 \r\n",
       "Q 44.96875 46.296875 41.140625 47.34375 \r\n",
       "Q 37.3125 48.390625 33.40625 48.390625 \r\n",
       "Q 24.65625 48.390625 19.8125 42.84375 \r\n",
       "Q 14.984375 37.3125 14.984375 27.296875 \r\n",
       "Q 14.984375 17.28125 19.8125 11.734375 \r\n",
       "Q 24.65625 6.203125 33.40625 6.203125 \r\n",
       "Q 37.3125 6.203125 41.140625 7.25 \r\n",
       "Q 44.96875 8.296875 48.78125 10.40625 \r\n",
       "L 48.78125 2.09375 \r\n",
       "Q 45.015625 0.34375 40.984375 -0.53125 \r\n",
       "Q 36.96875 -1.421875 32.421875 -1.421875 \r\n",
       "Q 20.0625 -1.421875 12.78125 6.34375 \r\n",
       "Q 5.515625 14.109375 5.515625 27.296875 \r\n",
       "Q 5.515625 40.671875 12.859375 48.328125 \r\n",
       "Q 20.21875 56 33.015625 56 \r\n",
       "Q 37.15625 56 41.109375 55.140625 \r\n",
       "Q 45.0625 54.296875 48.78125 52.59375 \r\n",
       "z\r\n",
       "\" id=\"DejaVuSans-99\"/>\r\n",
       "      <path d=\"M 8.5 21.578125 \r\n",
       "L 8.5 54.6875 \r\n",
       "L 17.484375 54.6875 \r\n",
       "L 17.484375 21.921875 \r\n",
       "Q 17.484375 14.15625 20.5 10.265625 \r\n",
       "Q 23.53125 6.390625 29.59375 6.390625 \r\n",
       "Q 36.859375 6.390625 41.078125 11.03125 \r\n",
       "Q 45.3125 15.671875 45.3125 23.6875 \r\n",
       "L 45.3125 54.6875 \r\n",
       "L 54.296875 54.6875 \r\n",
       "L 54.296875 0 \r\n",
       "L 45.3125 0 \r\n",
       "L 45.3125 8.40625 \r\n",
       "Q 42.046875 3.421875 37.71875 1 \r\n",
       "Q 33.40625 -1.421875 27.6875 -1.421875 \r\n",
       "Q 18.265625 -1.421875 13.375 4.4375 \r\n",
       "Q 8.5 10.296875 8.5 21.578125 \r\n",
       "z\r\n",
       "M 31.109375 56 \r\n",
       "z\r\n",
       "\" id=\"DejaVuSans-117\"/>\r\n",
       "      <path d=\"M 19.671875 64.796875 \r\n",
       "L 19.671875 8.109375 \r\n",
       "L 31.59375 8.109375 \r\n",
       "Q 46.6875 8.109375 53.6875 14.9375 \r\n",
       "Q 60.6875 21.78125 60.6875 36.53125 \r\n",
       "Q 60.6875 51.171875 53.6875 57.984375 \r\n",
       "Q 46.6875 64.796875 31.59375 64.796875 \r\n",
       "z\r\n",
       "M 9.8125 72.90625 \r\n",
       "L 30.078125 72.90625 \r\n",
       "Q 51.265625 72.90625 61.171875 64.09375 \r\n",
       "Q 71.09375 55.28125 71.09375 36.53125 \r\n",
       "Q 71.09375 17.671875 61.125 8.828125 \r\n",
       "Q 51.171875 0 30.078125 0 \r\n",
       "L 9.8125 0 \r\n",
       "z\r\n",
       "\" id=\"DejaVuSans-68\"/>\r\n",
       "      <path d=\"M 2.984375 54.6875 \r\n",
       "L 12.5 54.6875 \r\n",
       "L 29.59375 8.796875 \r\n",
       "L 46.6875 54.6875 \r\n",
       "L 56.203125 54.6875 \r\n",
       "L 35.6875 0 \r\n",
       "L 23.484375 0 \r\n",
       "z\r\n",
       "\" id=\"DejaVuSans-118\"/>\r\n",
       "      <path d=\"M 4.890625 31.390625 \r\n",
       "L 31.203125 31.390625 \r\n",
       "L 31.203125 23.390625 \r\n",
       "L 4.890625 23.390625 \r\n",
       "z\r\n",
       "\" id=\"DejaVuSans-45\"/>\r\n",
       "      <path d=\"M 44.390625 34.1875 \r\n",
       "Q 47.5625 33.109375 50.5625 29.59375 \r\n",
       "Q 53.5625 26.078125 56.59375 19.921875 \r\n",
       "L 66.609375 0 \r\n",
       "L 56 0 \r\n",
       "L 46.6875 18.703125 \r\n",
       "Q 43.0625 26.03125 39.671875 28.421875 \r\n",
       "Q 36.28125 30.8125 30.421875 30.8125 \r\n",
       "L 19.671875 30.8125 \r\n",
       "L 19.671875 0 \r\n",
       "L 9.8125 0 \r\n",
       "L 9.8125 72.90625 \r\n",
       "L 32.078125 72.90625 \r\n",
       "Q 44.578125 72.90625 50.734375 67.671875 \r\n",
       "Q 56.890625 62.453125 56.890625 51.90625 \r\n",
       "Q 56.890625 45.015625 53.6875 40.46875 \r\n",
       "Q 50.484375 35.9375 44.390625 34.1875 \r\n",
       "z\r\n",
       "M 19.671875 64.796875 \r\n",
       "L 19.671875 38.921875 \r\n",
       "L 32.078125 38.921875 \r\n",
       "Q 39.203125 38.921875 42.84375 42.21875 \r\n",
       "Q 46.484375 45.515625 46.484375 51.90625 \r\n",
       "Q 46.484375 58.296875 42.84375 61.546875 \r\n",
       "Q 39.203125 64.796875 32.078125 64.796875 \r\n",
       "z\r\n",
       "\" id=\"DejaVuSans-82\"/>\r\n",
       "      <path d=\"M 72.609375 8.6875 \r\n",
       "L 72.609375 0 \r\n",
       "L 43.3125 0 \r\n",
       "L 43.3125 8.6875 \r\n",
       "Q 51.953125 13.421875 56.78125 21.53125 \r\n",
       "Q 61.625 29.640625 61.625 39.5 \r\n",
       "Q 61.625 51.21875 55.171875 58.296875 \r\n",
       "Q 48.734375 65.375 38.1875 65.375 \r\n",
       "Q 27.640625 65.375 21.171875 58.265625 \r\n",
       "Q 14.703125 51.171875 14.703125 39.5 \r\n",
       "Q 14.703125 29.640625 19.53125 21.53125 \r\n",
       "Q 24.421875 13.421875 33.109375 8.6875 \r\n",
       "L 33.109375 0 \r\n",
       "L 3.8125 0 \r\n",
       "L 3.8125 8.6875 \r\n",
       "L 19.390625 8.6875 \r\n",
       "Q 11.671875 15.484375 8.109375 22.75 \r\n",
       "Q 4.59375 30.03125 4.59375 39.015625 \r\n",
       "Q 4.59375 54.546875 13.96875 64.15625 \r\n",
       "Q 23.296875 73.78125 38.1875 73.78125 \r\n",
       "Q 52.984375 73.78125 62.40625 64.15625 \r\n",
       "Q 71.78125 54.59375 71.78125 39.5 \r\n",
       "Q 71.78125 30.03125 68.3125 22.796875 \r\n",
       "Q 64.84375 15.578125 56.984375 8.6875 \r\n",
       "z\r\n",
       "\" id=\"DejaVuSans-937\"/>\r\n",
       "     </defs>\r\n",
       "     <use transform=\"translate(0 0.015625)\" xlink:href=\"#DejaVuSans-67\"/>\r\n",
       "     <use transform=\"translate(69.824219 0.015625)\" xlink:href=\"#DejaVuSans-105\"/>\r\n",
       "     <use transform=\"translate(97.607422 0.015625)\" xlink:href=\"#DejaVuSans-114\"/>\r\n",
       "     <use transform=\"translate(138.720703 0.015625)\" xlink:href=\"#DejaVuSans-99\"/>\r\n",
       "     <use transform=\"translate(193.701172 0.015625)\" xlink:href=\"#DejaVuSans-117\"/>\r\n",
       "     <use transform=\"translate(257.080078 0.015625)\" xlink:href=\"#DejaVuSans-105\"/>\r\n",
       "     <use transform=\"translate(284.863281 0.015625)\" xlink:href=\"#DejaVuSans-116\"/>\r\n",
       "     <use transform=\"translate(324.072266 0.015625)\" xlink:href=\"#DejaVuSans-111\"/>\r\n",
       "     <use transform=\"translate(385.253906 0.015625)\" xlink:href=\"#DejaVuSans-32\"/>\r\n",
       "     <use transform=\"translate(417.041016 0.015625)\" xlink:href=\"#DejaVuSans-86\"/>\r\n",
       "     <use transform=\"translate(485.449219 0.015625)\" xlink:href=\"#DejaVuSans-68\"/>\r\n",
       "     <use transform=\"translate(562.451172 0.015625)\" xlink:href=\"#DejaVuSans-67\"/>\r\n",
       "     <use transform=\"translate(632.275391 0.015625)\" xlink:href=\"#DejaVuSans-32\"/>\r\n",
       "     <use transform=\"translate(664.0625 0.015625)\" xlink:href=\"#DejaVuSans-40\"/>\r\n",
       "     <use transform=\"translate(703.076172 0.015625)\" xlink:href=\"#DejaVuSans-49\"/>\r\n",
       "     <use transform=\"translate(766.699219 0.015625)\" xlink:href=\"#DejaVuSans-48\"/>\r\n",
       "     <use transform=\"translate(830.322266 0.015625)\" xlink:href=\"#DejaVuSans-118\"/>\r\n",
       "     <use transform=\"translate(889.501953 0.015625)\" xlink:href=\"#DejaVuSans-41\"/>\r\n",
       "     <use transform=\"translate(928.515625 0.015625)\" xlink:href=\"#DejaVuSans-32\"/>\r\n",
       "     <use transform=\"translate(960.302734 0.015625)\" xlink:href=\"#DejaVuSans-45\"/>\r\n",
       "     <use transform=\"translate(996.386719 0.015625)\" xlink:href=\"#DejaVuSans-32\"/>\r\n",
       "     <use transform=\"translate(1028.173828 0.015625)\" xlink:href=\"#DejaVuSans-82\"/>\r\n",
       "     <use transform=\"translate(1097.65625 0.015625)\" xlink:href=\"#DejaVuSans-101\"/>\r\n",
       "     <use transform=\"translate(1159.179688 0.015625)\" xlink:href=\"#DejaVuSans-115\"/>\r\n",
       "     <use transform=\"translate(1211.279297 0.015625)\" xlink:href=\"#DejaVuSans-105\"/>\r\n",
       "     <use transform=\"translate(1239.0625 0.015625)\" xlink:href=\"#DejaVuSans-115\"/>\r\n",
       "     <use transform=\"translate(1291.162109 0.015625)\" xlink:href=\"#DejaVuSans-116\"/>\r\n",
       "     <use transform=\"translate(1330.371094 0.015625)\" xlink:href=\"#DejaVuSans-101\"/>\r\n",
       "     <use transform=\"translate(1391.894531 0.015625)\" xlink:href=\"#DejaVuSans-110\"/>\r\n",
       "     <use transform=\"translate(1455.273438 0.015625)\" xlink:href=\"#DejaVuSans-99\"/>\r\n",
       "     <use transform=\"translate(1510.253906 0.015625)\" xlink:href=\"#DejaVuSans-105\"/>\r\n",
       "     <use transform=\"translate(1538.037109 0.015625)\" xlink:href=\"#DejaVuSans-97\"/>\r\n",
       "     <use transform=\"translate(1599.316406 0.015625)\" xlink:href=\"#DejaVuSans-32\"/>\r\n",
       "     <use transform=\"translate(1631.103516 0.015625)\" xlink:href=\"#DejaVuSans-49\"/>\r\n",
       "     <use transform=\"translate(1694.726562 0.015625)\" xlink:href=\"#DejaVuSans-48\"/>\r\n",
       "     <use transform=\"translate(1758.349609 0.015625)\" xlink:href=\"#DejaVuSans-48\"/>\r\n",
       "     <use transform=\"translate(1854.443035 0.015625)\" xlink:href=\"#DejaVuSans-937\"/>\r\n",
       "    </g>\r\n",
       "   </g>\r\n",
       "  </g>\r\n",
       " </g>\r\n",
       " <defs>\r\n",
       "  <clipPath id=\"pb7186fdf16\">\r\n",
       "   <rect height=\"217.44\" width=\"334.8\" x=\"62.555781\" y=\"22.318125\"/>\r\n",
       "  </clipPath>\r\n",
       " </defs>\r\n",
       "</svg>\r\n"
      ],
      "text/plain": [
       "<Figure size 432x288 with 1 Axes>"
      ]
     },
     "metadata": {
      "needs_background": "light"
     },
     "output_type": "display_data"
    }
   ],
   "source": [
    "import matplotlib.pyplot as plot\n",
    "fig, ax = plot.subplots()\n",
    "ax.plot(resultados['dc']['Vn001'], resultados['dc']['I(V1)'])\n",
    "ax.set(xlabel='Voltaje (V)', ylabel='Intensidad (A)',\n",
    "       title='Circuito VDC ($\\mathrm{10v}$) - Resistencia $\\mathrm{100\\ \\Omega}$')\n",
    "plot.show()\n"
   ]
  },
  {
   "cell_type": "markdown",
   "metadata": {},
   "source": [
    "  ### Resultados de la simulación `.op`\n",
    "  El método `.results` nos devuelve un diccionario con los resultados de la simulación."
   ]
  },
  {
   "cell_type": "code",
   "execution_count": 19,
   "metadata": {},
   "outputs": [
    {
     "name": "stdout",
     "output_type": "stream",
     "text": [
      "{VN001: 9.0, I(V1): -0.09}\n"
     ]
    }
   ],
   "source": [
    "print(resultados['op'].results)\n"
   ]
  },
  {
   "cell_type": "markdown",
   "metadata": {},
   "source": [
    "  > **Pregunta:** justifica el sencillo resultado anterior (análisis `op`). Repite el cálculo con Sympy, atendiendo con mimo a las unidades y al formateo de los resultados (tal y como hemos visto en muchos otros notebooks en clase)."
   ]
  },
  {
   "cell_type": "markdown",
   "metadata": {},
   "source": [
    " > **Respuesta:**\n",
    "\n",
    " > Puesto que la carga de nuestro circuito ofrece una resistencia de $\\mathrm{100\\Omega}$, para $\\mathrm{9v},$ según la ley de Ohm tendriamos:\n",
    " $$\\mathrm{V}=\\mathrm{R}\\cdot\\mathrm{I}$$\n",
    " $$\\mathrm{I}=\\frac{\\mathrm{V}}{\\mathrm{R}}=\\frac{\\mathrm{9v}}{100\\mathrm{\\Omega}}=\\mathrm{0.09A}$$\n",
    "\n",
    " > Con Sympy:"
   ]
  },
  {
   "cell_type": "code",
   "execution_count": 20,
   "metadata": {},
   "outputs": [
    {
     "name": "stdout",
     "output_type": "stream",
     "text": [
      "Si tenemos una fuente de 9*volt y una resistencia de 100*ohm\n",
      "la intensidad en amperios es:\n"
     ]
    },
    {
     "data": {
      "text/latex": [
       "$\\displaystyle 0.09 \\text{A}$"
      ],
      "text/plain": [
       "0.09*ampere"
      ]
     },
     "execution_count": 20,
     "metadata": {},
     "output_type": "execute_result"
    }
   ],
   "source": [
    "from sympy.physics.units import amperes, volts, ohms, convert_to\n",
    "voltaje = 9 * volts\n",
    "resistencia = 100 * ohms\n",
    "intensidad = symbols('i')\n",
    "ley_ohm = Eq(voltaje, resistencia*intensidad)\n",
    "corriente = solve(ley_ohm, intensidad)\n",
    "corriente = convert_to(corriente[0], [amperes]).n(2)\n",
    "print(\"Si tenemos una fuente de \" + str(voltaje) + \" y una resistencia de \" + str(resistencia) + \"\\nla intensidad en amperios es:\")\n",
    "corriente\n"
   ]
  },
  {
   "cell_type": "markdown",
   "metadata": {},
   "source": [
    " ## Resolución del mismo circuito pero con LTspice\n",
    " Por comodidad, creamos un alias del comando que apunte al ejecutable de LTspice. Como es evidente, este paso requiere tener instalado LTspice en la carpeta por defecto."
   ]
  },
  {
   "cell_type": "code",
   "execution_count": 21,
   "metadata": {},
   "outputs": [],
   "source": [
    "get_ipython().run_line_magic(\n",
    "    'alias', 'lts /Applications/LTspice.app/Contents/MacOS/LTspice -ascii -b')\n",
    "if platform.system() == \"Windows\":\n",
    "    get_ipython().run_line_magic(\n",
    "        'alias', 'lts \"C:\\\\Program Files\\\\LTC\\\\LTspiceXVII\\\\XVIIx64.exe\" -ascii -b ')\n"
   ]
  },
  {
   "cell_type": "markdown",
   "metadata": {},
   "source": [
    " > **Pregunta**: ¿Qué significan las opciones `-b` y `-ascii`? Algo de ayuda [aquí](http://ltwiki.org/LTspiceHelp/LTspiceHelp/Command_Line_Switches.htm)."
   ]
  },
  {
   "cell_type": "markdown",
   "metadata": {},
   "source": [
    " > **Respuesta:**\n",
    "\n",
    " > * `-b` establece la ejecución por lotes. Los datos resultantes se guardarán en un `archivo.raw`\n",
    " > * `-ascii` indica que los `archivos.raw` deben de generarse en formato ASCII"
   ]
  },
  {
   "cell_type": "markdown",
   "metadata": {},
   "source": [
    " También tenemos que cambiar ligeramente la sintaxis. Ejecuta esta línea para que se escriba el fichero siguiente. Para LTspice, vamos a reservar la extensión `.net`:"
   ]
  },
  {
   "cell_type": "code",
   "execution_count": 22,
   "metadata": {},
   "outputs": [
    {
     "name": "stdout",
     "output_type": "stream",
     "text": [
      "Writing files\\circuito_sencillo.net\n"
     ]
    }
   ],
   "source": [
    "%%writefile 'files\\circuito_sencillo.net'\n",
    "* Este es un circuito sencillo adaptado para LTspice\n",
    "r1 1 0 100\n",
    "v1 0 1 9\n",
    ".op\n",
    "* Comentamos el análisis .dc para centrarnos primero en el .op\n",
    "* .dc v1 1 10 \n",
    ".end\n"
   ]
  },
  {
   "cell_type": "markdown",
   "metadata": {},
   "source": [
    " Ejecutamos LTspice con el circuito (de la misma manera que antes habíamos hecho con Ahkab).\n",
    "\n",
    " Pare ello usaremos el alias de ejecutable y le pasamos por parametro el archivo que acabamos de crear."
   ]
  },
  {
   "cell_type": "code",
   "execution_count": 23,
   "metadata": {},
   "outputs": [],
   "source": [
    "lts \"files\\circuito_sencillo.net\"\n"
   ]
  },
  {
   "cell_type": "markdown",
   "metadata": {},
   "source": [
    " Esto habrá generado dos archivos, un `.log` y un .raw, con el resultado de la simulación. Veamos su contenido.\n",
    "\n",
    " ## Contenido del `.log`:"
   ]
  },
  {
   "cell_type": "code",
   "execution_count": 24,
   "metadata": {},
   "outputs": [
    {
     "name": "stdout",
     "output_type": "stream",
     "text": [
      "\u001b[0mCircuit\u001b[0m\u001b[1;33m:\u001b[0m \u001b[1;33m*\u001b[0m \u001b[0mEste\u001b[0m \u001b[0mes\u001b[0m \u001b[0mun\u001b[0m \u001b[0mcircuito\u001b[0m \u001b[0msencillo\u001b[0m \u001b[0madaptado\u001b[0m \u001b[0mpara\u001b[0m \u001b[0mLTspice\u001b[0m\u001b[1;33m\n",
      "\u001b[0m\u001b[1;33m\n",
      "\u001b[0m\u001b[0mDirect\u001b[0m \u001b[0mNewton\u001b[0m \u001b[0miteration\u001b[0m \u001b[1;32mfor\u001b[0m \u001b[1;33m.\u001b[0m\u001b[0mop\u001b[0m \u001b[0mpoint\u001b[0m \u001b[0msucceeded\u001b[0m\u001b[1;33m.\u001b[0m\u001b[1;33m\n",
      "\u001b[0m\u001b[1;33m\n",
      "\u001b[0m\u001b[0mDate\u001b[0m\u001b[1;33m:\u001b[0m \u001b[0mSat\u001b[0m \u001b[0mDec\u001b[0m \u001b[1;36m19\u001b[0m \u001b[1;36m13\u001b[0m\u001b[1;33m:\u001b[0m\u001b[1;36m00\u001b[0m\u001b[1;33m:\u001b[0m\u001b[1;36m24\u001b[0m \u001b[1;36m2020\u001b[0m\u001b[1;33m\n",
      "\u001b[0m\u001b[0mTotal\u001b[0m \u001b[0melapsed\u001b[0m \u001b[0mtime\u001b[0m\u001b[1;33m:\u001b[0m \u001b[1;36m0.005\u001b[0m \u001b[0mseconds\u001b[0m\u001b[1;33m.\u001b[0m\u001b[1;33m\n",
      "\u001b[0m\u001b[1;33m\n",
      "\u001b[0m\u001b[0mtnom\u001b[0m \u001b[1;33m=\u001b[0m \u001b[1;36m27\u001b[0m\u001b[1;33m\n",
      "\u001b[0m\u001b[0mtemp\u001b[0m \u001b[1;33m=\u001b[0m \u001b[1;36m27\u001b[0m\u001b[1;33m\n",
      "\u001b[0m\u001b[0mmethod\u001b[0m \u001b[1;33m=\u001b[0m \u001b[0mtrap\u001b[0m\u001b[1;33m\n",
      "\u001b[0m\u001b[0mtotiter\u001b[0m \u001b[1;33m=\u001b[0m \u001b[1;36m3\u001b[0m\u001b[1;33m\n",
      "\u001b[0m\u001b[0mtraniter\u001b[0m \u001b[1;33m=\u001b[0m \u001b[1;36m0\u001b[0m\u001b[1;33m\n",
      "\u001b[0m\u001b[0mtranpoints\u001b[0m \u001b[1;33m=\u001b[0m \u001b[1;36m0\u001b[0m\u001b[1;33m\n",
      "\u001b[0m\u001b[0maccept\u001b[0m \u001b[1;33m=\u001b[0m \u001b[1;36m0\u001b[0m\u001b[1;33m\n",
      "\u001b[0m\u001b[0mrejected\u001b[0m \u001b[1;33m=\u001b[0m \u001b[1;36m0\u001b[0m\u001b[1;33m\n",
      "\u001b[0m\u001b[0mmatrix\u001b[0m \u001b[0msize\u001b[0m \u001b[1;33m=\u001b[0m \u001b[1;36m2\u001b[0m\u001b[1;33m\n",
      "\u001b[0m\u001b[0mfillins\u001b[0m \u001b[1;33m=\u001b[0m \u001b[1;36m0\u001b[0m\u001b[1;33m\n",
      "\u001b[0m\u001b[0msolver\u001b[0m \u001b[1;33m=\u001b[0m \u001b[0mNormal\u001b[0m\u001b[1;33m\n",
      "\u001b[0m\u001b[0mMatrix\u001b[0m \u001b[0mCompiler1\u001b[0m\u001b[1;33m:\u001b[0m \u001b[1;36m36\u001b[0m \u001b[0mbytes\u001b[0m \u001b[0mobject\u001b[0m \u001b[0mcode\u001b[0m \u001b[0msize\u001b[0m\u001b[1;33m\n",
      "\u001b[0m\u001b[0mMatrix\u001b[0m \u001b[0mCompiler2\u001b[0m\u001b[1;33m:\u001b[0m \u001b[1;36m96\u001b[0m \u001b[0mbytes\u001b[0m \u001b[0mobject\u001b[0m \u001b[0mcode\u001b[0m \u001b[0msize\u001b[0m\u001b[1;33m\u001b[0m\u001b[1;33m\u001b[0m\u001b[0m\n"
     ]
    }
   ],
   "source": [
    "get_ipython().run_line_magic('pycat', 'files\\circuito_sencillo.log')\n"
   ]
  },
  {
   "cell_type": "markdown",
   "metadata": {},
   "source": [
    " ## Contenido del `.raw`:"
   ]
  },
  {
   "cell_type": "code",
   "execution_count": 25,
   "metadata": {},
   "outputs": [
    {
     "name": "stdout",
     "output_type": "stream",
     "text": [
      "\u001b[0mTitle\u001b[0m\u001b[1;33m:\u001b[0m \u001b[1;33m*\u001b[0m \u001b[0mEste\u001b[0m \u001b[0mes\u001b[0m \u001b[0mun\u001b[0m \u001b[0mcircuito\u001b[0m \u001b[0msencillo\u001b[0m \u001b[0madaptado\u001b[0m \u001b[0mpara\u001b[0m \u001b[0mLTspice\u001b[0m\u001b[1;33m\n",
      "\u001b[0m\u001b[0mDate\u001b[0m\u001b[1;33m:\u001b[0m \u001b[0mSat\u001b[0m \u001b[0mDec\u001b[0m \u001b[1;36m19\u001b[0m \u001b[1;36m13\u001b[0m\u001b[1;33m:\u001b[0m\u001b[1;36m00\u001b[0m\u001b[1;33m:\u001b[0m\u001b[1;36m24\u001b[0m \u001b[1;36m2020\u001b[0m\u001b[1;33m\n",
      "\u001b[0m\u001b[0mPlotname\u001b[0m\u001b[1;33m:\u001b[0m \u001b[0mOperating\u001b[0m \u001b[0mPoint\u001b[0m\u001b[1;33m\n",
      "\u001b[0m\u001b[0mFlags\u001b[0m\u001b[1;33m:\u001b[0m \u001b[0mreal\u001b[0m\u001b[1;33m\n",
      "\u001b[0m\u001b[0mNo\u001b[0m\u001b[1;33m.\u001b[0m \u001b[0mVariables\u001b[0m\u001b[1;33m:\u001b[0m \u001b[1;36m3\u001b[0m\u001b[1;33m\n",
      "\u001b[0m\u001b[0mNo\u001b[0m\u001b[1;33m.\u001b[0m \u001b[0mPoints\u001b[0m\u001b[1;33m:\u001b[0m            \u001b[1;36m1\u001b[0m\u001b[1;33m\n",
      "\u001b[0m\u001b[0mOffset\u001b[0m\u001b[1;33m:\u001b[0m   \u001b[1;36m0.0000000000000000e+000\u001b[0m\u001b[1;33m\n",
      "\u001b[0m\u001b[0mCommand\u001b[0m\u001b[1;33m:\u001b[0m \u001b[0mLinear\u001b[0m \u001b[0mTechnology\u001b[0m \u001b[0mCorporation\u001b[0m \u001b[0mLTspice\u001b[0m \u001b[0mXVII\u001b[0m\u001b[1;33m\n",
      "\u001b[0m\u001b[0mVariables\u001b[0m\u001b[1;33m:\u001b[0m\u001b[1;33m\n",
      "\u001b[0m        \u001b[1;36m0\u001b[0m       \u001b[0mV\u001b[0m\u001b[1;33m(\u001b[0m\u001b[1;36m1\u001b[0m\u001b[1;33m)\u001b[0m    \u001b[0mvoltage\u001b[0m\u001b[1;33m\n",
      "\u001b[0m        \u001b[1;36m1\u001b[0m       \u001b[0mI\u001b[0m\u001b[1;33m(\u001b[0m\u001b[0mR1\u001b[0m\u001b[1;33m)\u001b[0m   \u001b[0mdevice_current\u001b[0m\u001b[1;33m\n",
      "\u001b[0m        \u001b[1;36m2\u001b[0m       \u001b[0mI\u001b[0m\u001b[1;33m(\u001b[0m\u001b[0mV1\u001b[0m\u001b[1;33m)\u001b[0m   \u001b[0mdevice_current\u001b[0m\u001b[1;33m\n",
      "\u001b[0m\u001b[0mValues\u001b[0m\u001b[1;33m:\u001b[0m\u001b[1;33m\n",
      "\u001b[0m\u001b[1;36m0\u001b[0m               \u001b[1;33m-\u001b[0m\u001b[1;36m9.000000000000000e+000\u001b[0m\u001b[1;33m\n",
      "\u001b[0m        \u001b[1;33m-\u001b[0m\u001b[1;36m9.000000000000000e-002\u001b[0m\u001b[1;33m\n",
      "\u001b[0m        \u001b[1;33m-\u001b[0m\u001b[1;36m9.000000000000000e-002\u001b[0m\u001b[1;33m\u001b[0m\u001b[1;33m\u001b[0m\u001b[0m\n"
     ]
    }
   ],
   "source": [
    "get_ipython().run_line_magic('pycat', 'files\\circuito_sencillo.raw')\n"
   ]
  },
  {
   "cell_type": "markdown",
   "metadata": {},
   "source": [
    " Ahora repitamos lo mismo para el análisis `.dc`:"
   ]
  },
  {
   "cell_type": "code",
   "execution_count": 26,
   "metadata": {},
   "outputs": [
    {
     "name": "stdout",
     "output_type": "stream",
     "text": [
      "Overwriting files\\circuito_sencillo.net\n"
     ]
    }
   ],
   "source": [
    "%%writefile 'files\\circuito_sencillo.net'\n",
    "* Este es un circuito sencillo adaptado para LTspice\n",
    "r1 1 0 100\n",
    "v1 0 1 9\n",
    "* Comentamos el análisis .op para centrarnos primero en el .dc\n",
    "* .op\n",
    ".dc v1 1 10 10\n",
    ".end\n"
   ]
  },
  {
   "cell_type": "code",
   "execution_count": 27,
   "metadata": {},
   "outputs": [],
   "source": [
    "lts \"files\\circuito_sencillo.net\"\n"
   ]
  },
  {
   "cell_type": "markdown",
   "metadata": {},
   "source": [
    " Al ejecutar esta simulación para el análisis `.dc`, el fichero `.raw` con los resultados es muchísimo mas extenso. Para leer este fichero, y ademas, extraer los valores para la gráfica vamos a usar el paquete [ltspice de Python](https://github.com/DongHoonPark/ltspice_pytool), el cual se puede  instalar directamente desde Jupyter"
   ]
  },
  {
   "cell_type": "code",
   "execution_count": 28,
   "metadata": {},
   "outputs": [
    {
     "name": "stdout",
     "output_type": "stream",
     "text": [
      "Requirement already satisfied: ltspice in c:\\users\\joseh\\scoop\\apps\\miniconda3\\current\\lib\\site-packages (1.0.0)\n",
      "Requirement already satisfied: numpy in c:\\users\\joseh\\scoop\\apps\\miniconda3\\current\\lib\\site-packages (from ltspice) (1.19.1)\n"
     ]
    }
   ],
   "source": [
    "get_ipython().system('pip install ltspice')\n"
   ]
  },
  {
   "cell_type": "markdown",
   "metadata": {},
   "source": [
    " Ahora leemos el fichero `.raw` y dibujamos la gráfica con los datos obtenidos con LTspice:"
   ]
  },
  {
   "cell_type": "code",
   "execution_count": 29,
   "metadata": {},
   "outputs": [
    {
     "data": {
      "image/png": "[encoded data removed]",
      "image/svg+xml": [
       "<?xml version=\"1.0\" encoding=\"utf-8\" standalone=\"no\"?>\r\n",
       "<!DOCTYPE svg PUBLIC \"-//W3C//DTD SVG 1.1//EN\"\r\n",
       "  \"http://www.w3.org/Graphics/SVG/1.1/DTD/svg11.dtd\">\r\n",
       "<!-- Created with matplotlib (https://matplotlib.org/) -->\r\n",
       "<svg height=\"279.25pt\" version=\"1.1\" viewBox=\"0 0 404.555781 279.25\" width=\"404.555781pt\" xmlns=\"http://www.w3.org/2000/svg\" xmlns:xlink=\"http://www.w3.org/1999/xlink\">\r\n",
       " <metadata>\r\n",
       "  <rdf:RDF xmlns:cc=\"http://creativecommons.org/ns#\" xmlns:dc=\"http://purl.org/dc/elements/1.1/\" xmlns:rdf=\"http://www.w3.org/1999/02/22-rdf-syntax-ns#\">\r\n",
       "   <cc:Work>\r\n",
       "    <dc:type rdf:resource=\"http://purl.org/dc/dcmitype/StillImage\"/>\r\n",
       "    <dc:date>2020-12-19T13:00:28.943798</dc:date>\r\n",
       "    <dc:format>image/svg+xml</dc:format>\r\n",
       "    <dc:creator>\r\n",
       "     <cc:Agent>\r\n",
       "      <dc:title>Matplotlib v3.3.3, https://matplotlib.org/</dc:title>\r\n",
       "     </cc:Agent>\r\n",
       "    </dc:creator>\r\n",
       "   </cc:Work>\r\n",
       "  </rdf:RDF>\r\n",
       " </metadata>\r\n",
       " <defs>\r\n",
       "  <style type=\"text/css\">*{stroke-linecap:butt;stroke-linejoin:round;}</style>\r\n",
       " </defs>\r\n",
       " <g id=\"figure_1\">\r\n",
       "  <g id=\"patch_1\">\r\n",
       "   <path d=\"M 0 279.25 \r\n",
       "L 404.555781 279.25 \r\n",
       "L 404.555781 0 \r\n",
       "L 0 0 \r\n",
       "z\r\n",
       "\" style=\"fill:none;\"/>\r\n",
       "  </g>\r\n",
       "  <g id=\"axes_1\">\r\n",
       "   <g id=\"patch_2\">\r\n",
       "    <path d=\"M 62.555781 239.758125 \r\n",
       "L 397.355781 239.758125 \r\n",
       "L 397.355781 22.318125 \r\n",
       "L 62.555781 22.318125 \r\n",
       "z\r\n",
       "\" style=\"fill:#ffffff;\"/>\r\n",
       "   </g>\r\n",
       "   <g id=\"matplotlib.axis_1\">\r\n",
       "    <g id=\"xtick_1\">\r\n",
       "     <g id=\"line2d_1\">\r\n",
       "      <defs>\r\n",
       "       <path d=\"M 0 0 \r\n",
       "L 0 3.5 \r\n",
       "\" id=\"m3feedeb809\" style=\"stroke:#000000;stroke-width:0.8;\"/>\r\n",
       "      </defs>\r\n",
       "      <g>\r\n",
       "       <use style=\"stroke:#000000;stroke-width:0.8;\" x=\"111.592145\" xlink:href=\"#m3feedeb809\" y=\"239.758125\"/>\r\n",
       "      </g>\r\n",
       "     </g>\r\n",
       "     <g id=\"text_1\">\r\n",
       "      <!-- 2 -->\r\n",
       "      <g transform=\"translate(108.09277 255.116406)scale(0.11 -0.11)\">\r\n",
       "       <defs>\r\n",
       "        <path d=\"M 19.1875 8.296875 \r\n",
       "L 53.609375 8.296875 \r\n",
       "L 53.609375 0 \r\n",
       "L 7.328125 0 \r\n",
       "L 7.328125 8.296875 \r\n",
       "Q 12.9375 14.109375 22.625 23.890625 \r\n",
       "Q 32.328125 33.6875 34.8125 36.53125 \r\n",
       "Q 39.546875 41.84375 41.421875 45.53125 \r\n",
       "Q 43.3125 49.21875 43.3125 52.78125 \r\n",
       "Q 43.3125 58.59375 39.234375 62.25 \r\n",
       "Q 35.15625 65.921875 28.609375 65.921875 \r\n",
       "Q 23.96875 65.921875 18.8125 64.3125 \r\n",
       "Q 13.671875 62.703125 7.8125 59.421875 \r\n",
       "L 7.8125 69.390625 \r\n",
       "Q 13.765625 71.78125 18.9375 73 \r\n",
       "Q 24.125 74.21875 28.421875 74.21875 \r\n",
       "Q 39.75 74.21875 46.484375 68.546875 \r\n",
       "Q 53.21875 62.890625 53.21875 53.421875 \r\n",
       "Q 53.21875 48.921875 51.53125 44.890625 \r\n",
       "Q 49.859375 40.875 45.40625 35.40625 \r\n",
       "Q 44.1875 33.984375 37.640625 27.21875 \r\n",
       "Q 31.109375 20.453125 19.1875 8.296875 \r\n",
       "z\r\n",
       "\" id=\"DejaVuSans-50\"/>\r\n",
       "       </defs>\r\n",
       "       <use xlink:href=\"#DejaVuSans-50\"/>\r\n",
       "      </g>\r\n",
       "     </g>\r\n",
       "    </g>\r\n",
       "    <g id=\"xtick_2\">\r\n",
       "     <g id=\"line2d_2\">\r\n",
       "      <g>\r\n",
       "       <use style=\"stroke:#000000;stroke-width:0.8;\" x=\"179.228509\" xlink:href=\"#m3feedeb809\" y=\"239.758125\"/>\r\n",
       "      </g>\r\n",
       "     </g>\r\n",
       "     <g id=\"text_2\">\r\n",
       "      <!-- 4 -->\r\n",
       "      <g transform=\"translate(175.729134 255.116406)scale(0.11 -0.11)\">\r\n",
       "       <defs>\r\n",
       "        <path d=\"M 37.796875 64.3125 \r\n",
       "L 12.890625 25.390625 \r\n",
       "L 37.796875 25.390625 \r\n",
       "z\r\n",
       "M 35.203125 72.90625 \r\n",
       "L 47.609375 72.90625 \r\n",
       "L 47.609375 25.390625 \r\n",
       "L 58.015625 25.390625 \r\n",
       "L 58.015625 17.1875 \r\n",
       "L 47.609375 17.1875 \r\n",
       "L 47.609375 0 \r\n",
       "L 37.796875 0 \r\n",
       "L 37.796875 17.1875 \r\n",
       "L 4.890625 17.1875 \r\n",
       "L 4.890625 26.703125 \r\n",
       "z\r\n",
       "\" id=\"DejaVuSans-52\"/>\r\n",
       "       </defs>\r\n",
       "       <use xlink:href=\"#DejaVuSans-52\"/>\r\n",
       "      </g>\r\n",
       "     </g>\r\n",
       "    </g>\r\n",
       "    <g id=\"xtick_3\">\r\n",
       "     <g id=\"line2d_3\">\r\n",
       "      <g>\r\n",
       "       <use style=\"stroke:#000000;stroke-width:0.8;\" x=\"246.864872\" xlink:href=\"#m3feedeb809\" y=\"239.758125\"/>\r\n",
       "      </g>\r\n",
       "     </g>\r\n",
       "     <g id=\"text_3\">\r\n",
       "      <!-- 6 -->\r\n",
       "      <g transform=\"translate(243.365497 255.116406)scale(0.11 -0.11)\">\r\n",
       "       <defs>\r\n",
       "        <path d=\"M 33.015625 40.375 \r\n",
       "Q 26.375 40.375 22.484375 35.828125 \r\n",
       "Q 18.609375 31.296875 18.609375 23.390625 \r\n",
       "Q 18.609375 15.53125 22.484375 10.953125 \r\n",
       "Q 26.375 6.390625 33.015625 6.390625 \r\n",
       "Q 39.65625 6.390625 43.53125 10.953125 \r\n",
       "Q 47.40625 15.53125 47.40625 23.390625 \r\n",
       "Q 47.40625 31.296875 43.53125 35.828125 \r\n",
       "Q 39.65625 40.375 33.015625 40.375 \r\n",
       "z\r\n",
       "M 52.59375 71.296875 \r\n",
       "L 52.59375 62.3125 \r\n",
       "Q 48.875 64.0625 45.09375 64.984375 \r\n",
       "Q 41.3125 65.921875 37.59375 65.921875 \r\n",
       "Q 27.828125 65.921875 22.671875 59.328125 \r\n",
       "Q 17.53125 52.734375 16.796875 39.40625 \r\n",
       "Q 19.671875 43.65625 24.015625 45.921875 \r\n",
       "Q 28.375 48.1875 33.59375 48.1875 \r\n",
       "Q 44.578125 48.1875 50.953125 41.515625 \r\n",
       "Q 57.328125 34.859375 57.328125 23.390625 \r\n",
       "Q 57.328125 12.15625 50.6875 5.359375 \r\n",
       "Q 44.046875 -1.421875 33.015625 -1.421875 \r\n",
       "Q 20.359375 -1.421875 13.671875 8.265625 \r\n",
       "Q 6.984375 17.96875 6.984375 36.375 \r\n",
       "Q 6.984375 53.65625 15.1875 63.9375 \r\n",
       "Q 23.390625 74.21875 37.203125 74.21875 \r\n",
       "Q 40.921875 74.21875 44.703125 73.484375 \r\n",
       "Q 48.484375 72.75 52.59375 71.296875 \r\n",
       "z\r\n",
       "\" id=\"DejaVuSans-54\"/>\r\n",
       "       </defs>\r\n",
       "       <use xlink:href=\"#DejaVuSans-54\"/>\r\n",
       "      </g>\r\n",
       "     </g>\r\n",
       "    </g>\r\n",
       "    <g id=\"xtick_4\">\r\n",
       "     <g id=\"line2d_4\">\r\n",
       "      <g>\r\n",
       "       <use style=\"stroke:#000000;stroke-width:0.8;\" x=\"314.501236\" xlink:href=\"#m3feedeb809\" y=\"239.758125\"/>\r\n",
       "      </g>\r\n",
       "     </g>\r\n",
       "     <g id=\"text_4\">\r\n",
       "      <!-- 8 -->\r\n",
       "      <g transform=\"translate(311.001861 255.116406)scale(0.11 -0.11)\">\r\n",
       "       <defs>\r\n",
       "        <path d=\"M 31.78125 34.625 \r\n",
       "Q 24.75 34.625 20.71875 30.859375 \r\n",
       "Q 16.703125 27.09375 16.703125 20.515625 \r\n",
       "Q 16.703125 13.921875 20.71875 10.15625 \r\n",
       "Q 24.75 6.390625 31.78125 6.390625 \r\n",
       "Q 38.8125 6.390625 42.859375 10.171875 \r\n",
       "Q 46.921875 13.96875 46.921875 20.515625 \r\n",
       "Q 46.921875 27.09375 42.890625 30.859375 \r\n",
       "Q 38.875 34.625 31.78125 34.625 \r\n",
       "z\r\n",
       "M 21.921875 38.8125 \r\n",
       "Q 15.578125 40.375 12.03125 44.71875 \r\n",
       "Q 8.5 49.078125 8.5 55.328125 \r\n",
       "Q 8.5 64.0625 14.71875 69.140625 \r\n",
       "Q 20.953125 74.21875 31.78125 74.21875 \r\n",
       "Q 42.671875 74.21875 48.875 69.140625 \r\n",
       "Q 55.078125 64.0625 55.078125 55.328125 \r\n",
       "Q 55.078125 49.078125 51.53125 44.71875 \r\n",
       "Q 48 40.375 41.703125 38.8125 \r\n",
       "Q 48.828125 37.15625 52.796875 32.3125 \r\n",
       "Q 56.78125 27.484375 56.78125 20.515625 \r\n",
       "Q 56.78125 9.90625 50.3125 4.234375 \r\n",
       "Q 43.84375 -1.421875 31.78125 -1.421875 \r\n",
       "Q 19.734375 -1.421875 13.25 4.234375 \r\n",
       "Q 6.78125 9.90625 6.78125 20.515625 \r\n",
       "Q 6.78125 27.484375 10.78125 32.3125 \r\n",
       "Q 14.796875 37.15625 21.921875 38.8125 \r\n",
       "z\r\n",
       "M 18.3125 54.390625 \r\n",
       "Q 18.3125 48.734375 21.84375 45.5625 \r\n",
       "Q 25.390625 42.390625 31.78125 42.390625 \r\n",
       "Q 38.140625 42.390625 41.71875 45.5625 \r\n",
       "Q 45.3125 48.734375 45.3125 54.390625 \r\n",
       "Q 45.3125 60.0625 41.71875 63.234375 \r\n",
       "Q 38.140625 66.40625 31.78125 66.40625 \r\n",
       "Q 25.390625 66.40625 21.84375 63.234375 \r\n",
       "Q 18.3125 60.0625 18.3125 54.390625 \r\n",
       "z\r\n",
       "\" id=\"DejaVuSans-56\"/>\r\n",
       "       </defs>\r\n",
       "       <use xlink:href=\"#DejaVuSans-56\"/>\r\n",
       "      </g>\r\n",
       "     </g>\r\n",
       "    </g>\r\n",
       "    <g id=\"xtick_5\">\r\n",
       "     <g id=\"line2d_5\">\r\n",
       "      <g>\r\n",
       "       <use style=\"stroke:#000000;stroke-width:0.8;\" x=\"382.137599\" xlink:href=\"#m3feedeb809\" y=\"239.758125\"/>\r\n",
       "      </g>\r\n",
       "     </g>\r\n",
       "     <g id=\"text_5\">\r\n",
       "      <!-- 10 -->\r\n",
       "      <g transform=\"translate(375.138849 255.116406)scale(0.11 -0.11)\">\r\n",
       "       <defs>\r\n",
       "        <path d=\"M 12.40625 8.296875 \r\n",
       "L 28.515625 8.296875 \r\n",
       "L 28.515625 63.921875 \r\n",
       "L 10.984375 60.40625 \r\n",
       "L 10.984375 69.390625 \r\n",
       "L 28.421875 72.90625 \r\n",
       "L 38.28125 72.90625 \r\n",
       "L 38.28125 8.296875 \r\n",
       "L 54.390625 8.296875 \r\n",
       "L 54.390625 0 \r\n",
       "L 12.40625 0 \r\n",
       "z\r\n",
       "\" id=\"DejaVuSans-49\"/>\r\n",
       "        <path d=\"M 31.78125 66.40625 \r\n",
       "Q 24.171875 66.40625 20.328125 58.90625 \r\n",
       "Q 16.5 51.421875 16.5 36.375 \r\n",
       "Q 16.5 21.390625 20.328125 13.890625 \r\n",
       "Q 24.171875 6.390625 31.78125 6.390625 \r\n",
       "Q 39.453125 6.390625 43.28125 13.890625 \r\n",
       "Q 47.125 21.390625 47.125 36.375 \r\n",
       "Q 47.125 51.421875 43.28125 58.90625 \r\n",
       "Q 39.453125 66.40625 31.78125 66.40625 \r\n",
       "z\r\n",
       "M 31.78125 74.21875 \r\n",
       "Q 44.046875 74.21875 50.515625 64.515625 \r\n",
       "Q 56.984375 54.828125 56.984375 36.375 \r\n",
       "Q 56.984375 17.96875 50.515625 8.265625 \r\n",
       "Q 44.046875 -1.421875 31.78125 -1.421875 \r\n",
       "Q 19.53125 -1.421875 13.0625 8.265625 \r\n",
       "Q 6.59375 17.96875 6.59375 36.375 \r\n",
       "Q 6.59375 54.828125 13.0625 64.515625 \r\n",
       "Q 19.53125 74.21875 31.78125 74.21875 \r\n",
       "z\r\n",
       "\" id=\"DejaVuSans-48\"/>\r\n",
       "       </defs>\r\n",
       "       <use xlink:href=\"#DejaVuSans-49\"/>\r\n",
       "       <use x=\"63.623047\" xlink:href=\"#DejaVuSans-48\"/>\r\n",
       "      </g>\r\n",
       "     </g>\r\n",
       "    </g>\r\n",
       "    <g id=\"text_6\">\r\n",
       "     <!-- Voltaje (V) -->\r\n",
       "     <g transform=\"translate(201.485547 269.762344)scale(0.11 -0.11)\">\r\n",
       "      <defs>\r\n",
       "       <path d=\"M 28.609375 0 \r\n",
       "L 0.78125 72.90625 \r\n",
       "L 11.078125 72.90625 \r\n",
       "L 34.1875 11.53125 \r\n",
       "L 57.328125 72.90625 \r\n",
       "L 67.578125 72.90625 \r\n",
       "L 39.796875 0 \r\n",
       "z\r\n",
       "\" id=\"DejaVuSans-86\"/>\r\n",
       "       <path d=\"M 30.609375 48.390625 \r\n",
       "Q 23.390625 48.390625 19.1875 42.75 \r\n",
       "Q 14.984375 37.109375 14.984375 27.296875 \r\n",
       "Q 14.984375 17.484375 19.15625 11.84375 \r\n",
       "Q 23.34375 6.203125 30.609375 6.203125 \r\n",
       "Q 37.796875 6.203125 41.984375 11.859375 \r\n",
       "Q 46.1875 17.53125 46.1875 27.296875 \r\n",
       "Q 46.1875 37.015625 41.984375 42.703125 \r\n",
       "Q 37.796875 48.390625 30.609375 48.390625 \r\n",
       "z\r\n",
       "M 30.609375 56 \r\n",
       "Q 42.328125 56 49.015625 48.375 \r\n",
       "Q 55.71875 40.765625 55.71875 27.296875 \r\n",
       "Q 55.71875 13.875 49.015625 6.21875 \r\n",
       "Q 42.328125 -1.421875 30.609375 -1.421875 \r\n",
       "Q 18.84375 -1.421875 12.171875 6.21875 \r\n",
       "Q 5.515625 13.875 5.515625 27.296875 \r\n",
       "Q 5.515625 40.765625 12.171875 48.375 \r\n",
       "Q 18.84375 56 30.609375 56 \r\n",
       "z\r\n",
       "\" id=\"DejaVuSans-111\"/>\r\n",
       "       <path d=\"M 9.421875 75.984375 \r\n",
       "L 18.40625 75.984375 \r\n",
       "L 18.40625 0 \r\n",
       "L 9.421875 0 \r\n",
       "z\r\n",
       "\" id=\"DejaVuSans-108\"/>\r\n",
       "       <path d=\"M 18.3125 70.21875 \r\n",
       "L 18.3125 54.6875 \r\n",
       "L 36.8125 54.6875 \r\n",
       "L 36.8125 47.703125 \r\n",
       "L 18.3125 47.703125 \r\n",
       "L 18.3125 18.015625 \r\n",
       "Q 18.3125 11.328125 20.140625 9.421875 \r\n",
       "Q 21.96875 7.515625 27.59375 7.515625 \r\n",
       "L 36.8125 7.515625 \r\n",
       "L 36.8125 0 \r\n",
       "L 27.59375 0 \r\n",
       "Q 17.1875 0 13.234375 3.875 \r\n",
       "Q 9.28125 7.765625 9.28125 18.015625 \r\n",
       "L 9.28125 47.703125 \r\n",
       "L 2.6875 47.703125 \r\n",
       "L 2.6875 54.6875 \r\n",
       "L 9.28125 54.6875 \r\n",
       "L 9.28125 70.21875 \r\n",
       "z\r\n",
       "\" id=\"DejaVuSans-116\"/>\r\n",
       "       <path d=\"M 34.28125 27.484375 \r\n",
       "Q 23.390625 27.484375 19.1875 25 \r\n",
       "Q 14.984375 22.515625 14.984375 16.5 \r\n",
       "Q 14.984375 11.71875 18.140625 8.90625 \r\n",
       "Q 21.296875 6.109375 26.703125 6.109375 \r\n",
       "Q 34.1875 6.109375 38.703125 11.40625 \r\n",
       "Q 43.21875 16.703125 43.21875 25.484375 \r\n",
       "L 43.21875 27.484375 \r\n",
       "z\r\n",
       "M 52.203125 31.203125 \r\n",
       "L 52.203125 0 \r\n",
       "L 43.21875 0 \r\n",
       "L 43.21875 8.296875 \r\n",
       "Q 40.140625 3.328125 35.546875 0.953125 \r\n",
       "Q 30.953125 -1.421875 24.3125 -1.421875 \r\n",
       "Q 15.921875 -1.421875 10.953125 3.296875 \r\n",
       "Q 6 8.015625 6 15.921875 \r\n",
       "Q 6 25.140625 12.171875 29.828125 \r\n",
       "Q 18.359375 34.515625 30.609375 34.515625 \r\n",
       "L 43.21875 34.515625 \r\n",
       "L 43.21875 35.40625 \r\n",
       "Q 43.21875 41.609375 39.140625 45 \r\n",
       "Q 35.0625 48.390625 27.6875 48.390625 \r\n",
       "Q 23 48.390625 18.546875 47.265625 \r\n",
       "Q 14.109375 46.140625 10.015625 43.890625 \r\n",
       "L 10.015625 52.203125 \r\n",
       "Q 14.9375 54.109375 19.578125 55.046875 \r\n",
       "Q 24.21875 56 28.609375 56 \r\n",
       "Q 40.484375 56 46.34375 49.84375 \r\n",
       "Q 52.203125 43.703125 52.203125 31.203125 \r\n",
       "z\r\n",
       "\" id=\"DejaVuSans-97\"/>\r\n",
       "       <path d=\"M 9.421875 54.6875 \r\n",
       "L 18.40625 54.6875 \r\n",
       "L 18.40625 -0.984375 \r\n",
       "Q 18.40625 -11.421875 14.421875 -16.109375 \r\n",
       "Q 10.453125 -20.796875 1.609375 -20.796875 \r\n",
       "L -1.8125 -20.796875 \r\n",
       "L -1.8125 -13.1875 \r\n",
       "L 0.59375 -13.1875 \r\n",
       "Q 5.71875 -13.1875 7.5625 -10.8125 \r\n",
       "Q 9.421875 -8.453125 9.421875 -0.984375 \r\n",
       "z\r\n",
       "M 9.421875 75.984375 \r\n",
       "L 18.40625 75.984375 \r\n",
       "L 18.40625 64.59375 \r\n",
       "L 9.421875 64.59375 \r\n",
       "z\r\n",
       "\" id=\"DejaVuSans-106\"/>\r\n",
       "       <path d=\"M 56.203125 29.59375 \r\n",
       "L 56.203125 25.203125 \r\n",
       "L 14.890625 25.203125 \r\n",
       "Q 15.484375 15.921875 20.484375 11.0625 \r\n",
       "Q 25.484375 6.203125 34.421875 6.203125 \r\n",
       "Q 39.59375 6.203125 44.453125 7.46875 \r\n",
       "Q 49.3125 8.734375 54.109375 11.28125 \r\n",
       "L 54.109375 2.78125 \r\n",
       "Q 49.265625 0.734375 44.1875 -0.34375 \r\n",
       "Q 39.109375 -1.421875 33.890625 -1.421875 \r\n",
       "Q 20.796875 -1.421875 13.15625 6.1875 \r\n",
       "Q 5.515625 13.8125 5.515625 26.8125 \r\n",
       "Q 5.515625 40.234375 12.765625 48.109375 \r\n",
       "Q 20.015625 56 32.328125 56 \r\n",
       "Q 43.359375 56 49.78125 48.890625 \r\n",
       "Q 56.203125 41.796875 56.203125 29.59375 \r\n",
       "z\r\n",
       "M 47.21875 32.234375 \r\n",
       "Q 47.125 39.59375 43.09375 43.984375 \r\n",
       "Q 39.0625 48.390625 32.421875 48.390625 \r\n",
       "Q 24.90625 48.390625 20.390625 44.140625 \r\n",
       "Q 15.875 39.890625 15.1875 32.171875 \r\n",
       "z\r\n",
       "\" id=\"DejaVuSans-101\"/>\r\n",
       "       <path id=\"DejaVuSans-32\"/>\r\n",
       "       <path d=\"M 31 75.875 \r\n",
       "Q 24.46875 64.65625 21.28125 53.65625 \r\n",
       "Q 18.109375 42.671875 18.109375 31.390625 \r\n",
       "Q 18.109375 20.125 21.3125 9.0625 \r\n",
       "Q 24.515625 -2 31 -13.1875 \r\n",
       "L 23.1875 -13.1875 \r\n",
       "Q 15.875 -1.703125 12.234375 9.375 \r\n",
       "Q 8.59375 20.453125 8.59375 31.390625 \r\n",
       "Q 8.59375 42.28125 12.203125 53.3125 \r\n",
       "Q 15.828125 64.359375 23.1875 75.875 \r\n",
       "z\r\n",
       "\" id=\"DejaVuSans-40\"/>\r\n",
       "       <path d=\"M 8.015625 75.875 \r\n",
       "L 15.828125 75.875 \r\n",
       "Q 23.140625 64.359375 26.78125 53.3125 \r\n",
       "Q 30.421875 42.28125 30.421875 31.390625 \r\n",
       "Q 30.421875 20.453125 26.78125 9.375 \r\n",
       "Q 23.140625 -1.703125 15.828125 -13.1875 \r\n",
       "L 8.015625 -13.1875 \r\n",
       "Q 14.5 -2 17.703125 9.0625 \r\n",
       "Q 20.90625 20.125 20.90625 31.390625 \r\n",
       "Q 20.90625 42.671875 17.703125 53.65625 \r\n",
       "Q 14.5 64.65625 8.015625 75.875 \r\n",
       "z\r\n",
       "\" id=\"DejaVuSans-41\"/>\r\n",
       "      </defs>\r\n",
       "      <use xlink:href=\"#DejaVuSans-86\"/>\r\n",
       "      <use x=\"60.658203\" xlink:href=\"#DejaVuSans-111\"/>\r\n",
       "      <use x=\"121.839844\" xlink:href=\"#DejaVuSans-108\"/>\r\n",
       "      <use x=\"149.623047\" xlink:href=\"#DejaVuSans-116\"/>\r\n",
       "      <use x=\"188.832031\" xlink:href=\"#DejaVuSans-97\"/>\r\n",
       "      <use x=\"250.111328\" xlink:href=\"#DejaVuSans-106\"/>\r\n",
       "      <use x=\"277.894531\" xlink:href=\"#DejaVuSans-101\"/>\r\n",
       "      <use x=\"339.417969\" xlink:href=\"#DejaVuSans-32\"/>\r\n",
       "      <use x=\"371.205078\" xlink:href=\"#DejaVuSans-40\"/>\r\n",
       "      <use x=\"410.21875\" xlink:href=\"#DejaVuSans-86\"/>\r\n",
       "      <use x=\"478.626953\" xlink:href=\"#DejaVuSans-41\"/>\r\n",
       "     </g>\r\n",
       "    </g>\r\n",
       "   </g>\r\n",
       "   <g id=\"matplotlib.axis_2\">\r\n",
       "    <g id=\"ytick_1\">\r\n",
       "     <g id=\"line2d_6\">\r\n",
       "      <defs>\r\n",
       "       <path d=\"M 0 0 \r\n",
       "L -3.5 0 \r\n",
       "\" id=\"m2cdffa53be\" style=\"stroke:#000000;stroke-width:0.8;\"/>\r\n",
       "      </defs>\r\n",
       "      <g>\r\n",
       "       <use style=\"stroke:#000000;stroke-width:0.8;\" x=\"62.555781\" xlink:href=\"#m2cdffa53be\" y=\"229.874489\"/>\r\n",
       "      </g>\r\n",
       "     </g>\r\n",
       "     <g id=\"text_7\">\r\n",
       "      <!-- −0.10 -->\r\n",
       "      <g transform=\"translate(21.845938 234.053629)scale(0.11 -0.11)\">\r\n",
       "       <defs>\r\n",
       "        <path d=\"M 10.59375 35.5 \r\n",
       "L 73.1875 35.5 \r\n",
       "L 73.1875 27.203125 \r\n",
       "L 10.59375 27.203125 \r\n",
       "z\r\n",
       "\" id=\"DejaVuSans-8722\"/>\r\n",
       "        <path d=\"M 10.6875 12.40625 \r\n",
       "L 21 12.40625 \r\n",
       "L 21 0 \r\n",
       "L 10.6875 0 \r\n",
       "z\r\n",
       "\" id=\"DejaVuSans-46\"/>\r\n",
       "       </defs>\r\n",
       "       <use xlink:href=\"#DejaVuSans-8722\"/>\r\n",
       "       <use x=\"83.789062\" xlink:href=\"#DejaVuSans-48\"/>\r\n",
       "       <use x=\"147.412109\" xlink:href=\"#DejaVuSans-46\"/>\r\n",
       "       <use x=\"179.199219\" xlink:href=\"#DejaVuSans-49\"/>\r\n",
       "       <use x=\"242.822266\" xlink:href=\"#DejaVuSans-48\"/>\r\n",
       "      </g>\r\n",
       "     </g>\r\n",
       "    </g>\r\n",
       "    <g id=\"ytick_2\">\r\n",
       "     <g id=\"line2d_7\">\r\n",
       "      <g>\r\n",
       "       <use style=\"stroke:#000000;stroke-width:0.8;\" x=\"62.555781\" xlink:href=\"#m2cdffa53be\" y=\"185.947216\"/>\r\n",
       "      </g>\r\n",
       "     </g>\r\n",
       "     <g id=\"text_8\">\r\n",
       "      <!-- −0.08 -->\r\n",
       "      <g transform=\"translate(21.845938 190.126357)scale(0.11 -0.11)\">\r\n",
       "       <use xlink:href=\"#DejaVuSans-8722\"/>\r\n",
       "       <use x=\"83.789062\" xlink:href=\"#DejaVuSans-48\"/>\r\n",
       "       <use x=\"147.412109\" xlink:href=\"#DejaVuSans-46\"/>\r\n",
       "       <use x=\"179.199219\" xlink:href=\"#DejaVuSans-48\"/>\r\n",
       "       <use x=\"242.822266\" xlink:href=\"#DejaVuSans-56\"/>\r\n",
       "      </g>\r\n",
       "     </g>\r\n",
       "    </g>\r\n",
       "    <g id=\"ytick_3\">\r\n",
       "     <g id=\"line2d_8\">\r\n",
       "      <g>\r\n",
       "       <use style=\"stroke:#000000;stroke-width:0.8;\" x=\"62.555781\" xlink:href=\"#m2cdffa53be\" y=\"142.019943\"/>\r\n",
       "      </g>\r\n",
       "     </g>\r\n",
       "     <g id=\"text_9\">\r\n",
       "      <!-- −0.06 -->\r\n",
       "      <g transform=\"translate(21.845938 146.199084)scale(0.11 -0.11)\">\r\n",
       "       <use xlink:href=\"#DejaVuSans-8722\"/>\r\n",
       "       <use x=\"83.789062\" xlink:href=\"#DejaVuSans-48\"/>\r\n",
       "       <use x=\"147.412109\" xlink:href=\"#DejaVuSans-46\"/>\r\n",
       "       <use x=\"179.199219\" xlink:href=\"#DejaVuSans-48\"/>\r\n",
       "       <use x=\"242.822266\" xlink:href=\"#DejaVuSans-54\"/>\r\n",
       "      </g>\r\n",
       "     </g>\r\n",
       "    </g>\r\n",
       "    <g id=\"ytick_4\">\r\n",
       "     <g id=\"line2d_9\">\r\n",
       "      <g>\r\n",
       "       <use style=\"stroke:#000000;stroke-width:0.8;\" x=\"62.555781\" xlink:href=\"#m2cdffa53be\" y=\"98.09267\"/>\r\n",
       "      </g>\r\n",
       "     </g>\r\n",
       "     <g id=\"text_10\">\r\n",
       "      <!-- −0.04 -->\r\n",
       "      <g transform=\"translate(21.845938 102.271811)scale(0.11 -0.11)\">\r\n",
       "       <use xlink:href=\"#DejaVuSans-8722\"/>\r\n",
       "       <use x=\"83.789062\" xlink:href=\"#DejaVuSans-48\"/>\r\n",
       "       <use x=\"147.412109\" xlink:href=\"#DejaVuSans-46\"/>\r\n",
       "       <use x=\"179.199219\" xlink:href=\"#DejaVuSans-48\"/>\r\n",
       "       <use x=\"242.822266\" xlink:href=\"#DejaVuSans-52\"/>\r\n",
       "      </g>\r\n",
       "     </g>\r\n",
       "    </g>\r\n",
       "    <g id=\"ytick_5\">\r\n",
       "     <g id=\"line2d_10\">\r\n",
       "      <g>\r\n",
       "       <use style=\"stroke:#000000;stroke-width:0.8;\" x=\"62.555781\" xlink:href=\"#m2cdffa53be\" y=\"54.165398\"/>\r\n",
       "      </g>\r\n",
       "     </g>\r\n",
       "     <g id=\"text_11\">\r\n",
       "      <!-- −0.02 -->\r\n",
       "      <g transform=\"translate(21.845938 58.344538)scale(0.11 -0.11)\">\r\n",
       "       <use xlink:href=\"#DejaVuSans-8722\"/>\r\n",
       "       <use x=\"83.789062\" xlink:href=\"#DejaVuSans-48\"/>\r\n",
       "       <use x=\"147.412109\" xlink:href=\"#DejaVuSans-46\"/>\r\n",
       "       <use x=\"179.199219\" xlink:href=\"#DejaVuSans-48\"/>\r\n",
       "       <use x=\"242.822266\" xlink:href=\"#DejaVuSans-50\"/>\r\n",
       "      </g>\r\n",
       "     </g>\r\n",
       "    </g>\r\n",
       "    <g id=\"text_12\">\r\n",
       "     <!-- Intensidad (A) -->\r\n",
       "     <g transform=\"translate(15.558281 169.721172)rotate(-90)scale(0.11 -0.11)\">\r\n",
       "      <defs>\r\n",
       "       <path d=\"M 9.8125 72.90625 \r\n",
       "L 19.671875 72.90625 \r\n",
       "L 19.671875 0 \r\n",
       "L 9.8125 0 \r\n",
       "z\r\n",
       "\" id=\"DejaVuSans-73\"/>\r\n",
       "       <path d=\"M 54.890625 33.015625 \r\n",
       "L 54.890625 0 \r\n",
       "L 45.90625 0 \r\n",
       "L 45.90625 32.71875 \r\n",
       "Q 45.90625 40.484375 42.875 44.328125 \r\n",
       "Q 39.84375 48.1875 33.796875 48.1875 \r\n",
       "Q 26.515625 48.1875 22.3125 43.546875 \r\n",
       "Q 18.109375 38.921875 18.109375 30.90625 \r\n",
       "L 18.109375 0 \r\n",
       "L 9.078125 0 \r\n",
       "L 9.078125 54.6875 \r\n",
       "L 18.109375 54.6875 \r\n",
       "L 18.109375 46.1875 \r\n",
       "Q 21.34375 51.125 25.703125 53.5625 \r\n",
       "Q 30.078125 56 35.796875 56 \r\n",
       "Q 45.21875 56 50.046875 50.171875 \r\n",
       "Q 54.890625 44.34375 54.890625 33.015625 \r\n",
       "z\r\n",
       "\" id=\"DejaVuSans-110\"/>\r\n",
       "       <path d=\"M 44.28125 53.078125 \r\n",
       "L 44.28125 44.578125 \r\n",
       "Q 40.484375 46.53125 36.375 47.5 \r\n",
       "Q 32.28125 48.484375 27.875 48.484375 \r\n",
       "Q 21.1875 48.484375 17.84375 46.4375 \r\n",
       "Q 14.5 44.390625 14.5 40.28125 \r\n",
       "Q 14.5 37.15625 16.890625 35.375 \r\n",
       "Q 19.28125 33.59375 26.515625 31.984375 \r\n",
       "L 29.59375 31.296875 \r\n",
       "Q 39.15625 29.25 43.1875 25.515625 \r\n",
       "Q 47.21875 21.78125 47.21875 15.09375 \r\n",
       "Q 47.21875 7.46875 41.1875 3.015625 \r\n",
       "Q 35.15625 -1.421875 24.609375 -1.421875 \r\n",
       "Q 20.21875 -1.421875 15.453125 -0.5625 \r\n",
       "Q 10.6875 0.296875 5.421875 2 \r\n",
       "L 5.421875 11.28125 \r\n",
       "Q 10.40625 8.6875 15.234375 7.390625 \r\n",
       "Q 20.0625 6.109375 24.8125 6.109375 \r\n",
       "Q 31.15625 6.109375 34.5625 8.28125 \r\n",
       "Q 37.984375 10.453125 37.984375 14.40625 \r\n",
       "Q 37.984375 18.0625 35.515625 20.015625 \r\n",
       "Q 33.0625 21.96875 24.703125 23.78125 \r\n",
       "L 21.578125 24.515625 \r\n",
       "Q 13.234375 26.265625 9.515625 29.90625 \r\n",
       "Q 5.8125 33.546875 5.8125 39.890625 \r\n",
       "Q 5.8125 47.609375 11.28125 51.796875 \r\n",
       "Q 16.75 56 26.8125 56 \r\n",
       "Q 31.78125 56 36.171875 55.265625 \r\n",
       "Q 40.578125 54.546875 44.28125 53.078125 \r\n",
       "z\r\n",
       "\" id=\"DejaVuSans-115\"/>\r\n",
       "       <path d=\"M 9.421875 54.6875 \r\n",
       "L 18.40625 54.6875 \r\n",
       "L 18.40625 0 \r\n",
       "L 9.421875 0 \r\n",
       "z\r\n",
       "M 9.421875 75.984375 \r\n",
       "L 18.40625 75.984375 \r\n",
       "L 18.40625 64.59375 \r\n",
       "L 9.421875 64.59375 \r\n",
       "z\r\n",
       "\" id=\"DejaVuSans-105\"/>\r\n",
       "       <path d=\"M 45.40625 46.390625 \r\n",
       "L 45.40625 75.984375 \r\n",
       "L 54.390625 75.984375 \r\n",
       "L 54.390625 0 \r\n",
       "L 45.40625 0 \r\n",
       "L 45.40625 8.203125 \r\n",
       "Q 42.578125 3.328125 38.25 0.953125 \r\n",
       "Q 33.9375 -1.421875 27.875 -1.421875 \r\n",
       "Q 17.96875 -1.421875 11.734375 6.484375 \r\n",
       "Q 5.515625 14.40625 5.515625 27.296875 \r\n",
       "Q 5.515625 40.1875 11.734375 48.09375 \r\n",
       "Q 17.96875 56 27.875 56 \r\n",
       "Q 33.9375 56 38.25 53.625 \r\n",
       "Q 42.578125 51.265625 45.40625 46.390625 \r\n",
       "z\r\n",
       "M 14.796875 27.296875 \r\n",
       "Q 14.796875 17.390625 18.875 11.75 \r\n",
       "Q 22.953125 6.109375 30.078125 6.109375 \r\n",
       "Q 37.203125 6.109375 41.296875 11.75 \r\n",
       "Q 45.40625 17.390625 45.40625 27.296875 \r\n",
       "Q 45.40625 37.203125 41.296875 42.84375 \r\n",
       "Q 37.203125 48.484375 30.078125 48.484375 \r\n",
       "Q 22.953125 48.484375 18.875 42.84375 \r\n",
       "Q 14.796875 37.203125 14.796875 27.296875 \r\n",
       "z\r\n",
       "\" id=\"DejaVuSans-100\"/>\r\n",
       "       <path d=\"M 34.1875 63.1875 \r\n",
       "L 20.796875 26.90625 \r\n",
       "L 47.609375 26.90625 \r\n",
       "z\r\n",
       "M 28.609375 72.90625 \r\n",
       "L 39.796875 72.90625 \r\n",
       "L 67.578125 0 \r\n",
       "L 57.328125 0 \r\n",
       "L 50.6875 18.703125 \r\n",
       "L 17.828125 18.703125 \r\n",
       "L 11.1875 0 \r\n",
       "L 0.78125 0 \r\n",
       "z\r\n",
       "\" id=\"DejaVuSans-65\"/>\r\n",
       "      </defs>\r\n",
       "      <use xlink:href=\"#DejaVuSans-73\"/>\r\n",
       "      <use x=\"29.492188\" xlink:href=\"#DejaVuSans-110\"/>\r\n",
       "      <use x=\"92.871094\" xlink:href=\"#DejaVuSans-116\"/>\r\n",
       "      <use x=\"132.080078\" xlink:href=\"#DejaVuSans-101\"/>\r\n",
       "      <use x=\"193.603516\" xlink:href=\"#DejaVuSans-110\"/>\r\n",
       "      <use x=\"256.982422\" xlink:href=\"#DejaVuSans-115\"/>\r\n",
       "      <use x=\"309.082031\" xlink:href=\"#DejaVuSans-105\"/>\r\n",
       "      <use x=\"336.865234\" xlink:href=\"#DejaVuSans-100\"/>\r\n",
       "      <use x=\"400.341797\" xlink:href=\"#DejaVuSans-97\"/>\r\n",
       "      <use x=\"461.621094\" xlink:href=\"#DejaVuSans-100\"/>\r\n",
       "      <use x=\"525.097656\" xlink:href=\"#DejaVuSans-32\"/>\r\n",
       "      <use x=\"556.884766\" xlink:href=\"#DejaVuSans-40\"/>\r\n",
       "      <use x=\"595.898438\" xlink:href=\"#DejaVuSans-65\"/>\r\n",
       "      <use x=\"664.306641\" xlink:href=\"#DejaVuSans-41\"/>\r\n",
       "     </g>\r\n",
       "    </g>\r\n",
       "   </g>\r\n",
       "   <g id=\"line2d_11\">\r\n",
       "    <path clip-path=\"url(#pf23b624f2c)\" d=\"M 77.773963 32.201761 \r\n",
       "L 382.137599 229.874489 \r\n",
       "\" style=\"fill:none;stroke:#1f77b4;stroke-linecap:square;stroke-width:1.5;\"/>\r\n",
       "   </g>\r\n",
       "   <g id=\"patch_3\">\r\n",
       "    <path d=\"M 62.555781 239.758125 \r\n",
       "L 62.555781 22.318125 \r\n",
       "\" style=\"fill:none;stroke:#000000;stroke-linecap:square;stroke-linejoin:miter;stroke-width:0.8;\"/>\r\n",
       "   </g>\r\n",
       "   <g id=\"patch_4\">\r\n",
       "    <path d=\"M 397.355781 239.758125 \r\n",
       "L 397.355781 22.318125 \r\n",
       "\" style=\"fill:none;stroke:#000000;stroke-linecap:square;stroke-linejoin:miter;stroke-width:0.8;\"/>\r\n",
       "   </g>\r\n",
       "   <g id=\"patch_5\">\r\n",
       "    <path d=\"M 62.555781 239.758125 \r\n",
       "L 397.355781 239.758125 \r\n",
       "\" style=\"fill:none;stroke:#000000;stroke-linecap:square;stroke-linejoin:miter;stroke-width:0.8;\"/>\r\n",
       "   </g>\r\n",
       "   <g id=\"patch_6\">\r\n",
       "    <path d=\"M 62.555781 22.318125 \r\n",
       "L 397.355781 22.318125 \r\n",
       "\" style=\"fill:none;stroke:#000000;stroke-linecap:square;stroke-linejoin:miter;stroke-width:0.8;\"/>\r\n",
       "   </g>\r\n",
       "   <g id=\"text_13\">\r\n",
       "    <!-- Circuito VDC ($\\mathrm{10v}$) - Resistencia $\\mathrm{100\\ \\Omega}$ -->\r\n",
       "    <g transform=\"translate(114.095781 16.318125)scale(0.12 -0.12)\">\r\n",
       "     <defs>\r\n",
       "      <path d=\"M 64.40625 67.28125 \r\n",
       "L 64.40625 56.890625 \r\n",
       "Q 59.421875 61.53125 53.78125 63.8125 \r\n",
       "Q 48.140625 66.109375 41.796875 66.109375 \r\n",
       "Q 29.296875 66.109375 22.65625 58.46875 \r\n",
       "Q 16.015625 50.828125 16.015625 36.375 \r\n",
       "Q 16.015625 21.96875 22.65625 14.328125 \r\n",
       "Q 29.296875 6.6875 41.796875 6.6875 \r\n",
       "Q 48.140625 6.6875 53.78125 8.984375 \r\n",
       "Q 59.421875 11.28125 64.40625 15.921875 \r\n",
       "L 64.40625 5.609375 \r\n",
       "Q 59.234375 2.09375 53.4375 0.328125 \r\n",
       "Q 47.65625 -1.421875 41.21875 -1.421875 \r\n",
       "Q 24.65625 -1.421875 15.125 8.703125 \r\n",
       "Q 5.609375 18.84375 5.609375 36.375 \r\n",
       "Q 5.609375 53.953125 15.125 64.078125 \r\n",
       "Q 24.65625 74.21875 41.21875 74.21875 \r\n",
       "Q 47.75 74.21875 53.53125 72.484375 \r\n",
       "Q 59.328125 70.75 64.40625 67.28125 \r\n",
       "z\r\n",
       "\" id=\"DejaVuSans-67\"/>\r\n",
       "      <path d=\"M 41.109375 46.296875 \r\n",
       "Q 39.59375 47.171875 37.8125 47.578125 \r\n",
       "Q 36.03125 48 33.890625 48 \r\n",
       "Q 26.265625 48 22.1875 43.046875 \r\n",
       "Q 18.109375 38.09375 18.109375 28.8125 \r\n",
       "L 18.109375 0 \r\n",
       "L 9.078125 0 \r\n",
       "L 9.078125 54.6875 \r\n",
       "L 18.109375 54.6875 \r\n",
       "L 18.109375 46.1875 \r\n",
       "Q 20.953125 51.171875 25.484375 53.578125 \r\n",
       "Q 30.03125 56 36.53125 56 \r\n",
       "Q 37.453125 56 38.578125 55.875 \r\n",
       "Q 39.703125 55.765625 41.0625 55.515625 \r\n",
       "z\r\n",
       "\" id=\"DejaVuSans-114\"/>\r\n",
       "      <path d=\"M 48.78125 52.59375 \r\n",
       "L 48.78125 44.1875 \r\n",
       "Q 44.96875 46.296875 41.140625 47.34375 \r\n",
       "Q 37.3125 48.390625 33.40625 48.390625 \r\n",
       "Q 24.65625 48.390625 19.8125 42.84375 \r\n",
       "Q 14.984375 37.3125 14.984375 27.296875 \r\n",
       "Q 14.984375 17.28125 19.8125 11.734375 \r\n",
       "Q 24.65625 6.203125 33.40625 6.203125 \r\n",
       "Q 37.3125 6.203125 41.140625 7.25 \r\n",
       "Q 44.96875 8.296875 48.78125 10.40625 \r\n",
       "L 48.78125 2.09375 \r\n",
       "Q 45.015625 0.34375 40.984375 -0.53125 \r\n",
       "Q 36.96875 -1.421875 32.421875 -1.421875 \r\n",
       "Q 20.0625 -1.421875 12.78125 6.34375 \r\n",
       "Q 5.515625 14.109375 5.515625 27.296875 \r\n",
       "Q 5.515625 40.671875 12.859375 48.328125 \r\n",
       "Q 20.21875 56 33.015625 56 \r\n",
       "Q 37.15625 56 41.109375 55.140625 \r\n",
       "Q 45.0625 54.296875 48.78125 52.59375 \r\n",
       "z\r\n",
       "\" id=\"DejaVuSans-99\"/>\r\n",
       "      <path d=\"M 8.5 21.578125 \r\n",
       "L 8.5 54.6875 \r\n",
       "L 17.484375 54.6875 \r\n",
       "L 17.484375 21.921875 \r\n",
       "Q 17.484375 14.15625 20.5 10.265625 \r\n",
       "Q 23.53125 6.390625 29.59375 6.390625 \r\n",
       "Q 36.859375 6.390625 41.078125 11.03125 \r\n",
       "Q 45.3125 15.671875 45.3125 23.6875 \r\n",
       "L 45.3125 54.6875 \r\n",
       "L 54.296875 54.6875 \r\n",
       "L 54.296875 0 \r\n",
       "L 45.3125 0 \r\n",
       "L 45.3125 8.40625 \r\n",
       "Q 42.046875 3.421875 37.71875 1 \r\n",
       "Q 33.40625 -1.421875 27.6875 -1.421875 \r\n",
       "Q 18.265625 -1.421875 13.375 4.4375 \r\n",
       "Q 8.5 10.296875 8.5 21.578125 \r\n",
       "z\r\n",
       "M 31.109375 56 \r\n",
       "z\r\n",
       "\" id=\"DejaVuSans-117\"/>\r\n",
       "      <path d=\"M 19.671875 64.796875 \r\n",
       "L 19.671875 8.109375 \r\n",
       "L 31.59375 8.109375 \r\n",
       "Q 46.6875 8.109375 53.6875 14.9375 \r\n",
       "Q 60.6875 21.78125 60.6875 36.53125 \r\n",
       "Q 60.6875 51.171875 53.6875 57.984375 \r\n",
       "Q 46.6875 64.796875 31.59375 64.796875 \r\n",
       "z\r\n",
       "M 9.8125 72.90625 \r\n",
       "L 30.078125 72.90625 \r\n",
       "Q 51.265625 72.90625 61.171875 64.09375 \r\n",
       "Q 71.09375 55.28125 71.09375 36.53125 \r\n",
       "Q 71.09375 17.671875 61.125 8.828125 \r\n",
       "Q 51.171875 0 30.078125 0 \r\n",
       "L 9.8125 0 \r\n",
       "z\r\n",
       "\" id=\"DejaVuSans-68\"/>\r\n",
       "      <path d=\"M 2.984375 54.6875 \r\n",
       "L 12.5 54.6875 \r\n",
       "L 29.59375 8.796875 \r\n",
       "L 46.6875 54.6875 \r\n",
       "L 56.203125 54.6875 \r\n",
       "L 35.6875 0 \r\n",
       "L 23.484375 0 \r\n",
       "z\r\n",
       "\" id=\"DejaVuSans-118\"/>\r\n",
       "      <path d=\"M 4.890625 31.390625 \r\n",
       "L 31.203125 31.390625 \r\n",
       "L 31.203125 23.390625 \r\n",
       "L 4.890625 23.390625 \r\n",
       "z\r\n",
       "\" id=\"DejaVuSans-45\"/>\r\n",
       "      <path d=\"M 44.390625 34.1875 \r\n",
       "Q 47.5625 33.109375 50.5625 29.59375 \r\n",
       "Q 53.5625 26.078125 56.59375 19.921875 \r\n",
       "L 66.609375 0 \r\n",
       "L 56 0 \r\n",
       "L 46.6875 18.703125 \r\n",
       "Q 43.0625 26.03125 39.671875 28.421875 \r\n",
       "Q 36.28125 30.8125 30.421875 30.8125 \r\n",
       "L 19.671875 30.8125 \r\n",
       "L 19.671875 0 \r\n",
       "L 9.8125 0 \r\n",
       "L 9.8125 72.90625 \r\n",
       "L 32.078125 72.90625 \r\n",
       "Q 44.578125 72.90625 50.734375 67.671875 \r\n",
       "Q 56.890625 62.453125 56.890625 51.90625 \r\n",
       "Q 56.890625 45.015625 53.6875 40.46875 \r\n",
       "Q 50.484375 35.9375 44.390625 34.1875 \r\n",
       "z\r\n",
       "M 19.671875 64.796875 \r\n",
       "L 19.671875 38.921875 \r\n",
       "L 32.078125 38.921875 \r\n",
       "Q 39.203125 38.921875 42.84375 42.21875 \r\n",
       "Q 46.484375 45.515625 46.484375 51.90625 \r\n",
       "Q 46.484375 58.296875 42.84375 61.546875 \r\n",
       "Q 39.203125 64.796875 32.078125 64.796875 \r\n",
       "z\r\n",
       "\" id=\"DejaVuSans-82\"/>\r\n",
       "      <path d=\"M 72.609375 8.6875 \r\n",
       "L 72.609375 0 \r\n",
       "L 43.3125 0 \r\n",
       "L 43.3125 8.6875 \r\n",
       "Q 51.953125 13.421875 56.78125 21.53125 \r\n",
       "Q 61.625 29.640625 61.625 39.5 \r\n",
       "Q 61.625 51.21875 55.171875 58.296875 \r\n",
       "Q 48.734375 65.375 38.1875 65.375 \r\n",
       "Q 27.640625 65.375 21.171875 58.265625 \r\n",
       "Q 14.703125 51.171875 14.703125 39.5 \r\n",
       "Q 14.703125 29.640625 19.53125 21.53125 \r\n",
       "Q 24.421875 13.421875 33.109375 8.6875 \r\n",
       "L 33.109375 0 \r\n",
       "L 3.8125 0 \r\n",
       "L 3.8125 8.6875 \r\n",
       "L 19.390625 8.6875 \r\n",
       "Q 11.671875 15.484375 8.109375 22.75 \r\n",
       "Q 4.59375 30.03125 4.59375 39.015625 \r\n",
       "Q 4.59375 54.546875 13.96875 64.15625 \r\n",
       "Q 23.296875 73.78125 38.1875 73.78125 \r\n",
       "Q 52.984375 73.78125 62.40625 64.15625 \r\n",
       "Q 71.78125 54.59375 71.78125 39.5 \r\n",
       "Q 71.78125 30.03125 68.3125 22.796875 \r\n",
       "Q 64.84375 15.578125 56.984375 8.6875 \r\n",
       "z\r\n",
       "\" id=\"DejaVuSans-937\"/>\r\n",
       "     </defs>\r\n",
       "     <use transform=\"translate(0 0.015625)\" xlink:href=\"#DejaVuSans-67\"/>\r\n",
       "     <use transform=\"translate(69.824219 0.015625)\" xlink:href=\"#DejaVuSans-105\"/>\r\n",
       "     <use transform=\"translate(97.607422 0.015625)\" xlink:href=\"#DejaVuSans-114\"/>\r\n",
       "     <use transform=\"translate(138.720703 0.015625)\" xlink:href=\"#DejaVuSans-99\"/>\r\n",
       "     <use transform=\"translate(193.701172 0.015625)\" xlink:href=\"#DejaVuSans-117\"/>\r\n",
       "     <use transform=\"translate(257.080078 0.015625)\" xlink:href=\"#DejaVuSans-105\"/>\r\n",
       "     <use transform=\"translate(284.863281 0.015625)\" xlink:href=\"#DejaVuSans-116\"/>\r\n",
       "     <use transform=\"translate(324.072266 0.015625)\" xlink:href=\"#DejaVuSans-111\"/>\r\n",
       "     <use transform=\"translate(385.253906 0.015625)\" xlink:href=\"#DejaVuSans-32\"/>\r\n",
       "     <use transform=\"translate(417.041016 0.015625)\" xlink:href=\"#DejaVuSans-86\"/>\r\n",
       "     <use transform=\"translate(485.449219 0.015625)\" xlink:href=\"#DejaVuSans-68\"/>\r\n",
       "     <use transform=\"translate(562.451172 0.015625)\" xlink:href=\"#DejaVuSans-67\"/>\r\n",
       "     <use transform=\"translate(632.275391 0.015625)\" xlink:href=\"#DejaVuSans-32\"/>\r\n",
       "     <use transform=\"translate(664.0625 0.015625)\" xlink:href=\"#DejaVuSans-40\"/>\r\n",
       "     <use transform=\"translate(703.076172 0.015625)\" xlink:href=\"#DejaVuSans-49\"/>\r\n",
       "     <use transform=\"translate(766.699219 0.015625)\" xlink:href=\"#DejaVuSans-48\"/>\r\n",
       "     <use transform=\"translate(830.322266 0.015625)\" xlink:href=\"#DejaVuSans-118\"/>\r\n",
       "     <use transform=\"translate(889.501953 0.015625)\" xlink:href=\"#DejaVuSans-41\"/>\r\n",
       "     <use transform=\"translate(928.515625 0.015625)\" xlink:href=\"#DejaVuSans-32\"/>\r\n",
       "     <use transform=\"translate(960.302734 0.015625)\" xlink:href=\"#DejaVuSans-45\"/>\r\n",
       "     <use transform=\"translate(996.386719 0.015625)\" xlink:href=\"#DejaVuSans-32\"/>\r\n",
       "     <use transform=\"translate(1028.173828 0.015625)\" xlink:href=\"#DejaVuSans-82\"/>\r\n",
       "     <use transform=\"translate(1097.65625 0.015625)\" xlink:href=\"#DejaVuSans-101\"/>\r\n",
       "     <use transform=\"translate(1159.179688 0.015625)\" xlink:href=\"#DejaVuSans-115\"/>\r\n",
       "     <use transform=\"translate(1211.279297 0.015625)\" xlink:href=\"#DejaVuSans-105\"/>\r\n",
       "     <use transform=\"translate(1239.0625 0.015625)\" xlink:href=\"#DejaVuSans-115\"/>\r\n",
       "     <use transform=\"translate(1291.162109 0.015625)\" xlink:href=\"#DejaVuSans-116\"/>\r\n",
       "     <use transform=\"translate(1330.371094 0.015625)\" xlink:href=\"#DejaVuSans-101\"/>\r\n",
       "     <use transform=\"translate(1391.894531 0.015625)\" xlink:href=\"#DejaVuSans-110\"/>\r\n",
       "     <use transform=\"translate(1455.273438 0.015625)\" xlink:href=\"#DejaVuSans-99\"/>\r\n",
       "     <use transform=\"translate(1510.253906 0.015625)\" xlink:href=\"#DejaVuSans-105\"/>\r\n",
       "     <use transform=\"translate(1538.037109 0.015625)\" xlink:href=\"#DejaVuSans-97\"/>\r\n",
       "     <use transform=\"translate(1599.316406 0.015625)\" xlink:href=\"#DejaVuSans-32\"/>\r\n",
       "     <use transform=\"translate(1631.103516 0.015625)\" xlink:href=\"#DejaVuSans-49\"/>\r\n",
       "     <use transform=\"translate(1694.726562 0.015625)\" xlink:href=\"#DejaVuSans-48\"/>\r\n",
       "     <use transform=\"translate(1758.349609 0.015625)\" xlink:href=\"#DejaVuSans-48\"/>\r\n",
       "     <use transform=\"translate(1854.443035 0.015625)\" xlink:href=\"#DejaVuSans-937\"/>\r\n",
       "    </g>\r\n",
       "   </g>\r\n",
       "  </g>\r\n",
       " </g>\r\n",
       " <defs>\r\n",
       "  <clipPath id=\"pf23b624f2c\">\r\n",
       "   <rect height=\"217.44\" width=\"334.8\" x=\"62.555781\" y=\"22.318125\"/>\r\n",
       "  </clipPath>\r\n",
       " </defs>\r\n",
       "</svg>\r\n"
      ],
      "text/plain": [
       "<Figure size 432x288 with 1 Axes>"
      ]
     },
     "metadata": {
      "needs_background": "light"
     },
     "output_type": "display_data"
    }
   ],
   "source": [
    "l = ltspice.Ltspice(\"files\\circuito_sencillo.raw\")\n",
    "l.parse()\n",
    "tiempo = l.get_time()\n",
    "voltaje = l.get_data('v1')\n",
    "corriente = l.get_data('I(V1)')\n",
    "\n",
    "import matplotlib.pyplot as plot\n",
    "fig, ax = plot.subplots()\n",
    "ax.set(xlabel='Voltaje (V)', ylabel='Intensidad (A)',\n",
    "       title='Circuito VDC ($\\mathrm{10v}$) - Resistencia $\\mathrm{100\\ \\Omega}$')\n",
    "ax.plot(voltaje, corriente)\n",
    "plot.show()\n"
   ]
  },
  {
   "cell_type": "code",
   "execution_count": 30,
   "metadata": {},
   "outputs": [],
   "source": [
    "# #################################################################\n",
    "#  ## Análisis de circuito con resistencias en serie\n",
    "# #################################################################\n"
   ]
  },
  {
   "cell_type": "markdown",
   "metadata": {},
   "source": [
    "  ## Análisis de circuito con resistencias en serie"
   ]
  },
  {
   "cell_type": "markdown",
   "metadata": {},
   "source": [
    " Vamos a resolver (en punto de operación) el siguiente circuito, que consta de 3 resistencias en serie de $\\mathrm{3k\\Omega}$, $\\mathrm{10k\\Omega}$ y $\\mathrm{5k\\Omega}$ respectivamente:\n",
    "\n",
    " ![](https://raw.githubusercontent.com/pammacdotnet/spicelab/master/resistencias%20en%20serie.svg?sanitize=true)\n",
    "\n",
    " Al igual que antes, grabamos el netlist en disco desde Jupyter con los datos representativos del circuito comentado. Para ello usamos la *palabra mágica* [`%writefile`](https://ipython.readthedocs.io/en/stable/interactive/magics.html#cellmagic-writefile). Más info [aquí](https://ipython.readthedocs.io/en/stable/interactive/magics.html#cellmagic-writefile)."
   ]
  },
  {
   "cell_type": "code",
   "execution_count": 31,
   "metadata": {},
   "outputs": [
    {
     "name": "stdout",
     "output_type": "stream",
     "text": [
      "Writing files\\resistencias_en_serie.net\n"
     ]
    }
   ],
   "source": [
    "%%writefile \"files\\resistencias_en_serie.net\"\n",
    "* circuito con tres resistencias en serie\n",
    "v1 1 0 type=vdc vdc=9\n",
    "R1 0 2 3k\n",
    "R2 2 3 10k  \n",
    "R3 3 1 5k\n",
    "* análisis del circuito\n",
    ".op\n",
    ".end\n"
   ]
  },
  {
   "cell_type": "markdown",
   "metadata": {},
   "source": [
    " Haciendo uso de la librería `Ahkab` procesamos el circuito que acabamos de definir."
   ]
  },
  {
   "cell_type": "code",
   "execution_count": 32,
   "metadata": {},
   "outputs": [],
   "source": [
    "circuito_y_análisis = ahkab.netlist_parser.parse_circuit(\n",
    "    'files\\\\resistencias_en_serie.net')\n"
   ]
  },
  {
   "cell_type": "markdown",
   "metadata": {},
   "source": [
    " El método `ahkab.netlist_parser.parse_circuit()` ha creado una lista en cuya primera posición se ha guardado la lista de componentes y sus conexiones, y en la segunda posición, la listas de analisis que se quieren realizar durante la simulación.\n",
    "\n",
    " Extraemos estos datos a sendas variables."
   ]
  },
  {
   "cell_type": "code",
   "execution_count": 33,
   "metadata": {},
   "outputs": [],
   "source": [
    "netlist = circuito_y_análisis[0]\n",
    "análisis_en_netlist = circuito_y_análisis[1]\n"
   ]
  },
  {
   "cell_type": "markdown",
   "metadata": {},
   "source": [
    " Ahora con el método `ahkab.netlist_parser.parse_analysis()` generamos una lista con las operaciones de analisis que se realizaran durante la simulación. Cada elemento de la lista contendrá el tipo de analisis a realizar (dc, tran, etc.) y los parametros con los que se realizará cada analisis."
   ]
  },
  {
   "cell_type": "code",
   "execution_count": 34,
   "metadata": {},
   "outputs": [
    {
     "name": "stdout",
     "output_type": "stream",
     "text": [
      "[{'type': 'op', 'guess': True, 'x0': None}]\n"
     ]
    }
   ],
   "source": [
    "lista_de_análisis = ahkab.netlist_parser.parse_analysis(\n",
    "    netlist, análisis_en_netlist)\n",
    "print(lista_de_análisis)\n"
   ]
  },
  {
   "cell_type": "markdown",
   "metadata": {},
   "source": [
    " Podemos usar lo que hemos definido durante el circuito anterior para añadir el archivo temporal `.tsv` si fuera necesario, aunque ahora no haría falta, puesto que no hemos establecido ningún analisis `.dc` ni `.tran`"
   ]
  },
  {
   "cell_type": "code",
   "execution_count": 35,
   "metadata": {},
   "outputs": [],
   "source": [
    "for analisis in [d for i, d in enumerate(lista_de_análisis) if \"dc\" in d.values() or \"tran\" in d.values()]:\n",
    "    analisis['outfile'] = files_directory + \"simulación_\" + analisis['type'] + \".tsv\"\n"
   ]
  },
  {
   "cell_type": "markdown",
   "metadata": {},
   "source": [
    " Ya tenemos lo necesario para ejecutar las simulaciones. Esto lo haremos usando el método `.run` de Ahkab"
   ]
  },
  {
   "cell_type": "code",
   "execution_count": 36,
   "metadata": {},
   "outputs": [
    {
     "name": "stdout",
     "output_type": "stream",
     "text": [
      "Starting op analysis:\n",
      "Calculating guess: skipped. (linear circuit)\n",
      "Solving...   done.\n",
      "Solving...   done.\n",
      "Difference check within margins.\n",
      "(Voltage: er=0.001, ea=1e-06, Current: er=0.001, ea=1e-09)\n"
     ]
    }
   ],
   "source": [
    "resultados = ahkab.run(netlist, lista_de_análisis)\n"
   ]
  },
  {
   "cell_type": "markdown",
   "metadata": {},
   "source": [
    " Imprimos los resultados del análisis `.op`:"
   ]
  },
  {
   "cell_type": "code",
   "execution_count": 37,
   "metadata": {},
   "outputs": [
    {
     "name": "stdout",
     "output_type": "stream",
     "text": [
      "OP simulation results for '* circuito con tres resistencias en serie'(netlist files\\resistencias_en_serie.net).\n",
      "Run on 2020-12-19 12:00:29, data file None.\n",
      "Variable    Units      Value     Error    %\n",
      "----------  -------  -------  --------  ---\n",
      "V1          V         9       -9e-12      0\n",
      "V2          V         1.5     -1.5e-12    0\n",
      "V3          V         6.5     -6.5e-12    0\n",
      "I(V1)       A        -0.0005   0          0\n"
     ]
    }
   ],
   "source": [
    "print(resultados['op'])\n"
   ]
  },
  {
   "cell_type": "markdown",
   "metadata": {},
   "source": [
    " Los valores `V1`, `V2` y `V3` representan la diferencia de potencial (V) que hay entre los bornes de las conexiones `1`, `2` y `3` definidas en el netlist y masa, que es el borne `0`, es decir, la conexión entre la pila y `R1`:\n",
    " >```spice\n",
    " v1 1 0 type=vdc vdc=9\n",
    " R1 0 2 3k\n",
    " R2 2 3 10k\n",
    " R3 3 1 5k\n",
    " ```\n",
    "\n",
    " * `V1` es la diferencia de potencial entre la conexión de la pila con `R3` y masa.\n",
    " * `V2` es la diferencia de potencial entre la conexión de `R1` con `R2` y masa.\n",
    " * `V3` es la diferencia de potencial entre la conexión de `R2` con `R3` y masa."
   ]
  },
  {
   "cell_type": "markdown",
   "metadata": {},
   "source": [
    " ### **Ejercicio**:\n",
    "\n",
    " Comprueba que podemos calcular el *potencial consumido* por la resistencia `R1` y verás que coincide con el del punto `V2` devuelto por Ahkab."
   ]
  },
  {
   "cell_type": "markdown",
   "metadata": {},
   "source": [
    " ### **Respuesta**:\n",
    "\n",
    " Huelga decir que la carga de dos resistencias en serie es la suma de sus cargas, por lo que podríamos tratar el circuito como si de dos resistencias en serie se tratara. Una sería `R1` $\\mathrm{(3k\\Omega)}$ y la otra la suma de `R2`+`R3` $(\\mathrm{10k\\Omega}+\\mathrm{5k\\Omega}=\\mathrm{15k\\Omega})$ y la carga total sería `R1`+`R2`+`R3` $(\\mathrm{3k\\Omega}+\\mathrm{10k\\Omega}+\\mathrm{5k\\Omega}=\\mathrm{18k\\Omega})$\n",
    "\n",
    " Si calculamos manualmente la corriente, sabiendo que tenemos una diferencia de potencial de $\\mathrm{9v}$ a los extremos de la pila, tenemos que:\n",
    " $$\\mathrm{V}=\\mathrm{R}\\cdot\\mathrm{I}$$\n",
    " $$\\mathrm{I}=\\frac{\\mathrm{V}}{\\mathrm{R}}=\\frac{\\mathrm{9v}}{\\mathrm{18k\\Omega}}=\\mathrm{0.5\\ mA}$$\n",
    " Que se corresponde con los $\\mathrm{0.0005\\ A}$ que nos ha devuelto `Ahkab` para `I(V1)`\n",
    "\n",
    " Puesto que las resistencias están en serie, el flujo de electrones en cada resistencia debe de ser el mismo, en concreto el equivalente a $\\mathrm{0.5\\ mA}$. Por tanto podemos calcular la caída de potencial en cada resistencia.\n",
    "\n",
    " $$\\mathrm{V_1}=\\mathrm{R_1}\\cdot\\mathrm{I}=\\mathrm{3k\\Omega}\\cdot\\mathrm{0.5\\ mA}=\\mathrm{1.5v}$$\n",
    " $$\\mathrm{V_2}=\\mathrm{R_2}\\cdot\\mathrm{I}=\\mathrm{10k\\Omega}\\cdot\\mathrm{0.5\\ mA}=\\mathrm{5v}$$\n",
    " $$\\mathrm{V_3}=\\mathrm{R_3}\\cdot\\mathrm{I}=\\mathrm{5k\\Omega}\\cdot\\mathrm{0.5\\ mA}=\\mathrm{2.5v}$$\n",
    "\n",
    " Como se puede observar, la suma de las caídas de potencial es exactamente la diferencia de potencial en los extremos de la pila, que también son los extremos de las tres resistencias.\n",
    " $$\\mathrm{V}=\\mathrm{V_1}+\\mathrm{V_2}+\\mathrm{V_3}=\\mathrm{1.5v}+\\mathrm{5v}+\\mathrm{2.5v}=\\mathrm{9v}$$"
   ]
  },
  {
   "cell_type": "markdown",
   "metadata": {},
   "source": [
    " #### Comprobemos si coincide lo que dice `Ahkab` y `V2` es $\\mathrm{1.5v}$.\n",
    "\n",
    " La suma de las caídas de potencial de las resistencias `R2`+`R3` es $\\mathrm{5v}+\\mathrm{2.5v}=\\mathrm{7.5v}$."
   ]
  },
  {
   "cell_type": "markdown",
   "metadata": {},
   "source": [
    " ### ¿Porque no coincide?\n",
    " Si nos fijamos bien en el netlist:\n",
    " >```spice\n",
    " v1 1 0 type=vdc vdc=9\n",
    " R1 0 2 3k\n",
    " R2 2 3 10k\n",
    " R3 3 1 5k\n",
    " ```\n",
    "\n",
    " Vemos que el orden en el que se han definido las resistencias es este:\n",
    "\n",
    " `+Vcc` )---**1**---( `R3` )---**3**---( `R2` )---**2**---( `R1` )---**0**---( `Gnd`\n",
    "\n",
    " Aquí el borne 2 tiene entre él y masa únicamente a `R1`. Según nuestros cálculos la caída de potencial en `R1` es de $=\\mathrm{1.5v}$ y si que coincide con lo que dice `Ahkab` para `V2`, que es $\\mathrm{1.5v}$"
   ]
  },
  {
   "cell_type": "markdown",
   "metadata": {},
   "source": [
    " ### Entonces, ¿Dónde está el error?\n",
    " Si observamos el esquema:\n",
    "\n",
    "  ![](https://raw.githubusercontent.com/pammacdotnet/spicelab/master/resistencias%20en%20serie.svg?sanitize=true)\n",
    "\n",
    " Primer fallo. No coincide el orden de las resistencias con el del netlist. El orden sería este:\n",
    "\n",
    "  `+Vcc` )---**1**---( `R1` )---**3**---( `R2` )---**2**---( `R3` )---**0**---( `Gnd`\n",
    "\n",
    " Pero ademas, para el cálculo hemos interpretado que entre el borne 2 y masa había dos resistencias, por lo que el orden correcto de las resistencias y de las conexiones para que se ajuste a los cálculos sería este:\n",
    "\n",
    "  `+Vcc` )---**1**---( `R1` )---**2**---( `R2` )---**3**---( `R3` )---**0**---( `Gnd`"
   ]
  },
  {
   "cell_type": "markdown",
   "metadata": {},
   "source": [
    " ### Vamos a comprobarlo\n",
    "\n",
    " Volvemos a definir el netlist, esta vez para el orden coincida con los cálculos que hemos realizado.\n",
    "\n",
    " `v1` )---**1**---( `R1` )---**2**---( `R2` )---**3**---( `R3` )---**0**---( `v1`\n",
    " >```spice\n",
    " v1 1 0 type=vdc vdc=9\n",
    " R1 1 2 3k\n",
    " R2 2 3 10k\n",
    " R3 3 0 5k\n",
    " ```"
   ]
  },
  {
   "cell_type": "code",
   "execution_count": 38,
   "metadata": {},
   "outputs": [
    {
     "name": "stdout",
     "output_type": "stream",
     "text": [
      "Overwriting files\\resistencias_en_serie.net\n"
     ]
    }
   ],
   "source": [
    "%%writefile \"files\\resistencias_en_serie.net\"\n",
    "* circuito con tres resistencias en serie\n",
    "v1 1 0 type=vdc vdc=9 \n",
    "R1 1 2 3k  \n",
    "R2 2 3 10k    \n",
    "R3 3 0 5k  \n",
    "* análisis del circuito\n",
    ".op\n",
    ".end\n"
   ]
  },
  {
   "cell_type": "markdown",
   "metadata": {},
   "source": [
    " Volvemos a procesar el circuito con `Ahkab` y extraemos los datos."
   ]
  },
  {
   "cell_type": "code",
   "execution_count": 39,
   "metadata": {},
   "outputs": [],
   "source": [
    "# Procesar circuito\n",
    "circuito_y_análisis = ahkab.netlist_parser.parse_circuit(\n",
    "    'files\\\\resistencias_en_serie.net')\n",
    "# Separar datos netlist y simulaciones\n",
    "netlist = circuito_y_análisis[0]\n",
    "análisis_en_netlist = circuito_y_análisis[1]\n",
    "# Extraer datos de simulaciones\n",
    "lista_de_análisis = ahkab.netlist_parser.parse_analysis(netlist, análisis_en_netlist)\n",
    "# Establecer condiciones óptimas para los ánalisis `.dc` y/o `.tran` si lo hay.\n",
    "for analisis in [d for i, d in enumerate(lista_de_análisis) if \"dc\" in d.values() or \"tran\" in d.values()]:\n",
    "    analisis['outfile'] = files_directory + \"simulación_\" + analisis['type'] + \".tsv\"\n",
    "\n"
   ]
  },
  {
   "cell_type": "markdown",
   "metadata": {},
   "source": [
    " Ejecutamos las simulaciones para el nuevo circuito y mostramos el resultado de la simulación `.op`."
   ]
  },
  {
   "cell_type": "code",
   "execution_count": 40,
   "metadata": {},
   "outputs": [
    {
     "name": "stdout",
     "output_type": "stream",
     "text": [
      "Starting op analysis:\n",
      "Calculating guess: skipped. (linear circuit)\n",
      "Solving...   done.\n",
      "Solving...   done.\n",
      "Difference check within margins.\n",
      "(Voltage: er=0.001, ea=1e-06, Current: er=0.001, ea=1e-09)\n",
      "OP simulation results for '* circuito con tres resistencias en serie'(netlist files\\resistencias_en_serie.net).\n",
      "Run on 2020-12-19 12:00:29, data file None.\n",
      "Variable    Units      Value     Error    %\n",
      "----------  -------  -------  --------  ---\n",
      "V1          V         9       -9e-12      0\n",
      "V2          V         7.5     -7.5e-12    0\n",
      "V3          V         2.5     -2.5e-12    0\n",
      "I(V1)       A        -0.0005   0          0\n"
     ]
    }
   ],
   "source": [
    "resultados = ahkab.run(netlist, lista_de_análisis)\n",
    "print(resultados['op'])\n"
   ]
  },
  {
   "cell_type": "markdown",
   "metadata": {},
   "source": [
    " ### FANTÁSTICO !!!\n",
    " Ahora si coinciden los resultados. Podemos ver que `V2` corresponde con la caída cálculada. Además, también V3 coincide con la caída cálcula para la R3 que era de $\\mathrm{2.5v}$"
   ]
  },
  {
   "cell_type": "markdown",
   "metadata": {},
   "source": [
    " ### Comprobamos con Sympy\n",
    " Comprobamos con Sympy que para la corriente obtenida de la simulación, una resistencia de $\\mathrm{3k\\Omega}$ provoca una caída de potencial de $\\mathrm{1.5v}$"
   ]
  },
  {
   "cell_type": "code",
   "execution_count": 41,
   "metadata": {},
   "outputs": [
    {
     "data": {
      "text/latex": [
       "$\\displaystyle - 1.5 \\text{V}$"
      ],
      "text/plain": [
       "-1.5*volt"
      ]
     },
     "execution_count": 41,
     "metadata": {},
     "output_type": "execute_result"
    }
   ],
   "source": [
    "r1 = 3E3*ohms\n",
    "int=resultados['op']['I(V1)']\n",
    "intensidad_ahkab = resultados['op']['I(V1)'][0][0]*amperes\n",
    "v2 = convert_to(intensidad_ahkab*r1, [volts])\n",
    "v2\n"
   ]
  },
  {
   "cell_type": "markdown",
   "metadata": {},
   "source": [
    " ### **Pregunta**:\n",
    "\n",
    " > Reproduce el resto de los valores anteriores de manera *manual* mediante Sympy (es decir, aplicando la ley de Ohm, pero con un *toque computacional*). Te pongo aquí un ejemplo del que puedes partir… En él sólo calculo la corriente que circula por el circuito (sí, justo la que antes Ahkab ha devuelto de manera automática). Para ello necesito previamente computar la resistencia total (`r_total`). Faltarían el resto de resultados y convertirlos a unidades más *vistosas* (mediante la orden `convert_to` y `.n()`)."
   ]
  },
  {
   "cell_type": "code",
   "execution_count": 42,
   "metadata": {},
   "outputs": [
    {
     "data": {
      "text/latex": [
       "$\\displaystyle 0.0005 \\text{A}$"
      ],
      "text/plain": [
       "0.0005*ampere"
      ]
     },
     "execution_count": 42,
     "metadata": {},
     "output_type": "execute_result"
    }
   ],
   "source": [
    "v1 = 9*volts\n",
    "r1 = 3*kilo*ohms\n",
    "r2 = 10*kilo*ohms\n",
    "r3 = 5*kilo*ohms\n",
    "r_total = r1 + r2 + r3\n",
    "intensidad = symbols('i')\n",
    "ley_ohm = Eq(v1, intensidad*r_total)\n",
    "solucion_para_intensidad = solve(ley_ohm, intensidad)\n",
    "convert_to(solucion_para_intensidad[0], [amperes]).n(2)\n"
   ]
  },
  {
   "cell_type": "markdown",
   "metadata": {},
   "source": [
    " ### **Respuesta**:\n",
    " Supondrémos el orden de las resistencias igual que el del circuito del esquema, es decir, igual que el de los cálculos que hemos hecho a mano."
   ]
  },
  {
   "cell_type": "code",
   "execution_count": 43,
   "metadata": {},
   "outputs": [
    {
     "name": "stdout",
     "output_type": "stream",
     "text": [
      "Voltaje entre extremos de R1:\n"
     ]
    },
    {
     "data": {
      "text/latex": [
       "$\\displaystyle 1.5 \\text{V}$"
      ],
      "text/plain": [
       "1.5*volt"
      ]
     },
     "execution_count": 43,
     "metadata": {},
     "output_type": "execute_result"
    }
   ],
   "source": [
    "print(\"Voltaje entre extremos de R1:\")\n",
    "voltaje = symbols('v')\n",
    "ley_ohm = Eq(voltaje, solucion_para_intensidad[0]*r1)\n",
    "solucion_para_voltaje_R1 = solve(ley_ohm, voltaje)\n",
    "convert_to(solucion_para_voltaje_R1[0], [volts]).n(2)\n"
   ]
  },
  {
   "cell_type": "code",
   "execution_count": 44,
   "metadata": {},
   "outputs": [
    {
     "name": "stdout",
     "output_type": "stream",
     "text": [
      "Voltaje entre extremos de R2:\n"
     ]
    },
    {
     "data": {
      "text/latex": [
       "$\\displaystyle 5.0 \\text{V}$"
      ],
      "text/plain": [
       "5.0*volt"
      ]
     },
     "execution_count": 44,
     "metadata": {},
     "output_type": "execute_result"
    }
   ],
   "source": [
    "print(\"Voltaje entre extremos de R2:\")\n",
    "voltaje = symbols('v')\n",
    "ley_ohm = Eq(voltaje, solucion_para_intensidad[0]*r2)\n",
    "solucion_para_voltaje_R2 = solve(ley_ohm, voltaje)\n",
    "convert_to(solucion_para_voltaje_R2[0], [volts]).n(2)\n"
   ]
  },
  {
   "cell_type": "code",
   "execution_count": 45,
   "metadata": {},
   "outputs": [
    {
     "name": "stdout",
     "output_type": "stream",
     "text": [
      "Voltaje entre extremos de R3:\n"
     ]
    },
    {
     "data": {
      "text/latex": [
       "$\\displaystyle 2.5 \\text{V}$"
      ],
      "text/plain": [
       "2.5*volt"
      ]
     },
     "execution_count": 45,
     "metadata": {},
     "output_type": "execute_result"
    }
   ],
   "source": [
    "print(\"Voltaje entre extremos de R3:\")\n",
    "voltaje = symbols('v')\n",
    "ley_ohm = Eq(voltaje, solucion_para_intensidad[0]*r3)\n",
    "solucion_para_voltaje_R3 = solve(ley_ohm, voltaje)\n",
    "convert_to(solucion_para_voltaje_R3[0], [volts]).n(2)\n"
   ]
  },
  {
   "cell_type": "code",
   "execution_count": 46,
   "metadata": {},
   "outputs": [
    {
     "name": "stdout",
     "output_type": "stream",
     "text": [
      "Voltaje entre conexión R1-R2 y masa:\n"
     ]
    },
    {
     "data": {
      "text/latex": [
       "$\\displaystyle 7.5 \\text{V}$"
      ],
      "text/plain": [
       "7.5*volt"
      ]
     },
     "execution_count": 46,
     "metadata": {},
     "output_type": "execute_result"
    }
   ],
   "source": [
    "print(\"Voltaje entre conexión R1-R2 y masa:\")\n",
    "voltaje = symbols('v')\n",
    "ley_ohm = Eq(voltaje, solucion_para_intensidad[0]*(r2+r3))\n",
    "solucion_para_voltaje_R2_masa = solve(ley_ohm, voltaje)\n",
    "convert_to(solucion_para_voltaje_R2_masa[0], [volts]).n(2)\n"
   ]
  },
  {
   "cell_type": "code",
   "execution_count": 47,
   "metadata": {},
   "outputs": [
    {
     "name": "stdout",
     "output_type": "stream",
     "text": [
      "Voltaje entre VCC y conexión R2-R3:\n"
     ]
    },
    {
     "data": {
      "text/latex": [
       "$\\displaystyle 6.5 \\text{V}$"
      ],
      "text/plain": [
       "6.5*volt"
      ]
     },
     "execution_count": 47,
     "metadata": {},
     "output_type": "execute_result"
    }
   ],
   "source": [
    "print(\"Voltaje entre VCC y conexión R2-R3:\")\n",
    "voltaje = symbols('v')\n",
    "ley_ohm = Eq(voltaje, solucion_para_intensidad[0]*(r1+r2))\n",
    "solucion_para_voltaje_VCC_R3 = solve(ley_ohm, voltaje)\n",
    "convert_to(solucion_para_voltaje_VCC_R3[0], [volts]).n(2)\n"
   ]
  },
  {
   "cell_type": "markdown",
   "metadata": {},
   "source": [
    " ### **Pregunta**:\n",
    " > Demuestra que se cumple la Ley de Kirchhoff de la energía en un circuito, es decir, que la suma de la energía suministrada por las fuentes (pilas) es igual a la consumida por las resistencias. Realiza la operación con Sympy.\n",
    "\n",
    " > $$\n",
    " \\sum_i^N V_{\\text{fuentes}} = \\sum_j^M V_{\\text{consumido en resistencias}}\n",
    " > $$\n",
    " > Ten en cuenta que en este caso sólo hay una fuente."
   ]
  },
  {
   "cell_type": "markdown",
   "metadata": {},
   "source": [
    " ### **Respuesta**:\n",
    " Vaya, parece que nos adelantado a este punto, la respuesta a esto esta en el apartado anterior. Podemos comprovar que la suma de los voltajes en cada resistencia es igual al voltaje suministrado por la pila."
   ]
  },
  {
   "cell_type": "code",
   "execution_count": 48,
   "metadata": {},
   "outputs": [
    {
     "name": "stdout",
     "output_type": "stream",
     "text": [
      "Suma de los voltajes de cada resistencia:\n"
     ]
    },
    {
     "data": {
      "text/latex": [
       "$\\displaystyle 9.0 \\text{V}$"
      ],
      "text/plain": [
       "9.0*volt"
      ]
     },
     "execution_count": 48,
     "metadata": {},
     "output_type": "execute_result"
    }
   ],
   "source": [
    "print(\"Suma de los voltajes de cada resistencia:\")\n",
    "voltaje_resistencias = solucion_para_voltaje_R1[0] + solucion_para_voltaje_R2[0] + solucion_para_voltaje_R3[0]\n",
    "convert_to(voltaje_resistencias, [volts]).n(2)\n"
   ]
  },
  {
   "cell_type": "markdown",
   "metadata": {},
   "source": [
    " ## Análisis `.op` de circuitos con resistencias en paralelo\n",
    "\n",
    " Vamos a complicar un poco el trabajo añadiendo elementos en paralelo.\n",
    "\n",
    "  > **Pregunta**: realiza los análisis `.op` de los siguientes circuitos.\n",
    "  Para ello crea un netlist separado para cada uno donde queden correctamente descritos\n",
    "  junto con la simulación (`.op`). Comenta los resultados que devuelve Ahkab (no imprimas los resultados de las simulaciones *sin más*).\n",
    "\n",
    "  ![](https://raw.githubusercontent.com/pammacdotnet/spicelab/master/resistencias%20en%20paralelo.svg?sanitize=true)\n",
    "\n",
    "  Aquí tienes el análisis del primer circuito, para que sirva de ejemplo:"
   ]
  },
  {
   "cell_type": "markdown",
   "metadata": {},
   "source": [
    " ### **Análisis del primer circuito**\n",
    "\n",
    "  ![](https://raw.githubusercontent.com/tikissmikiss/Laboratorio-LTspice/master/resource/Circuito_paralelo_1_lab_fisica.svg?sanitize=true)\n",
    "\n",
    " Definimos el netlist del primer circuito paralero."
   ]
  },
  {
   "cell_type": "code",
   "execution_count": 49,
   "metadata": {},
   "outputs": [
    {
     "name": "stdout",
     "output_type": "stream",
     "text": [
      "Writing files\\resistencias_en_paralelo_1.cir\n"
     ]
    }
   ],
   "source": [
    "%%writefile \"files\\resistencias_en_paralelo_1.cir\"\n",
    "* resistencias en paralelo\n",
    "vdd 0 1 vdc=12 type=vdc\n",
    "r2 1 2 1k\n",
    "r3 2 3 220\n",
    "r4 3 0 1.5k\n",
    "r5 2 0 470\n",
    ".op\n",
    ".end\n"
   ]
  },
  {
   "cell_type": "markdown",
   "metadata": {},
   "source": [
    " Procesamos el circuito con `Ahkab` y extraemos los datos."
   ]
  },
  {
   "cell_type": "code",
   "execution_count": 50,
   "metadata": {},
   "outputs": [
    {
     "name": "stdout",
     "output_type": "stream",
     "text": [
      "Starting op analysis:\n",
      "Calculating guess: skipped. (linear circuit)\n",
      "Solving...   done.\n",
      "Solving...   done.\n",
      "Difference check within margins.\n",
      "(Voltage: er=0.001, ea=1e-06, Current: er=0.001, ea=1e-09)\n"
     ]
    }
   ],
   "source": [
    "# Procesar circuito\n",
    "circuito_y_análisis = ahkab.netlist_parser.parse_circuit(\n",
    "    'files\\\\resistencias_en_paralelo_1.cir')\n",
    "# Separar datos netlist y simulaciones\n",
    "netlist = circuito_y_análisis[0]\n",
    "análisis_en_netlist = circuito_y_análisis[1]\n",
    "# Extraer datos de simulaciones\n",
    "lista_de_análisis = ahkab.netlist_parser.parse_analysis(\n",
    "    netlist, análisis_en_netlist)\n",
    "resultados = ahkab.run(netlist, lista_de_análisis)\n",
    "# Establecer condiciones óptimas para los ánalisis `.dc` y/o `.tran` si lo hay.\n",
    "for analisis in [d for i, d in enumerate(lista_de_análisis) if \"dc\" in d.values() or \"tran\" in d.values()]:\n",
    "    analisis['outfile'] = files_directory + \"simulación_\" + analisis['type'] + \".tsv\"\n"
   ]
  },
  {
   "cell_type": "markdown",
   "metadata": {},
   "source": [
    " Imprimimos los resultados del análisis `.op`. Como puedes comprobar, Ahkab sólo reporta la intensidad de corriente en las ramas en las que hay una pila (en este caso, la rama donde está la pila `VDD`)."
   ]
  },
  {
   "cell_type": "code",
   "execution_count": 51,
   "metadata": {},
   "outputs": [
    {
     "name": "stdout",
     "output_type": "stream",
     "text": [
      "OP simulation results for '* resistencias en paralelo'(netlist files\\resistencias_en_paralelo_1.cir).\n",
      "Run on 2020-12-19 12:00:31, data file None.\n",
      "Variable    Units           Value        Error    %\n",
      "----------  -------  ------------  -----------  ---\n",
      "V1          V        -12           1.2e-11        0\n",
      "V2          V         -3.23533     3.23532e-12    0\n",
      "V3          V         -2.8215      2.82151e-12    0\n",
      "I(VDD)      A         -0.00876467  0              0\n"
     ]
    }
   ],
   "source": [
    "print(resultados['op'])\n"
   ]
  },
  {
   "cell_type": "markdown",
   "metadata": {},
   "source": [
    " ### **Pregunta:**\n",
    "\n",
    " > Inserta dos *pilas virtuales* de 0 voltios en el resto de ramas del circuito (`Vdummy1` en la rama donde está `R5` y `Vdummy2` en la rama donde está `R3` y `R4`) para que Ahkab nos imprima también la corriente en las mismas. Es muy parecido al tercer circuito que tienes que resolver, donde `V1`, `V2` y `V3` tienen cero voltios. Estas *pilas nulas* son, a todos los efectos, *simples cables*. Una vez que ya tienes las corrientes en todas las ramas, comprueba que se cumple la Ley de Kirchhoff para las corrientes:\n",
    "\n",
    " > $$\n",
    " I_{\\text{entrante}} = \\sum_i^{N} I_{\\text{salientes}}\n",
    " > $$\n",
    "\n",
    " > Repite lo mismo para los otros dos circuitos. Realiza además los cálculos con Sympy (recalcula los mismos voltajes que devuelve Ahkab a partir de la corriente que sí te devuelve la simulación) y cuidando de no olvidar las unidades. Recuerda que el objeto `resultados` alberga toda la información que necesitas de manera indexada. Ya han aparecido un ejemplo más arriba. Es decir: no *copies* los números *a mano*, trabaja de manera informáticamente elegante (usando la variable `resultados`)."
   ]
  },
  {
   "cell_type": "markdown",
   "metadata": {},
   "source": [
    " ### **Respuesta**\n",
    " Definimos el netlist con las dos pilas de $\\mathrm{0v}$"
   ]
  },
  {
   "cell_type": "code",
   "execution_count": 52,
   "metadata": {},
   "outputs": [
    {
     "name": "stdout",
     "output_type": "stream",
     "text": [
      "Overwriting files\\resistencias_en_paralelo_1.cir\n"
     ]
    }
   ],
   "source": [
    "%%writefile \"files\\resistencias_en_paralelo_1.cir\"\n",
    "* resistencias en paralelo\n",
    "vdd 1 0 vdc=12 type=vdc\n",
    "Vdummy1 4 0 vdc=0 type=vdc\n",
    "Vdummy2 5 0 vdc=0 type=vdc\n",
    "r2 1 2 1k\n",
    "r3 2 3 220\n",
    "r4 3 5 1.5k\n",
    "r5 2 4 470\n",
    ".op\n",
    ".end\n"
   ]
  },
  {
   "cell_type": "markdown",
   "metadata": {},
   "source": [
    " Procesamos el circuito con `Ahkab` y extraemos los datos."
   ]
  },
  {
   "cell_type": "code",
   "execution_count": 53,
   "metadata": {},
   "outputs": [
    {
     "name": "stdout",
     "output_type": "stream",
     "text": [
      "Starting op analysis:\n",
      "Calculating guess: skipped. (linear circuit)\n",
      "Solving...   done.\n",
      "Solving...   done.\n",
      "Difference check within margins.\n",
      "(Voltage: er=0.001, ea=1e-06, Current: er=0.001, ea=1e-09)\n"
     ]
    }
   ],
   "source": [
    "# Procesar circuito\n",
    "circuito_y_análisis = ahkab.netlist_parser.parse_circuit(\n",
    "    'files\\\\resistencias_en_paralelo_1.cir')\n",
    "# Separar datos netlist y simulaciones\n",
    "netlist = circuito_y_análisis[0]\n",
    "análisis_en_netlist = circuito_y_análisis[1]\n",
    "# Extraer datos de simulaciones\n",
    "lista_de_análisis = ahkab.netlist_parser.parse_analysis(\n",
    "    netlist, análisis_en_netlist)\n",
    "resultados = ahkab.run(netlist, lista_de_análisis)\n",
    "# Establecer condiciones óptimas para los ánalisis `.dc` y/o `.tran` si lo hay.\n",
    "for analisis in [d for i, d in enumerate(lista_de_análisis) if \"dc\" in d.values() or \"tran\" in d.values()]:\n",
    "    analisis['outfile'] = files_directory + \"simulación_\" + analisis['type'] + \".tsv\"\n"
   ]
  },
  {
   "cell_type": "markdown",
   "metadata": {},
   "source": [
    " Imprimimos los resultados del análisis `.op`."
   ]
  },
  {
   "cell_type": "code",
   "execution_count": 54,
   "metadata": {},
   "outputs": [
    {
     "name": "stdout",
     "output_type": "stream",
     "text": [
      "OP simulation results for '* resistencias en paralelo'(netlist files\\resistencias_en_paralelo_1.cir).\n",
      "Run on 2020-12-19 12:00:31, data file None.\n",
      "Variable    Units          Value         Error    %\n",
      "----------  -------  -----------  ------------  ---\n",
      "V1          V        12           -1.2e-11        0\n",
      "V4          V         0           -8.67362e-19    0\n",
      "V5          V         0            0              0\n",
      "V2          V         3.23533     -3.23532e-12    0\n",
      "V3          V         2.8215      -2.82151e-12    0\n",
      "I(VDD)      A        -0.00876467   0              0\n",
      "I(VDUMMY1)  A         0.00688367   0              0\n",
      "I(VDUMMY2)  A         0.001881     0              0\n"
     ]
    }
   ],
   "source": [
    "print(resultados['op'])\n"
   ]
  },
  {
   "cell_type": "markdown",
   "metadata": {},
   "source": [
    " Como podemos ver la suma de las corrientes de las pilas dummy es igual a la corriente total. Comprobemoslos.\n",
    "\n",
    " La corriente total es:"
   ]
  },
  {
   "cell_type": "code",
   "execution_count": 55,
   "metadata": {},
   "outputs": [
    {
     "data": {
      "text/latex": [
       "$\\displaystyle - 0.0087647 \\text{A}$"
      ],
      "text/plain": [
       "-0.0087647*ampere"
      ]
     },
     "execution_count": 55,
     "metadata": {},
     "output_type": "execute_result"
    }
   ],
   "source": [
    "intensidad = resultados['op'].results._dict['I(VDD)']*amperes\n",
    "convert_to(intensidad, [amperes]).n(5)\n"
   ]
  },
  {
   "cell_type": "markdown",
   "metadata": {},
   "source": [
    " La suma de las corrientes de la pilas dummy es:"
   ]
  },
  {
   "cell_type": "code",
   "execution_count": 56,
   "metadata": {},
   "outputs": [
    {
     "data": {
      "text/latex": [
       "$\\displaystyle 0.0087647 \\text{A}$"
      ],
      "text/plain": [
       "0.0087647*ampere"
      ]
     },
     "execution_count": 56,
     "metadata": {},
     "output_type": "execute_result"
    }
   ],
   "source": [
    "intensidad_dummy1 = resultados['op'].results._dict['I(VDUMMY1)']*amperes\n",
    "intensidad_dummy2 = resultados['op'].results._dict['I(VDUMMY2)']*amperes\n",
    "convert_to(intensidad_dummy1+intensidad_dummy2, [amperes]).n(5)\n"
   ]
  },
  {
   "cell_type": "markdown",
   "metadata": {},
   "source": [
    " GENIAL !!! Se cumple la Ley de Kirchhoff"
   ]
  },
  {
   "cell_type": "markdown",
   "metadata": {},
   "source": [
    " ### Comprobemos el resultado de `Ahkab` con Sympy\n",
    " Ahora tenemos resistencias en paralelo, por lo que ya no podemos sumar sus resistencias para aberiguar la resistencia total del circuito.\n",
    "\n",
    " ¿Como afecta la carga resistiva de dos resistencias en paralelo a la carga total?\n",
    "\n",
    " Antes de responder a esta pregunta calculemos la resistencia total con los datos de los que disponemos.\n",
    "\n",
    " Nótese que no existen resistencias negativas, ya que son componentes pasivos. Puesto que `Ahkab` nos esta dando la corriente en negativo, le invertimos el signo para que la resistencia resulte positiva."
   ]
  },
  {
   "cell_type": "code",
   "execution_count": 57,
   "metadata": {},
   "outputs": [
    {
     "data": {
      "text/latex": [
       "$\\displaystyle 1369.1 \\Omega$"
      ],
      "text/plain": [
       "1369.1*ohm"
      ]
     },
     "execution_count": 57,
     "metadata": {},
     "output_type": "execute_result"
    }
   ],
   "source": [
    "v1 = 12*volts\n",
    "r2 = 1*kilo*ohms\n",
    "r3 = 220*ohms\n",
    "r4 = 1.5*kilo*ohms\n",
    "r5 = 470*ohms\n",
    "intensidad = -resultados['op'].results._dict['I(VDD)']*amperes \n",
    "resistencia = symbols('r')\n",
    "ley_ohm = Eq(v1, intensidad*resistencia)\n",
    "resistencia_total = solve(ley_ohm, resistencia)\n",
    "convert_to(resistencia_total[0], [ohms]).n(5)\n"
   ]
  },
  {
   "cell_type": "markdown",
   "metadata": {},
   "source": [
    " Como ya sebemos, la resistencia total de cargas en serie es la suma de sus resistencias. Ahora que conocemos la resistencia total, la resistencia equivalente de las dos mallas formadas por `R3`, `R4` y `R5`, solo puede ser la resistencia total menos la resistencia de `R2`"
   ]
  },
  {
   "cell_type": "code",
   "execution_count": 58,
   "metadata": {},
   "outputs": [
    {
     "data": {
      "text/latex": [
       "$\\displaystyle 369.13 \\Omega$"
      ],
      "text/plain": [
       "369.13*ohm"
      ]
     },
     "execution_count": 58,
     "metadata": {},
     "output_type": "execute_result"
    }
   ],
   "source": [
    "r_subcircuito = resistencia_total[0] - r2\n",
    "convert_to(r_subcircuito, [ohms]).n(5)\n"
   ]
  },
  {
   "cell_type": "markdown",
   "metadata": {},
   "source": [
    " Gracias a `Ahkab` conocemos la corriente total y también el voltaje en el borne 2. Comprobemos con estos datos que la resistencia que acabamos de obtener es correcta."
   ]
  },
  {
   "cell_type": "code",
   "execution_count": 59,
   "metadata": {},
   "outputs": [
    {
     "data": {
      "text/latex": [
       "$\\displaystyle 369.13 \\Omega$"
      ],
      "text/plain": [
       "369.13*ohm"
      ]
     },
     "execution_count": 59,
     "metadata": {},
     "output_type": "execute_result"
    }
   ],
   "source": [
    "v = resultados['op'].results._dict['V2']*volts\n",
    "i = -resultados['op'].results._dict['I(VDD)']*amperes \n",
    "resistencia = symbols('r')\n",
    "ley_ohm = Eq(v, i*resistencia)\n",
    "r_subcircuito = solve(ley_ohm, resistencia)\n",
    "convert_to(r_subcircuito[0], [ohms]).n(5)\n"
   ]
  },
  {
   "cell_type": "markdown",
   "metadata": {},
   "source": [
    " Conocemos la resistencia de cada maya, ya que una es `R5` y la otra `R3`+`R4`. Esto es $R_{m1}=\\mathrm{470\\ \\Omega}$ y $R_{m2}=\\mathrm{1720\\ \\Omega}$, pero la la resistencia equivalente es inferior a la de cualquiera de las dos mallas. ¿Porque? ¿Que está pasando?\n",
    "\n",
    " Veámoslo con números mas redondos. Supongamos que una pila de $\\mathrm{10\\ v}$ aporta una corriente de $\\mathrm{1\\ A}$ a un circuito con dos cargas en paralelo, de las que no conocemos sus resistencias, pero sabemos que son iguales.\n",
    "\n",
    " La resistencia equivalente sería $\\frac{\\mathrm{10\\ v}}{\\mathrm{1\\ A}}=\\mathrm{10\\ \\Omega}$\n",
    "\n",
    " Para que se cumpla la Ley de Kirchhoff, por cada rama deben circular $\\mathrm{0.5\\ A}$, por tanto la resistencias serán de $\\mathrm{20\\ \\Omega}$\n",
    "\n",
    " Vaya!!! la resistencia equivalente es justo la mitad del valor de las resistencias si esta son iguales. Esto es porque para que se cumpla la Ley de Kirchhoff, el flujo de electrones se tiene que repartir entre cada malla proporcionalmente a su resistencia, y como ya hemos visto por la ley de Ohm, esto sucede con una proporcionalidad lineal. Por lo que la inversa de la resistencia equivalente sera igual a la suma de las inversas de cada malla.\n",
    "\n",
    " Comprobemos esto con los datos que tenemos del circuito."
   ]
  },
  {
   "cell_type": "code",
   "execution_count": 60,
   "metadata": {},
   "outputs": [
    {
     "data": {
      "text/latex": [
       "$\\displaystyle 369.13 \\Omega$"
      ],
      "text/plain": [
       "369.13*ohm"
      ]
     },
     "execution_count": 60,
     "metadata": {},
     "output_type": "execute_result"
    }
   ],
   "source": [
    "inv_malla1 = 1/r5\n",
    "inv_malla2 = 1/(r3+r4)\n",
    "equiv = symbols('equiv')\n",
    "equiv = solve(1/equiv-inv_malla1-inv_malla2, equiv)\n",
    "convert_to(equiv[0], [ohms]).n(5)\n"
   ]
  },
  {
   "cell_type": "markdown",
   "metadata": {},
   "source": [
    " Nos falta por comprobar los voltajes de cada nodo."
   ]
  },
  {
   "cell_type": "code",
   "execution_count": 61,
   "metadata": {},
   "outputs": [
    {
     "name": "stdout",
     "output_type": "stream",
     "text": [
      "Voltaje en el nodo 2:\n"
     ]
    },
    {
     "data": {
      "text/latex": [
       "$\\displaystyle 3.24 \\text{V}$"
      ],
      "text/plain": [
       "3.24*volt"
      ]
     },
     "execution_count": 61,
     "metadata": {},
     "output_type": "execute_result"
    }
   ],
   "source": [
    "print(\"Voltaje en el nodo 2:\")\n",
    "v = symbols('v')\n",
    "intensidad = -resultados['op'].results._dict['I(VDD)']*amperes \n",
    "ley_ohm = Eq(v, intensidad*equiv[0])\n",
    "voltaje_V2 = solve(ley_ohm, v)\n",
    "convert_to(voltaje_V2[0], [volts]).n(3)\n"
   ]
  },
  {
   "cell_type": "code",
   "execution_count": 62,
   "metadata": {},
   "outputs": [
    {
     "name": "stdout",
     "output_type": "stream",
     "text": [
      "Voltaje en el nodo 3:\n"
     ]
    },
    {
     "data": {
      "text/latex": [
       "$\\displaystyle 2.82 \\text{V}$"
      ],
      "text/plain": [
       "2.82*volt"
      ]
     },
     "execution_count": 62,
     "metadata": {},
     "output_type": "execute_result"
    }
   ],
   "source": [
    "print(\"Voltaje en el nodo 3:\")\n",
    "v = symbols('v')\n",
    "ley_ohm = Eq(v, intensidad_dummy2*r4)\n",
    "voltaje_V3 = solve(ley_ohm, v)\n",
    "convert_to(voltaje_V3[0], [volts]).n(3)\n",
    "\n",
    "\n",
    "\n",
    "\n",
    "\n",
    "\n",
    "\n",
    "\n",
    "\n",
    "\n",
    "\n",
    "\n",
    "\n",
    "\n",
    "\n",
    "\n",
    "\n",
    "\n",
    "\n",
    "\n",
    "\n",
    "\n",
    "\n"
   ]
  },
  {
   "cell_type": "code",
   "execution_count": 63,
   "metadata": {},
   "outputs": [],
   "source": [
    "# ###############################################################\n",
    "# Circuito paralelo 2\n",
    "# ###############################################################\n"
   ]
  },
  {
   "cell_type": "markdown",
   "metadata": {},
   "source": [
    " ### **Análisis del segundo circuito**\n",
    "\n",
    "  ![](https://raw.githubusercontent.com/tikissmikiss/Laboratorio-LTspice/master/resource/Circuito_paralelo_2_lab_fisica.svg?sanitize=true)\n",
    "\n",
    " Definimos el netlist del segundo circuito paralero. Nos adelantamos y colocamos una pila de $\\mathrm{0\\ v}$ en la malla de las tres resistencias en serie."
   ]
  },
  {
   "cell_type": "code",
   "execution_count": 64,
   "metadata": {},
   "outputs": [
    {
     "name": "stdout",
     "output_type": "stream",
     "text": [
      "Writing files\\resistencias_en_paralelo_2.cir\n"
     ]
    }
   ],
   "source": [
    "%%writefile \"files\\resistencias_en_paralelo_2.cir\"\n",
    "* resistencias en paralelo\n",
    "v1 1 0 vdc=9 type=vdc\n",
    "v2 4 0 vdc=1.5 type=vdc\n",
    "vdummy 6 0 vdc=0 type=vdc\n",
    "r1 1 2 47\n",
    "r2 2 3 220\n",
    "r3 2 4 180\n",
    "r4 3 5 1k\n",
    "r5 5 6 560\n",
    ".op\n",
    ".end\n"
   ]
  },
  {
   "cell_type": "markdown",
   "metadata": {},
   "source": [
    " Procesamos el circuito con `Ahkab` y extraemos los datos."
   ]
  },
  {
   "cell_type": "code",
   "execution_count": 65,
   "metadata": {},
   "outputs": [
    {
     "name": "stdout",
     "output_type": "stream",
     "text": [
      "Starting op analysis:\n",
      "Calculating guess: skipped. (linear circuit)\n",
      "Solving...   done.\n",
      "Solving...   done.\n",
      "Difference check within margins.\n",
      "(Voltage: er=0.001, ea=1e-06, Current: er=0.001, ea=1e-09)\n"
     ]
    }
   ],
   "source": [
    "# Procesar circuito\n",
    "circuito_y_análisis = ahkab.netlist_parser.parse_circuit(\n",
    "    'files\\\\resistencias_en_paralelo_2.cir')\n",
    "# Separar datos netlist y simulaciones\n",
    "netlist = circuito_y_análisis[0]\n",
    "análisis_en_netlist = circuito_y_análisis[1]\n",
    "# Extraer datos de simulaciones\n",
    "lista_de_análisis = ahkab.netlist_parser.parse_analysis(\n",
    "    netlist, análisis_en_netlist)\n",
    "resultados = ahkab.run(netlist, lista_de_análisis)\n",
    "# Establecer condiciones óptimas para los ánalisis `.dc` y/o `.tran` si lo hay.\n",
    "for analisis in [d for i, d in enumerate(lista_de_análisis) if \"dc\" in d.values() or \"tran\" in d.values()]:\n",
    "    analisis['outfile'] = files_directory + \"simulación_\" + analisis['type'] + \".tsv\"\n"
   ]
  },
  {
   "cell_type": "markdown",
   "metadata": {},
   "source": [
    " Imprimimos los resultados del análisis `.op`."
   ]
  },
  {
   "cell_type": "code",
   "execution_count": 66,
   "metadata": {},
   "outputs": [
    {
     "name": "stdout",
     "output_type": "stream",
     "text": [
      "OP simulation results for '* resistencias en paralelo'(netlist files\\resistencias_en_paralelo_2.cir).\n",
      "Run on 2020-12-19 12:00:32, data file None.\n",
      "Variable    Units          Value         Error    %\n",
      "----------  -------  -----------  ------------  ---\n",
      "V1          V         9           -8.99997e-12    0\n",
      "V4          V         1.5         -1.5e-12        0\n",
      "V6          V         0           -8.67362e-19    0\n",
      "V2          V         7.29441     -7.29442e-12    0\n",
      "V3          V         6.39285     -6.39285e-12    0\n",
      "V5          V         2.29487     -2.29487e-12    0\n",
      "I(V1)       A        -0.0362891    0              0\n",
      "I(V2)       A         0.0321912    0              0\n",
      "I(VDUMMY)   A         0.00409798   0              0\n"
     ]
    }
   ],
   "source": [
    "print(resultados['op'])\n"
   ]
  },
  {
   "cell_type": "markdown",
   "metadata": {},
   "source": [
    " Comprobamos que se cumple la Ley de Kirchhoff para las corrientes\n",
    "\n",
    " La corriente total es:"
   ]
  },
  {
   "cell_type": "code",
   "execution_count": 67,
   "metadata": {},
   "outputs": [
    {
     "data": {
      "text/latex": [
       "$\\displaystyle 0.036289 \\text{A}$"
      ],
      "text/plain": [
       "0.036289*ampere"
      ]
     },
     "execution_count": 67,
     "metadata": {},
     "output_type": "execute_result"
    }
   ],
   "source": [
    "intensidad_total = -resultados['op'].results._dict['I(V1)']*amperes\n",
    "convert_to(intensidad_total, [amperes]).n(5)\n"
   ]
  },
  {
   "cell_type": "markdown",
   "metadata": {},
   "source": [
    " La suma de las corrientes de las mallas es:"
   ]
  },
  {
   "cell_type": "code",
   "execution_count": 68,
   "metadata": {},
   "outputs": [
    {
     "data": {
      "text/latex": [
       "$\\displaystyle 0.036289 \\text{A}$"
      ],
      "text/plain": [
       "0.036289*ampere"
      ]
     },
     "execution_count": 68,
     "metadata": {},
     "output_type": "execute_result"
    }
   ],
   "source": [
    "intensidad_malla1 = resultados['op'].results._dict['I(V2)']*amperes\n",
    "intensidad_malla2 = resultados['op'].results._dict['I(VDUMMY)']*amperes\n",
    "convert_to(intensidad_malla1+intensidad_malla2, [amperes]).n(5)\n"
   ]
  },
  {
   "cell_type": "markdown",
   "metadata": {},
   "source": [
    " GENIAL !!! Se cumple la Ley de Kirchhoff"
   ]
  },
  {
   "cell_type": "markdown",
   "metadata": {},
   "source": [
    " ### Comprobemos los resultados de `Ahkab` con Sympy"
   ]
  },
  {
   "cell_type": "code",
   "execution_count": 69,
   "metadata": {},
   "outputs": [
    {
     "name": "stdout",
     "output_type": "stream",
     "text": [
      "La resistencia total del circuito es:\n"
     ]
    },
    {
     "data": {
      "text/latex": [
       "$\\displaystyle 248.01 \\Omega$"
      ],
      "text/plain": [
       "248.01*ohm"
      ]
     },
     "execution_count": 69,
     "metadata": {},
     "output_type": "execute_result"
    }
   ],
   "source": [
    "v1 = 9*volts\n",
    "v2 = 1.5*volts\n",
    "r1 = 47*ohms\n",
    "r2 = 220*ohms\n",
    "r3 = 180*ohms\n",
    "r4 = 1*kilo*ohms\n",
    "r5 = 560*ohms\n",
    "resistencia = symbols('r')\n",
    "ley_ohm = Eq(v1, intensidad_total*resistencia)\n",
    "resistencia_total = solve(ley_ohm, resistencia)\n",
    "print(\"La resistencia total del circuito es:\")\n",
    "convert_to(resistencia_total[0], [ohms]).n(5)\n"
   ]
  },
  {
   "cell_type": "markdown",
   "metadata": {},
   "source": [
    " No podemos calcular la resistencia equivalente de las dos mallas en paralelo, usando las inversas de las resistencias, como lo hemos hecho en el circuito anterior, porque hay una pila con con tensión en una de las mallas y esto provoca que no haya la misma diferencia de potencial en las dos mallas.\n",
    "\n",
    " Pero podemos calcularla conociendo la resistencia total y la resistencia de `r1`"
   ]
  },
  {
   "cell_type": "code",
   "execution_count": 70,
   "metadata": {},
   "outputs": [
    {
     "name": "stdout",
     "output_type": "stream",
     "text": [
      "La resistencia equivalente de las dos malla en paralelo es:\n"
     ]
    },
    {
     "data": {
      "text/latex": [
       "$\\displaystyle 201.01 \\Omega$"
      ],
      "text/plain": [
       "201.01*ohm"
      ]
     },
     "execution_count": 70,
     "metadata": {},
     "output_type": "execute_result"
    }
   ],
   "source": [
    "print(\"La resistencia equivalente de las dos malla en paralelo es:\")\n",
    "equiv = resistencia_total[0] - r1\n",
    "convert_to(equiv, [ohms]).n(5)\n"
   ]
  },
  {
   "cell_type": "code",
   "execution_count": 71,
   "metadata": {},
   "outputs": [
    {
     "name": "stdout",
     "output_type": "stream",
     "text": [
      "La diferencia de potencial en V2 es:\n"
     ]
    },
    {
     "data": {
      "text/latex": [
       "$\\displaystyle 7.29 \\text{V}$"
      ],
      "text/plain": [
       "7.29*volt"
      ]
     },
     "execution_count": 71,
     "metadata": {},
     "output_type": "execute_result"
    }
   ],
   "source": [
    "print(\"La diferencia de potencial en V2 es:\")\n",
    "v = symbols('v')\n",
    "ley_ohm = Eq(v, intensidad_total*r1)\n",
    "# calcular la tension entre extremos de r1\n",
    "voltaje_R1 = solve(ley_ohm, v)\n",
    "voltaje_V2 = v1-voltaje_R1[0]\n",
    "convert_to(voltaje_V2, [volts]).n(3)\n"
   ]
  },
  {
   "cell_type": "code",
   "execution_count": 72,
   "metadata": {},
   "outputs": [
    {
     "name": "stdout",
     "output_type": "stream",
     "text": [
      "La diferencia de potencial en V3 es:\n"
     ]
    },
    {
     "data": {
      "text/latex": [
       "$\\displaystyle 6.39 \\text{V}$"
      ],
      "text/plain": [
       "6.39*volt"
      ]
     },
     "execution_count": 72,
     "metadata": {},
     "output_type": "execute_result"
    }
   ],
   "source": [
    "print(\"La diferencia de potencial en V3 es:\")\n",
    "v = symbols('v')\n",
    "ley_ohm = Eq(v, intensidad_malla2*(r4+r5))\n",
    "voltaje_V3 = solve(ley_ohm, v)\n",
    "convert_to(voltaje_V3[0], [volts]).n(3)\n"
   ]
  },
  {
   "cell_type": "code",
   "execution_count": 73,
   "metadata": {},
   "outputs": [
    {
     "name": "stdout",
     "output_type": "stream",
     "text": [
      "La diferencia de potencial en V4 es:\n"
     ]
    },
    {
     "data": {
      "text/latex": [
       "$\\displaystyle 1.5 \\text{V}$"
      ],
      "text/plain": [
       "1.5*volt"
      ]
     },
     "execution_count": 73,
     "metadata": {},
     "output_type": "execute_result"
    }
   ],
   "source": [
    "print(\"La diferencia de potencial en V4 es:\")\n",
    "voltaje_V4 = v2\n",
    "convert_to(voltaje_V4, [volts]).n(3)\n"
   ]
  },
  {
   "cell_type": "code",
   "execution_count": 74,
   "metadata": {},
   "outputs": [
    {
     "name": "stdout",
     "output_type": "stream",
     "text": [
      "La diferencia de potencial en V5 es:\n"
     ]
    },
    {
     "data": {
      "text/latex": [
       "$\\displaystyle 2.29 \\text{V}$"
      ],
      "text/plain": [
       "2.29*volt"
      ]
     },
     "execution_count": 74,
     "metadata": {},
     "output_type": "execute_result"
    }
   ],
   "source": [
    "print(\"La diferencia de potencial en V5 es:\")\n",
    "v = symbols('v')\n",
    "ley_ohm = Eq(v, intensidad_malla2*r5)\n",
    "voltaje_V5 = solve(ley_ohm, v)\n",
    "convert_to(voltaje_V5[0], [volts]).n(3)\n",
    "\n",
    "\n",
    "\n",
    "\n",
    "\n",
    "\n"
   ]
  },
  {
   "cell_type": "markdown",
   "metadata": {},
   "source": [
    " Puesto que no sabemos como esta afectando la pila que hay en serie con `R3`, es mas sencillo calcular la tensión en el nodo 2, restando a `v1` la diferencia de potencial entre extremos de `R1`."
   ]
  },
  {
   "cell_type": "code",
   "execution_count": 75,
   "metadata": {},
   "outputs": [
    {
     "name": "stdout",
     "output_type": "stream",
     "text": [
      "La diferencia de potencial en V2 es:\n"
     ]
    },
    {
     "data": {
      "text/latex": [
       "$\\displaystyle 7.29 \\text{V}$"
      ],
      "text/plain": [
       "7.29*volt"
      ]
     },
     "execution_count": 75,
     "metadata": {},
     "output_type": "execute_result"
    }
   ],
   "source": [
    "print(\"La diferencia de potencial en V2 es:\")\n",
    "v = symbols('v')\n",
    "ley_ohm = Eq(v, intensidad_total*r1)\n",
    "# calcular la tension entre extremos de r1\n",
    "voltaje_R1 = solve(ley_ohm, v)\n",
    "voltaje_V2 = v1-voltaje_R1[0]\n",
    "convert_to(voltaje_V2, [volts]).n(3)\n"
   ]
  },
  {
   "cell_type": "code",
   "execution_count": 76,
   "metadata": {},
   "outputs": [
    {
     "data": {
      "text/latex": [
       "$\\displaystyle 7.29440996800155 \\text{V}$"
      ],
      "text/plain": [
       "7.29440996800155*volt"
      ]
     },
     "execution_count": 76,
     "metadata": {},
     "output_type": "execute_result"
    }
   ],
   "source": [
    "resultados['op'].results._dict['V2']*volts\n"
   ]
  },
  {
   "cell_type": "markdown",
   "metadata": {},
   "source": [
    " Puesto que no sabemos como esta afectando la pila que hay en serie con `R3`, es mas sencillo calcular la tensión en el nodo 2, restando a `v1` la diferencia de potencial entre extremos de `R1`.\n",
    "\n",
    " La diferencia de potencial en V2 según `Ahkab` es:"
   ]
  },
  {
   "cell_type": "code",
   "execution_count": 77,
   "metadata": {},
   "outputs": [
    {
     "data": {
      "text/latex": [
       "$\\displaystyle 7.29440996800155 \\text{V}$"
      ],
      "text/plain": [
       "7.29440996800155*volt"
      ]
     },
     "execution_count": 77,
     "metadata": {},
     "output_type": "execute_result"
    }
   ],
   "source": [
    "resultados['op'].results._dict['V2']*volts"
   ]
  },
  {
   "cell_type": "markdown",
   "metadata": {},
   "source": [
    " Comprobamos diferencia de potencial en V2 con Sympy:"
   ]
  },
  {
   "cell_type": "code",
   "execution_count": 78,
   "metadata": {},
   "outputs": [
    {
     "data": {
      "text/latex": [
       "$\\displaystyle 7.29 \\text{V}$"
      ],
      "text/plain": [
       "7.29*volt"
      ]
     },
     "execution_count": 78,
     "metadata": {},
     "output_type": "execute_result"
    }
   ],
   "source": [
    "v = symbols('v')\n",
    "ley_ohm = Eq(v, intensidad_total*r1)\n",
    "# calcular la tension entre extremos de r1\n",
    "voltaje_R1 = solve(ley_ohm, v)\n",
    "voltaje_V2 = v1-voltaje_R1[0]\n",
    "convert_to(voltaje_V2, [volts]).n(3)\n"
   ]
  },
  {
   "cell_type": "markdown",
   "metadata": {},
   "source": [
    " Para calcula la diferencia de potencial en V3 aplicamos la *Ley de Ohm* para la corriente devuelta por `Ahkab` para la pila dummy y la suma de las resistencias `R4` y `R5`.\n",
    "\n",
    " La diferencia de potencial en V3 según `Ahkab` es:"
   ]
  },
  {
   "cell_type": "code",
   "execution_count": 79,
   "metadata": {},
   "outputs": [
    {
     "data": {
      "text/latex": [
       "$\\displaystyle 6.39285367982158 \\text{V}$"
      ],
      "text/plain": [
       "6.39285367982158*volt"
      ]
     },
     "execution_count": 79,
     "metadata": {},
     "output_type": "execute_result"
    }
   ],
   "source": [
    "resultados['op'].results._dict['V3']*volts\n"
   ]
  }
 ],
 "metadata": {
  "kernelspec": {
   "display_name": "Python 3",
   "language": "python",
   "name": "python3"
  },
  "language_info": {
   "codemirror_mode": {
    "name": "ipython",
    "version": 3
   },
   "file_extension": ".py",
   "mimetype": "text/x-python",
   "name": "python",
   "nbconvert_exporter": "python",
   "pygments_lexer": "ipython3",
   "version": "3.7.9"
  }
 },
 "nbformat": 4,
 "nbformat_minor": 2
}
